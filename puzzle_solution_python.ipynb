{
 "cells": [
  {
   "cell_type": "markdown",
   "metadata": {},
   "source": [
    "# Priceonomics Data Puzzle"
   ]
  },
  {
   "cell_type": "markdown",
   "metadata": {},
   "source": [
    "Author: Jai Miles\n",
    "\n",
    "Date: 07/01/2020\n",
    "\n",
    "\n",
    "\n",
    "[GitHubLink](https://github.com/jaimiles23/Priceonomics_Data_Puzzle)\n",
    "\n",
    "\n",
    "[Source](https://priceonomics.com/the-priceonomics-data-puzzle-treefortbnb/)\n",
    "\n",
    "\n",
    "Purpose: Priceonomics Puzzle\n",
    "\n",
    "Challenge: Tell us the median price of booking a room in each of the top 100 cities in this data set. \n",
    "\n",
    "\n",
    "\n",
    "Stated Considerations:\n",
    "- More specifically, send us back a table with a list of the median price in each city, ranked from most to least expensive. \n",
    "- Restrict your analysis to just to the \\\"top 100\\\" cities that have the most units on the market.\n",
    "\n",
    "\n",
    "Extra Considerations:\n",
    "- There may be duplicate city names in different states. \n",
    "  I will handle this by first grouping cities & states and then counting cities.\n",
    "  NOTE: Some of these duplicates may be from data entry, e.g., Berkeley, CO is a city neighborhood.\n",
    "\n",
    "- Don't assume that all data has uniform input.\n",
    "  After working with the data, I discovered case inconsistencies, \n",
    "  e.g., New York, NY vs new york, NY. In analysis, I considered these the same cities.\n",
    "\n",
    "- Some locations may be listed under different names. \n",
    "  After grouping the data, I noticed that Miami and Miami beach are both listed. \n",
    "  With some research, I decided to group the two separately.\n",
    "  https://www.tripadvisor.com/ShowTopic-g34438-i92-k1409657-Whats_the_difference_between_miami_and_miami_beach-Miami_Florida.html"
   ]
  },
  {
   "cell_type": "markdown",
   "metadata": {},
   "source": [
    "<h1 id=\"tocheading\">Table of Contents</h1>\n",
    "<div id=\"toc\"></div>"
   ]
  },
  {
   "cell_type": "code",
   "execution_count": 1,
   "metadata": {},
   "outputs": [
    {
     "data": {
      "application/javascript": [
       "$.getScript('https://kmahelona.github.io/ipython_notebook_goodies/ipython_notebook_toc.js')\n"
      ],
      "text/plain": [
       "<IPython.core.display.Javascript object>"
      ]
     },
     "metadata": {},
     "output_type": "display_data"
    }
   ],
   "source": [
    "%%javascript\n",
    "$.getScript('https://kmahelona.github.io/ipython_notebook_goodies/ipython_notebook_toc.js')"
   ]
  },
  {
   "cell_type": "markdown",
   "metadata": {},
   "source": [
    "# Libraries"
   ]
  },
  {
   "cell_type": "markdown",
   "metadata": {},
   "source": [
    "Import libraries"
   ]
  },
  {
   "cell_type": "code",
   "execution_count": 2,
   "metadata": {},
   "outputs": [],
   "source": [
    "import os\n",
    "\n",
    "\n",
    "from matplotlib import pyplot as plt\n",
    "import numpy as np\n",
    "import pandas as pd\n",
    "import seaborn as sns\n",
    "\n",
    "%matplotlib inline"
   ]
  },
  {
   "cell_type": "markdown",
   "metadata": {},
   "source": [
    "# Data Import"
   ]
  },
  {
   "cell_type": "markdown",
   "metadata": {},
   "source": [
    "Import data"
   ]
  },
  {
   "cell_type": "code",
   "execution_count": 3,
   "metadata": {},
   "outputs": [],
   "source": [
    "# os.getcwd()\n",
    "filename_weburl = \"https://pix-media.priceonomics-media.com/Data+for+TreefortBnB+Puzzle.csv\"\n",
    "\n",
    "df = pd.read_csv(filename_weburl)"
   ]
  },
  {
   "cell_type": "code",
   "execution_count": 4,
   "metadata": {},
   "outputs": [
    {
     "data": {
      "text/html": [
       "<div>\n",
       "<style scoped>\n",
       "    .dataframe tbody tr th:only-of-type {\n",
       "        vertical-align: middle;\n",
       "    }\n",
       "\n",
       "    .dataframe tbody tr th {\n",
       "        vertical-align: top;\n",
       "    }\n",
       "\n",
       "    .dataframe thead th {\n",
       "        text-align: right;\n",
       "    }\n",
       "</style>\n",
       "<table border=\"1\" class=\"dataframe\">\n",
       "  <thead>\n",
       "    <tr style=\"text-align: right;\">\n",
       "      <th></th>\n",
       "      <th>Unique id</th>\n",
       "      <th>City</th>\n",
       "      <th>State</th>\n",
       "      <th>$ Price</th>\n",
       "      <th># of Reviews</th>\n",
       "    </tr>\n",
       "  </thead>\n",
       "  <tbody>\n",
       "    <tr>\n",
       "      <th>0</th>\n",
       "      <td>1</td>\n",
       "      <td>Portland</td>\n",
       "      <td>OR</td>\n",
       "      <td>75</td>\n",
       "      <td>5</td>\n",
       "    </tr>\n",
       "    <tr>\n",
       "      <th>1</th>\n",
       "      <td>2</td>\n",
       "      <td>San Diego</td>\n",
       "      <td>CA</td>\n",
       "      <td>95</td>\n",
       "      <td>3</td>\n",
       "    </tr>\n",
       "    <tr>\n",
       "      <th>2</th>\n",
       "      <td>3</td>\n",
       "      <td>New York</td>\n",
       "      <td>NY</td>\n",
       "      <td>149</td>\n",
       "      <td>37</td>\n",
       "    </tr>\n",
       "    <tr>\n",
       "      <th>3</th>\n",
       "      <td>4</td>\n",
       "      <td>Los Angeles</td>\n",
       "      <td>CA</td>\n",
       "      <td>199</td>\n",
       "      <td>45</td>\n",
       "    </tr>\n",
       "    <tr>\n",
       "      <th>4</th>\n",
       "      <td>5</td>\n",
       "      <td>Denver</td>\n",
       "      <td>CO</td>\n",
       "      <td>56</td>\n",
       "      <td>99</td>\n",
       "    </tr>\n",
       "  </tbody>\n",
       "</table>\n",
       "</div>"
      ],
      "text/plain": [
       "   Unique id         City State  $ Price  # of Reviews\n",
       "0          1     Portland    OR       75             5\n",
       "1          2    San Diego    CA       95             3\n",
       "2          3     New York    NY      149            37\n",
       "3          4  Los Angeles    CA      199            45\n",
       "4          5       Denver    CO       56            99"
      ]
     },
     "execution_count": 4,
     "metadata": {},
     "output_type": "execute_result"
    }
   ],
   "source": [
    "df.head()"
   ]
  },
  {
   "cell_type": "markdown",
   "metadata": {},
   "source": [
    "# Data Wrangling"
   ]
  },
  {
   "cell_type": "markdown",
   "metadata": {},
   "source": [
    "## Clean column names"
   ]
  },
  {
   "cell_type": "code",
   "execution_count": 5,
   "metadata": {},
   "outputs": [
    {
     "name": "stdout",
     "output_type": "stream",
     "text": [
      "Index(['Unique id', 'City', 'State', '$ Price', '# of Reviews'], dtype='object')\n",
      "Index(['id', 'city', 'state', 'price_usd', 'num_reviews'], dtype='object')\n"
     ]
    }
   ],
   "source": [
    "print(df.columns)\n",
    "\n",
    "col_names = (\n",
    "    \"id\",\n",
    "    \"city\",\n",
    "    \"state\",\n",
    "    \"price_usd\",\n",
    "    \"num_reviews\",\n",
    ")\n",
    "\n",
    "df.columns = col_names\n",
    "print(df.columns)"
   ]
  },
  {
   "cell_type": "markdown",
   "metadata": {},
   "source": [
    "## Check for missing values"
   ]
  },
  {
   "cell_type": "code",
   "execution_count": 6,
   "metadata": {},
   "outputs": [
    {
     "name": "stdout",
     "output_type": "stream",
     "text": [
      "False\tid\n",
      "False\tcity\n",
      "False\tstate\n",
      "False\tprice_usd\n",
      "False\tnum_reviews\n"
     ]
    },
    {
     "data": {
      "image/png": "[encoded data removed]",
      "text/plain": [
       "<Figure size 432x288 with 2 Axes>"
      ]
     },
     "metadata": {
      "needs_background": "light"
     },
     "output_type": "display_data"
    }
   ],
   "source": [
    "## Visual check\n",
    "sns.heatmap(\n",
    "    df.isnull(),\n",
    "    yticklabels = False,\n",
    "    cbar = True,\n",
    ")\n",
    "\n",
    "## check each column for missing values\n",
    "for col in df.columns:\n",
    "    are_null = df[[col]].isnull().values.any()\n",
    "    print(are_null, col, sep = \"\\t\")"
   ]
  },
  {
   "cell_type": "markdown",
   "metadata": {},
   "source": [
    "## Check data types"
   ]
  },
  {
   "cell_type": "code",
   "execution_count": 7,
   "metadata": {},
   "outputs": [
    {
     "data": {
      "text/plain": [
       "id              int64\n",
       "city           object\n",
       "state          object\n",
       "price_usd       int64\n",
       "num_reviews     int64\n",
       "dtype: object"
      ]
     },
     "execution_count": 7,
     "metadata": {},
     "output_type": "execute_result"
    }
   ],
   "source": [
    "df.dtypes"
   ]
  },
  {
   "cell_type": "markdown",
   "metadata": {},
   "source": [
    "## Clean string data"
   ]
  },
  {
   "cell_type": "code",
   "execution_count": 8,
   "metadata": {},
   "outputs": [
    {
     "data": {
      "text/html": [
       "<div>\n",
       "<style scoped>\n",
       "    .dataframe tbody tr th:only-of-type {\n",
       "        vertical-align: middle;\n",
       "    }\n",
       "\n",
       "    .dataframe tbody tr th {\n",
       "        vertical-align: top;\n",
       "    }\n",
       "\n",
       "    .dataframe thead th {\n",
       "        text-align: right;\n",
       "    }\n",
       "</style>\n",
       "<table border=\"1\" class=\"dataframe\">\n",
       "  <thead>\n",
       "    <tr style=\"text-align: right;\">\n",
       "      <th></th>\n",
       "      <th>id</th>\n",
       "      <th>city</th>\n",
       "      <th>state</th>\n",
       "      <th>price_usd</th>\n",
       "      <th>num_reviews</th>\n",
       "    </tr>\n",
       "  </thead>\n",
       "  <tbody>\n",
       "    <tr>\n",
       "      <th>0</th>\n",
       "      <td>1</td>\n",
       "      <td>Portland</td>\n",
       "      <td>OR</td>\n",
       "      <td>75</td>\n",
       "      <td>5</td>\n",
       "    </tr>\n",
       "    <tr>\n",
       "      <th>1</th>\n",
       "      <td>2</td>\n",
       "      <td>San Diego</td>\n",
       "      <td>CA</td>\n",
       "      <td>95</td>\n",
       "      <td>3</td>\n",
       "    </tr>\n",
       "    <tr>\n",
       "      <th>2</th>\n",
       "      <td>3</td>\n",
       "      <td>New York</td>\n",
       "      <td>NY</td>\n",
       "      <td>149</td>\n",
       "      <td>37</td>\n",
       "    </tr>\n",
       "    <tr>\n",
       "      <th>3</th>\n",
       "      <td>4</td>\n",
       "      <td>Los Angeles</td>\n",
       "      <td>CA</td>\n",
       "      <td>199</td>\n",
       "      <td>45</td>\n",
       "    </tr>\n",
       "    <tr>\n",
       "      <th>4</th>\n",
       "      <td>5</td>\n",
       "      <td>Denver</td>\n",
       "      <td>CO</td>\n",
       "      <td>56</td>\n",
       "      <td>99</td>\n",
       "    </tr>\n",
       "  </tbody>\n",
       "</table>\n",
       "</div>"
      ],
      "text/plain": [
       "   id         city state  price_usd  num_reviews\n",
       "0   1     Portland    OR         75            5\n",
       "1   2    San Diego    CA         95            3\n",
       "2   3     New York    NY        149           37\n",
       "3   4  Los Angeles    CA        199           45\n",
       "4   5       Denver    CO         56           99"
      ]
     },
     "execution_count": 8,
     "metadata": {},
     "output_type": "execute_result"
    }
   ],
   "source": [
    "##########\n",
    "# Define cleaning functions\n",
    "##########\n",
    "\n",
    "def clean_city_col(df: object) -> object:\n",
    "    \"\"\"Cleans column of city names to title case & strips white space.\"\"\"\n",
    "    col_name = 'city'\n",
    "    if col_name not in df.columns:\n",
    "        print(f\"{col_name} not found in column names:\\n\", df.columns)\n",
    "        return df\n",
    "    \n",
    "    df[col_name] = df.loc[:, col_name].str.title().str.strip()\n",
    "    return df\n",
    "\n",
    "\n",
    "def clean_state_col(df: object) -> object:\n",
    "    \"\"\"Cleans column of states abbrev: upper case & strips white space.\"\"\"\n",
    "    col_name = 'state'\n",
    "    if col_name not in df.columns:\n",
    "        print(f\"{col_name} not found in column names:\\n\", df.columns)\n",
    "        return df\n",
    "    \n",
    "    df[col_name] = df.loc[:, col_name].str.upper().str.strip()\n",
    "    return df\n",
    "\n",
    "\n",
    "##########\n",
    "# Pipe functions\n",
    "##########\n",
    "\n",
    "df = (\n",
    "    df\n",
    "    .pipe(clean_city_col)\n",
    "    .pipe(clean_state_col)\n",
    ")\n",
    "\n",
    "df.head()\n"
   ]
  },
  {
   "cell_type": "markdown",
   "metadata": {},
   "source": [
    "# Analysis"
   ]
  },
  {
   "cell_type": "markdown",
   "metadata": {},
   "source": [
    "## 100 cities w/ most units on market"
   ]
  },
  {
   "cell_type": "code",
   "execution_count": 9,
   "metadata": {
    "scrolled": true
   },
   "outputs": [
    {
     "data": {
      "text/html": [
       "<div>\n",
       "<style scoped>\n",
       "    .dataframe tbody tr th:only-of-type {\n",
       "        vertical-align: middle;\n",
       "    }\n",
       "\n",
       "    .dataframe tbody tr th {\n",
       "        vertical-align: top;\n",
       "    }\n",
       "\n",
       "    .dataframe thead th {\n",
       "        text-align: right;\n",
       "    }\n",
       "</style>\n",
       "<table border=\"1\" class=\"dataframe\">\n",
       "  <thead>\n",
       "    <tr style=\"text-align: right;\">\n",
       "      <th></th>\n",
       "      <th></th>\n",
       "      <th>count</th>\n",
       "      <th>median_price_usd</th>\n",
       "    </tr>\n",
       "    <tr>\n",
       "      <th>city</th>\n",
       "      <th>state</th>\n",
       "      <th></th>\n",
       "      <th></th>\n",
       "    </tr>\n",
       "  </thead>\n",
       "  <tbody>\n",
       "    <tr>\n",
       "      <th>Indianapolis</th>\n",
       "      <th>IN</th>\n",
       "      <td>251.0</td>\n",
       "      <td>650.0</td>\n",
       "    </tr>\n",
       "    <tr>\n",
       "      <th>Malibu</th>\n",
       "      <th>CA</th>\n",
       "      <td>92.0</td>\n",
       "      <td>304.0</td>\n",
       "    </tr>\n",
       "    <tr>\n",
       "      <th>Park City</th>\n",
       "      <th>UT</th>\n",
       "      <td>229.0</td>\n",
       "      <td>299.0</td>\n",
       "    </tr>\n",
       "    <tr>\n",
       "      <th>Truckee</th>\n",
       "      <th>NV</th>\n",
       "      <td>67.0</td>\n",
       "      <td>275.0</td>\n",
       "    </tr>\n",
       "    <tr>\n",
       "      <th>Healdsburg</th>\n",
       "      <th>CA</th>\n",
       "      <td>49.0</td>\n",
       "      <td>275.0</td>\n",
       "    </tr>\n",
       "  </tbody>\n",
       "</table>\n",
       "</div>"
      ],
      "text/plain": [
       "                    count  median_price_usd\n",
       "city         state                         \n",
       "Indianapolis IN     251.0             650.0\n",
       "Malibu       CA      92.0             304.0\n",
       "Park City    UT     229.0             299.0\n",
       "Truckee      NV      67.0             275.0\n",
       "Healdsburg   CA      49.0             275.0"
      ]
     },
     "execution_count": 9,
     "metadata": {},
     "output_type": "execute_result"
    }
   ],
   "source": [
    "\"\"\"\n",
    "1. Group by city, then state. Select price column\n",
    "2. Describe for characteristics of data set\n",
    "3. Sort values by count, in descending order\n",
    "4. Take top 100 values, and the median column (Q2, 50%)\n",
    "5. Convert back to dataframe\n",
    "6. Rename median column\n",
    "7. Sort values based on median price USD, then by count\n",
    "\"\"\"\n",
    "df_top_cities = (\n",
    "    df \n",
    "    .groupby( ['city', 'state'])['price_usd'] \n",
    "    .describe() \n",
    "    .sort_values( 'count', ascending = False) \n",
    "    .head(100)[['count', '50%']] \n",
    "    .rename( columns = { '50%' : 'median_price_usd'}) \n",
    "    .sort_values(by = ['median_price_usd', 'count'], ascending = False)\n",
    ")\n",
    "\n",
    "\n",
    "df_top_cities.head()"
   ]
  },
  {
   "cell_type": "code",
   "execution_count": 10,
   "metadata": {
    "scrolled": false
   },
   "outputs": [
    {
     "data": {
      "text/html": [
       "<div>\n",
       "<style scoped>\n",
       "    .dataframe tbody tr th:only-of-type {\n",
       "        vertical-align: middle;\n",
       "    }\n",
       "\n",
       "    .dataframe tbody tr th {\n",
       "        vertical-align: top;\n",
       "    }\n",
       "\n",
       "    .dataframe thead th {\n",
       "        text-align: right;\n",
       "    }\n",
       "</style>\n",
       "<table border=\"1\" class=\"dataframe\">\n",
       "  <thead>\n",
       "    <tr style=\"text-align: right;\">\n",
       "      <th></th>\n",
       "      <th></th>\n",
       "      <th>count</th>\n",
       "      <th>median_price_usd</th>\n",
       "    </tr>\n",
       "    <tr>\n",
       "      <th>city</th>\n",
       "      <th>state</th>\n",
       "      <th></th>\n",
       "      <th></th>\n",
       "    </tr>\n",
       "  </thead>\n",
       "  <tbody>\n",
       "    <tr>\n",
       "      <th>Indianapolis</th>\n",
       "      <th>IN</th>\n",
       "      <td>251.0</td>\n",
       "      <td>650.0</td>\n",
       "    </tr>\n",
       "    <tr>\n",
       "      <th>Malibu</th>\n",
       "      <th>CA</th>\n",
       "      <td>92.0</td>\n",
       "      <td>304.0</td>\n",
       "    </tr>\n",
       "    <tr>\n",
       "      <th>Park City</th>\n",
       "      <th>UT</th>\n",
       "      <td>229.0</td>\n",
       "      <td>299.0</td>\n",
       "    </tr>\n",
       "    <tr>\n",
       "      <th>Truckee</th>\n",
       "      <th>NV</th>\n",
       "      <td>67.0</td>\n",
       "      <td>275.0</td>\n",
       "    </tr>\n",
       "    <tr>\n",
       "      <th>Healdsburg</th>\n",
       "      <th>CA</th>\n",
       "      <td>49.0</td>\n",
       "      <td>275.0</td>\n",
       "    </tr>\n",
       "  </tbody>\n",
       "</table>\n",
       "</div>"
      ],
      "text/plain": [
       "                    count  median_price_usd\n",
       "city         state                         \n",
       "Indianapolis IN     251.0             650.0\n",
       "Malibu       CA      92.0             304.0\n",
       "Park City    UT     229.0             299.0\n",
       "Truckee      NV      67.0             275.0\n",
       "Healdsburg   CA      49.0             275.0"
      ]
     },
     "execution_count": 10,
     "metadata": {},
     "output_type": "execute_result"
    }
   ],
   "source": [
    "# pd.set_option('display.max_rows', None)\n",
    "\n",
    "df_top_cities.head()"
   ]
  },
  {
   "cell_type": "markdown",
   "metadata": {},
   "source": [
    "groupby created a multi-index. Need to reset the dataframe index."
   ]
  },
  {
   "cell_type": "code",
   "execution_count": 11,
   "metadata": {},
   "outputs": [
    {
     "name": "stdout",
     "output_type": "stream",
     "text": [
      "<class 'pandas.core.frame.DataFrame'>\n"
     ]
    },
    {
     "data": {
      "text/html": [
       "<div>\n",
       "<style scoped>\n",
       "    .dataframe tbody tr th:only-of-type {\n",
       "        vertical-align: middle;\n",
       "    }\n",
       "\n",
       "    .dataframe tbody tr th {\n",
       "        vertical-align: top;\n",
       "    }\n",
       "\n",
       "    .dataframe thead th {\n",
       "        text-align: right;\n",
       "    }\n",
       "</style>\n",
       "<table border=\"1\" class=\"dataframe\">\n",
       "  <thead>\n",
       "    <tr style=\"text-align: right;\">\n",
       "      <th></th>\n",
       "      <th>city</th>\n",
       "      <th>state</th>\n",
       "      <th>count</th>\n",
       "      <th>median_price_usd</th>\n",
       "    </tr>\n",
       "  </thead>\n",
       "  <tbody>\n",
       "    <tr>\n",
       "      <th>0</th>\n",
       "      <td>Indianapolis</td>\n",
       "      <td>IN</td>\n",
       "      <td>251.0</td>\n",
       "      <td>650.0</td>\n",
       "    </tr>\n",
       "    <tr>\n",
       "      <th>1</th>\n",
       "      <td>Malibu</td>\n",
       "      <td>CA</td>\n",
       "      <td>92.0</td>\n",
       "      <td>304.0</td>\n",
       "    </tr>\n",
       "    <tr>\n",
       "      <th>2</th>\n",
       "      <td>Park City</td>\n",
       "      <td>UT</td>\n",
       "      <td>229.0</td>\n",
       "      <td>299.0</td>\n",
       "    </tr>\n",
       "    <tr>\n",
       "      <th>3</th>\n",
       "      <td>Truckee</td>\n",
       "      <td>NV</td>\n",
       "      <td>67.0</td>\n",
       "      <td>275.0</td>\n",
       "    </tr>\n",
       "    <tr>\n",
       "      <th>4</th>\n",
       "      <td>Healdsburg</td>\n",
       "      <td>CA</td>\n",
       "      <td>49.0</td>\n",
       "      <td>275.0</td>\n",
       "    </tr>\n",
       "  </tbody>\n",
       "</table>\n",
       "</div>"
      ],
      "text/plain": [
       "           city state  count  median_price_usd\n",
       "0  Indianapolis    IN  251.0             650.0\n",
       "1        Malibu    CA   92.0             304.0\n",
       "2     Park City    UT  229.0             299.0\n",
       "3       Truckee    NV   67.0             275.0\n",
       "4    Healdsburg    CA   49.0             275.0"
      ]
     },
     "execution_count": 11,
     "metadata": {},
     "output_type": "execute_result"
    }
   ],
   "source": [
    "print(type(df_top_cities))\n",
    "\n",
    "df_top_cities.reset_index().head()"
   ]
  },
  {
   "cell_type": "markdown",
   "metadata": {},
   "source": [
    "df_top_cities shows the most expensive treefort-bnb cities in the United States, by medium price."
   ]
  },
  {
   "cell_type": "markdown",
   "metadata": {},
   "source": [
    "# Exploratory analysis"
   ]
  },
  {
   "cell_type": "markdown",
   "metadata": {},
   "source": [
    "There is a distinct difference between the two most expensive cities: Indianapolis, IN and Malibu, CA.\n",
    "\n",
    "Indianapolis is 2x more expensive than Malibu, which is an unexpected result. \n",
    "Additionally, the median is a robust statistic and thus there is a possibility that there are multiple anonmalies in the data."
   ]
  },
  {
   "cell_type": "code",
   "execution_count": 12,
   "metadata": {
    "scrolled": true
   },
   "outputs": [
    {
     "data": {
      "text/plain": [
       "count    42802.000000\n",
       "mean       187.117074\n",
       "std        263.002109\n",
       "min         10.000000\n",
       "25%         90.000000\n",
       "50%        130.000000\n",
       "75%        200.000000\n",
       "max      10000.000000\n",
       "Name: price_usd, dtype: float64"
      ]
     },
     "execution_count": 12,
     "metadata": {},
     "output_type": "execute_result"
    }
   ],
   "source": [
    "## Check descriptive statistics for price_usd\n",
    "df['price_usd'].describe()"
   ]
  },
  {
   "cell_type": "markdown",
   "metadata": {},
   "source": [
    "The max price is 10,000 USD and Q3 is 200 USD!\n",
    "\n",
    "There is something strange here that needs more exploring."
   ]
  },
  {
   "cell_type": "markdown",
   "metadata": {},
   "source": [
    "## Identify outliers"
   ]
  },
  {
   "cell_type": "markdown",
   "metadata": {},
   "source": [
    "Although the median is a robust statistic, it's possible that a large quantity of outliers are still offsetting the data."
   ]
  },
  {
   "cell_type": "code",
   "execution_count": 13,
   "metadata": {
    "scrolled": true
   },
   "outputs": [
    {
     "data": {
      "image/png": "[encoded data removed]",
      "text/plain": [
       "<Figure size 1080x720 with 1 Axes>"
      ]
     },
     "metadata": {
      "needs_background": "light"
     },
     "output_type": "display_data"
    }
   ],
   "source": [
    "hist_price_usd = df.hist(\n",
    "    column = 'price_usd',\n",
    "    bins = 25,\n",
    "    figsize = (15, 10),\n",
    "    log = True    # to veiw data\n",
    ")\n",
    "\n",
    "axes = hist_price_usd[0]\n",
    "for x in axes:\n",
    "    # TItle\n",
    "    x.set_title(\"Histogram of Unit Price Listings\", weight = 'bold', size = 15)\n",
    "\n",
    "    # Axis labels\n",
    "    x.set_xlabel(\"Price in USD\", labelpad=20, weight='bold', size=12)\n",
    "    x.set_ylabel(\"Counts\", labelpad=20, weight='bold', size=12)\n",
    "    \n",
    "    ## Remove ticks\n",
    "    x.tick_params(bottom = 'off', left = 'off')\n"
   ]
  },
  {
   "cell_type": "markdown",
   "metadata": {},
   "source": [
    "Histogram shows that there are units listed above $2,000.\n",
    "\n",
    "Additionally, there are even some units listed at $10,000.\n"
   ]
  },
  {
   "cell_type": "code",
   "execution_count": 14,
   "metadata": {},
   "outputs": [
    {
     "data": {
      "text/html": [
       "<div>\n",
       "<style scoped>\n",
       "    .dataframe tbody tr th:only-of-type {\n",
       "        vertical-align: middle;\n",
       "    }\n",
       "\n",
       "    .dataframe tbody tr th {\n",
       "        vertical-align: top;\n",
       "    }\n",
       "\n",
       "    .dataframe thead th {\n",
       "        text-align: right;\n",
       "    }\n",
       "</style>\n",
       "<table border=\"1\" class=\"dataframe\">\n",
       "  <thead>\n",
       "    <tr style=\"text-align: right;\">\n",
       "      <th></th>\n",
       "      <th>id</th>\n",
       "      <th>city</th>\n",
       "      <th>state</th>\n",
       "      <th>price_usd</th>\n",
       "      <th>num_reviews</th>\n",
       "    </tr>\n",
       "  </thead>\n",
       "  <tbody>\n",
       "    <tr>\n",
       "      <th>26232</th>\n",
       "      <td>26233</td>\n",
       "      <td>Park City</td>\n",
       "      <td>UT</td>\n",
       "      <td>10000</td>\n",
       "      <td>0</td>\n",
       "    </tr>\n",
       "    <tr>\n",
       "      <th>8867</th>\n",
       "      <td>8868</td>\n",
       "      <td>Park City</td>\n",
       "      <td>UT</td>\n",
       "      <td>10000</td>\n",
       "      <td>1</td>\n",
       "    </tr>\n",
       "    <tr>\n",
       "      <th>28626</th>\n",
       "      <td>28627</td>\n",
       "      <td>Miami Beach</td>\n",
       "      <td>FL</td>\n",
       "      <td>10000</td>\n",
       "      <td>0</td>\n",
       "    </tr>\n",
       "    <tr>\n",
       "      <th>2819</th>\n",
       "      <td>2820</td>\n",
       "      <td>San Francisco</td>\n",
       "      <td>CA</td>\n",
       "      <td>10000</td>\n",
       "      <td>31</td>\n",
       "    </tr>\n",
       "    <tr>\n",
       "      <th>8328</th>\n",
       "      <td>8329</td>\n",
       "      <td>Chicago</td>\n",
       "      <td>IL</td>\n",
       "      <td>6500</td>\n",
       "      <td>1</td>\n",
       "    </tr>\n",
       "    <tr>\n",
       "      <th>10332</th>\n",
       "      <td>10333</td>\n",
       "      <td>Park City</td>\n",
       "      <td>UT</td>\n",
       "      <td>6500</td>\n",
       "      <td>0</td>\n",
       "    </tr>\n",
       "    <tr>\n",
       "      <th>13431</th>\n",
       "      <td>13432</td>\n",
       "      <td>Queens</td>\n",
       "      <td>NY</td>\n",
       "      <td>6500</td>\n",
       "      <td>0</td>\n",
       "    </tr>\n",
       "    <tr>\n",
       "      <th>5135</th>\n",
       "      <td>5136</td>\n",
       "      <td>San Francisco</td>\n",
       "      <td>CA</td>\n",
       "      <td>6000</td>\n",
       "      <td>11</td>\n",
       "    </tr>\n",
       "    <tr>\n",
       "      <th>35136</th>\n",
       "      <td>35137</td>\n",
       "      <td>Miami Beach</td>\n",
       "      <td>FL</td>\n",
       "      <td>6000</td>\n",
       "      <td>0</td>\n",
       "    </tr>\n",
       "    <tr>\n",
       "      <th>38261</th>\n",
       "      <td>38262</td>\n",
       "      <td>Miami Beach</td>\n",
       "      <td>FL</td>\n",
       "      <td>5750</td>\n",
       "      <td>0</td>\n",
       "    </tr>\n",
       "    <tr>\n",
       "      <th>20279</th>\n",
       "      <td>20280</td>\n",
       "      <td>New York</td>\n",
       "      <td>NY</td>\n",
       "      <td>5600</td>\n",
       "      <td>0</td>\n",
       "    </tr>\n",
       "    <tr>\n",
       "      <th>8638</th>\n",
       "      <td>8639</td>\n",
       "      <td>Indianapolis</td>\n",
       "      <td>IN</td>\n",
       "      <td>5500</td>\n",
       "      <td>0</td>\n",
       "    </tr>\n",
       "    <tr>\n",
       "      <th>23817</th>\n",
       "      <td>23818</td>\n",
       "      <td>Park City</td>\n",
       "      <td>UT</td>\n",
       "      <td>5500</td>\n",
       "      <td>0</td>\n",
       "    </tr>\n",
       "    <tr>\n",
       "      <th>17195</th>\n",
       "      <td>17196</td>\n",
       "      <td>Boston</td>\n",
       "      <td>MA</td>\n",
       "      <td>5225</td>\n",
       "      <td>0</td>\n",
       "    </tr>\n",
       "    <tr>\n",
       "      <th>851</th>\n",
       "      <td>852</td>\n",
       "      <td>San Jose</td>\n",
       "      <td>CA</td>\n",
       "      <td>5000</td>\n",
       "      <td>0</td>\n",
       "    </tr>\n",
       "    <tr>\n",
       "      <th>31240</th>\n",
       "      <td>31241</td>\n",
       "      <td>New York</td>\n",
       "      <td>NY</td>\n",
       "      <td>5000</td>\n",
       "      <td>0</td>\n",
       "    </tr>\n",
       "    <tr>\n",
       "      <th>28253</th>\n",
       "      <td>28254</td>\n",
       "      <td>Houston</td>\n",
       "      <td>TX</td>\n",
       "      <td>5000</td>\n",
       "      <td>0</td>\n",
       "    </tr>\n",
       "    <tr>\n",
       "      <th>32996</th>\n",
       "      <td>32997</td>\n",
       "      <td>Austin</td>\n",
       "      <td>TX</td>\n",
       "      <td>5000</td>\n",
       "      <td>0</td>\n",
       "    </tr>\n",
       "    <tr>\n",
       "      <th>40102</th>\n",
       "      <td>40103</td>\n",
       "      <td>Marina Del Rey</td>\n",
       "      <td>CA</td>\n",
       "      <td>5000</td>\n",
       "      <td>0</td>\n",
       "    </tr>\n",
       "    <tr>\n",
       "      <th>23825</th>\n",
       "      <td>23826</td>\n",
       "      <td>Miami Beach</td>\n",
       "      <td>FL</td>\n",
       "      <td>5000</td>\n",
       "      <td>0</td>\n",
       "    </tr>\n",
       "    <tr>\n",
       "      <th>42373</th>\n",
       "      <td>42374</td>\n",
       "      <td>Miami Beach</td>\n",
       "      <td>FL</td>\n",
       "      <td>5000</td>\n",
       "      <td>0</td>\n",
       "    </tr>\n",
       "    <tr>\n",
       "      <th>23698</th>\n",
       "      <td>23699</td>\n",
       "      <td>Fort Lauderdale</td>\n",
       "      <td>FL</td>\n",
       "      <td>5000</td>\n",
       "      <td>0</td>\n",
       "    </tr>\n",
       "    <tr>\n",
       "      <th>16481</th>\n",
       "      <td>16482</td>\n",
       "      <td>Austin</td>\n",
       "      <td>TX</td>\n",
       "      <td>5000</td>\n",
       "      <td>0</td>\n",
       "    </tr>\n",
       "    <tr>\n",
       "      <th>15100</th>\n",
       "      <td>15101</td>\n",
       "      <td>New York</td>\n",
       "      <td>NY</td>\n",
       "      <td>5000</td>\n",
       "      <td>0</td>\n",
       "    </tr>\n",
       "    <tr>\n",
       "      <th>9282</th>\n",
       "      <td>9283</td>\n",
       "      <td>Indianapolis</td>\n",
       "      <td>IN</td>\n",
       "      <td>5000</td>\n",
       "      <td>0</td>\n",
       "    </tr>\n",
       "    <tr>\n",
       "      <th>8856</th>\n",
       "      <td>8857</td>\n",
       "      <td>Indianapolis</td>\n",
       "      <td>IN</td>\n",
       "      <td>5000</td>\n",
       "      <td>0</td>\n",
       "    </tr>\n",
       "    <tr>\n",
       "      <th>5551</th>\n",
       "      <td>5552</td>\n",
       "      <td>Beverly Hills</td>\n",
       "      <td>CA</td>\n",
       "      <td>5000</td>\n",
       "      <td>0</td>\n",
       "    </tr>\n",
       "    <tr>\n",
       "      <th>8674</th>\n",
       "      <td>8675</td>\n",
       "      <td>Indianapolis</td>\n",
       "      <td>IN</td>\n",
       "      <td>4500</td>\n",
       "      <td>0</td>\n",
       "    </tr>\n",
       "    <tr>\n",
       "      <th>7657</th>\n",
       "      <td>7658</td>\n",
       "      <td>Scottsdale</td>\n",
       "      <td>AZ</td>\n",
       "      <td>4500</td>\n",
       "      <td>2</td>\n",
       "    </tr>\n",
       "    <tr>\n",
       "      <th>16619</th>\n",
       "      <td>16620</td>\n",
       "      <td>Miami Beach</td>\n",
       "      <td>FL</td>\n",
       "      <td>4500</td>\n",
       "      <td>0</td>\n",
       "    </tr>\n",
       "    <tr>\n",
       "      <th>10326</th>\n",
       "      <td>10327</td>\n",
       "      <td>Park City</td>\n",
       "      <td>UT</td>\n",
       "      <td>4200</td>\n",
       "      <td>0</td>\n",
       "    </tr>\n",
       "    <tr>\n",
       "      <th>40959</th>\n",
       "      <td>40960</td>\n",
       "      <td>Miami</td>\n",
       "      <td>FL</td>\n",
       "      <td>4200</td>\n",
       "      <td>0</td>\n",
       "    </tr>\n",
       "  </tbody>\n",
       "</table>\n",
       "</div>"
      ],
      "text/plain": [
       "          id             city state  price_usd  num_reviews\n",
       "26232  26233        Park City    UT      10000            0\n",
       "8867    8868        Park City    UT      10000            1\n",
       "28626  28627      Miami Beach    FL      10000            0\n",
       "2819    2820    San Francisco    CA      10000           31\n",
       "8328    8329          Chicago    IL       6500            1\n",
       "10332  10333        Park City    UT       6500            0\n",
       "13431  13432           Queens    NY       6500            0\n",
       "5135    5136    San Francisco    CA       6000           11\n",
       "35136  35137      Miami Beach    FL       6000            0\n",
       "38261  38262      Miami Beach    FL       5750            0\n",
       "20279  20280         New York    NY       5600            0\n",
       "8638    8639     Indianapolis    IN       5500            0\n",
       "23817  23818        Park City    UT       5500            0\n",
       "17195  17196           Boston    MA       5225            0\n",
       "851      852         San Jose    CA       5000            0\n",
       "31240  31241         New York    NY       5000            0\n",
       "28253  28254          Houston    TX       5000            0\n",
       "32996  32997           Austin    TX       5000            0\n",
       "40102  40103   Marina Del Rey    CA       5000            0\n",
       "23825  23826      Miami Beach    FL       5000            0\n",
       "42373  42374      Miami Beach    FL       5000            0\n",
       "23698  23699  Fort Lauderdale    FL       5000            0\n",
       "16481  16482           Austin    TX       5000            0\n",
       "15100  15101         New York    NY       5000            0\n",
       "9282    9283     Indianapolis    IN       5000            0\n",
       "8856    8857     Indianapolis    IN       5000            0\n",
       "5551    5552    Beverly Hills    CA       5000            0\n",
       "8674    8675     Indianapolis    IN       4500            0\n",
       "7657    7658       Scottsdale    AZ       4500            2\n",
       "16619  16620      Miami Beach    FL       4500            0\n",
       "10326  10327        Park City    UT       4200            0\n",
       "40959  40960            Miami    FL       4200            0"
      ]
     },
     "execution_count": 14,
     "metadata": {},
     "output_type": "execute_result"
    }
   ],
   "source": [
    "## Filter rows > 4000\n",
    "expensive_cities = (\n",
    "    df[df['price_usd'] > 4000] \n",
    "    .sort_values('price_usd', ascending = False)\n",
    ")\n",
    "\n",
    "expensive_cities"
   ]
  },
  {
   "cell_type": "markdown",
   "metadata": {},
   "source": [
    "These more expensive treefortbnb's often have 0 reviews. It's worth exploring the relationship between unit price and number of reviews"
   ]
  },
  {
   "cell_type": "code",
   "execution_count": 15,
   "metadata": {
    "scrolled": true
   },
   "outputs": [
    {
     "data": {
      "text/plain": [
       "<matplotlib.axes._subplots.AxesSubplot at 0x2c745982580>"
      ]
     },
     "execution_count": 15,
     "metadata": {},
     "output_type": "execute_result"
    },
    {
     "data": {
      "image/png": "[encoded data removed]",
      "text/plain": [
       "<Figure size 1080x720 with 1 Axes>"
      ]
     },
     "metadata": {
      "needs_background": "light"
     },
     "output_type": "display_data"
    }
   ],
   "source": [
    "## See few reviews for expensive_cities\n",
    "## Scatterplot to view relationship between price_usd & num_reviews\n",
    "df.plot(\n",
    "    x = 'price_usd',\n",
    "    y = 'num_reviews',\n",
    "    kind = 'scatter',\n",
    "    figsize = (15, 10),\n",
    "    title = \"Unit $ Price vs Number of Reviews\"\n",
    ")"
   ]
  },
  {
   "cell_type": "markdown",
   "metadata": {},
   "source": [
    "Indianapolis, IN had the highest median USD price for analysis. \n",
    "Let's check the relationship of USD $ Price to Number of Reviews for only Indianapolis"
   ]
  },
  {
   "cell_type": "code",
   "execution_count": 16,
   "metadata": {},
   "outputs": [
    {
     "data": {
      "text/plain": [
       "<matplotlib.axes._subplots.AxesSubplot at 0x2c745fa8dc0>"
      ]
     },
     "execution_count": 16,
     "metadata": {},
     "output_type": "execute_result"
    },
    {
     "data": {
      "image/png": "[encoded data removed]",
      "text/plain": [
       "<Figure size 1080x720 with 1 Axes>"
      ]
     },
     "metadata": {
      "needs_background": "light"
     },
     "output_type": "display_data"
    }
   ],
   "source": [
    "indianapolis_in_only = df[df.city == \"Indianapolis\"]\n",
    "indianapolis_in_only.plot(\n",
    "    x = 'price_usd',\n",
    "    y = 'num_reviews',\n",
    "    kind = 'scatter',\n",
    "    figsize = (15, 10),\n",
    "    title = \"Indianapolis, IN: Unit $ Price vs Number of Reviews\"\n",
    ")"
   ]
  },
  {
   "cell_type": "markdown",
   "metadata": {},
   "source": [
    "Scatterplot above indicates that there are a lot of datapoints above $1,000 without any reviews.\n",
    "\n",
    "Based on this, let's remove the data without reviews."
   ]
  },
  {
   "cell_type": "markdown",
   "metadata": {},
   "source": [
    "## Remove data w/o reviews"
   ]
  },
  {
   "cell_type": "code",
   "execution_count": 17,
   "metadata": {},
   "outputs": [
    {
     "data": {
      "text/html": [
       "<div>\n",
       "<style scoped>\n",
       "    .dataframe tbody tr th:only-of-type {\n",
       "        vertical-align: middle;\n",
       "    }\n",
       "\n",
       "    .dataframe tbody tr th {\n",
       "        vertical-align: top;\n",
       "    }\n",
       "\n",
       "    .dataframe thead th {\n",
       "        text-align: right;\n",
       "    }\n",
       "</style>\n",
       "<table border=\"1\" class=\"dataframe\">\n",
       "  <thead>\n",
       "    <tr style=\"text-align: right;\">\n",
       "      <th></th>\n",
       "      <th>id</th>\n",
       "      <th>price_usd</th>\n",
       "      <th>num_reviews</th>\n",
       "    </tr>\n",
       "  </thead>\n",
       "  <tbody>\n",
       "    <tr>\n",
       "      <th>count</th>\n",
       "      <td>26802.000000</td>\n",
       "      <td>26802.000000</td>\n",
       "      <td>26802.000000</td>\n",
       "    </tr>\n",
       "    <tr>\n",
       "      <th>mean</th>\n",
       "      <td>17271.547795</td>\n",
       "      <td>156.726252</td>\n",
       "      <td>11.268450</td>\n",
       "    </tr>\n",
       "    <tr>\n",
       "      <th>std</th>\n",
       "      <td>11084.220602</td>\n",
       "      <td>168.202838</td>\n",
       "      <td>16.385404</td>\n",
       "    </tr>\n",
       "    <tr>\n",
       "      <th>min</th>\n",
       "      <td>1.000000</td>\n",
       "      <td>10.000000</td>\n",
       "      <td>1.000000</td>\n",
       "    </tr>\n",
       "    <tr>\n",
       "      <th>25%</th>\n",
       "      <td>7540.250000</td>\n",
       "      <td>85.000000</td>\n",
       "      <td>2.000000</td>\n",
       "    </tr>\n",
       "    <tr>\n",
       "      <th>50%</th>\n",
       "      <td>16235.500000</td>\n",
       "      <td>125.000000</td>\n",
       "      <td>5.000000</td>\n",
       "    </tr>\n",
       "    <tr>\n",
       "      <th>75%</th>\n",
       "      <td>26220.750000</td>\n",
       "      <td>185.000000</td>\n",
       "      <td>13.000000</td>\n",
       "    </tr>\n",
       "    <tr>\n",
       "      <th>max</th>\n",
       "      <td>42314.000000</td>\n",
       "      <td>10000.000000</td>\n",
       "      <td>99.000000</td>\n",
       "    </tr>\n",
       "  </tbody>\n",
       "</table>\n",
       "</div>"
      ],
      "text/plain": [
       "                 id     price_usd   num_reviews\n",
       "count  26802.000000  26802.000000  26802.000000\n",
       "mean   17271.547795    156.726252     11.268450\n",
       "std    11084.220602    168.202838     16.385404\n",
       "min        1.000000     10.000000      1.000000\n",
       "25%     7540.250000     85.000000      2.000000\n",
       "50%    16235.500000    125.000000      5.000000\n",
       "75%    26220.750000    185.000000     13.000000\n",
       "max    42314.000000  10000.000000     99.000000"
      ]
     },
     "execution_count": 17,
     "metadata": {},
     "output_type": "execute_result"
    }
   ],
   "source": [
    "reviewed_units = df[df['num_reviews'] > 0]\n",
    "not_reviewed_units = df[df['num_reviews'] == 0]\n",
    "\n",
    "reviewed_units.describe()"
   ]
  },
  {
   "cell_type": "code",
   "execution_count": 18,
   "metadata": {},
   "outputs": [
    {
     "data": {
      "text/html": [
       "<div>\n",
       "<style scoped>\n",
       "    .dataframe tbody tr th:only-of-type {\n",
       "        vertical-align: middle;\n",
       "    }\n",
       "\n",
       "    .dataframe tbody tr th {\n",
       "        vertical-align: top;\n",
       "    }\n",
       "\n",
       "    .dataframe thead th {\n",
       "        text-align: right;\n",
       "    }\n",
       "</style>\n",
       "<table border=\"1\" class=\"dataframe\">\n",
       "  <thead>\n",
       "    <tr style=\"text-align: right;\">\n",
       "      <th></th>\n",
       "      <th>id</th>\n",
       "      <th>price_usd</th>\n",
       "      <th>num_reviews</th>\n",
       "    </tr>\n",
       "  </thead>\n",
       "  <tbody>\n",
       "    <tr>\n",
       "      <th>count</th>\n",
       "      <td>16000.000000</td>\n",
       "      <td>16000.000000</td>\n",
       "      <td>16000.0</td>\n",
       "    </tr>\n",
       "    <tr>\n",
       "      <th>mean</th>\n",
       "      <td>28319.686187</td>\n",
       "      <td>238.025500</td>\n",
       "      <td>0.0</td>\n",
       "    </tr>\n",
       "    <tr>\n",
       "      <th>std</th>\n",
       "      <td>11233.059831</td>\n",
       "      <td>365.393895</td>\n",
       "      <td>0.0</td>\n",
       "    </tr>\n",
       "    <tr>\n",
       "      <th>min</th>\n",
       "      <td>7.000000</td>\n",
       "      <td>10.000000</td>\n",
       "      <td>0.0</td>\n",
       "    </tr>\n",
       "    <tr>\n",
       "      <th>25%</th>\n",
       "      <td>20279.500000</td>\n",
       "      <td>100.000000</td>\n",
       "      <td>0.0</td>\n",
       "    </tr>\n",
       "    <tr>\n",
       "      <th>50%</th>\n",
       "      <td>30777.500000</td>\n",
       "      <td>150.000000</td>\n",
       "      <td>0.0</td>\n",
       "    </tr>\n",
       "    <tr>\n",
       "      <th>75%</th>\n",
       "      <td>38170.250000</td>\n",
       "      <td>250.000000</td>\n",
       "      <td>0.0</td>\n",
       "    </tr>\n",
       "    <tr>\n",
       "      <th>max</th>\n",
       "      <td>42802.000000</td>\n",
       "      <td>10000.000000</td>\n",
       "      <td>0.0</td>\n",
       "    </tr>\n",
       "  </tbody>\n",
       "</table>\n",
       "</div>"
      ],
      "text/plain": [
       "                 id     price_usd  num_reviews\n",
       "count  16000.000000  16000.000000      16000.0\n",
       "mean   28319.686187    238.025500          0.0\n",
       "std    11233.059831    365.393895          0.0\n",
       "min        7.000000     10.000000          0.0\n",
       "25%    20279.500000    100.000000          0.0\n",
       "50%    30777.500000    150.000000          0.0\n",
       "75%    38170.250000    250.000000          0.0\n",
       "max    42802.000000  10000.000000          0.0"
      ]
     },
     "execution_count": 18,
     "metadata": {},
     "output_type": "execute_result"
    }
   ],
   "source": [
    "not_reviewed_units.describe()"
   ]
  },
  {
   "cell_type": "markdown",
   "metadata": {},
   "source": [
    "The two tables above show descriptive statistics for reviewed units compared to non-reviewed units.\n",
    "\n",
    "The mean price_usd for non-reviewed units is $82 more expensive than for units with reviews. Additionally, the standard deviation is more than twice as large for non-reviewed units!\n",
    "The non-reviewed units are inflating the price statistics.\n",
    "\n",
    "The priceonomic puzzle asked specifically for the **median**. Due to its robustness, the median only differs by $25 between the two groups.\n",
    "\n",
    "However, the purpose of the median is to provide a central measure of the data. 16,000 units do not have reviews. If we consider reviews as a proxy for attendance, we can assume that the units without reviews are not a traditional experience at TreefornBnb. Below is a table of the median price for top cities, only using records with reviews."
   ]
  },
  {
   "cell_type": "code",
   "execution_count": 19,
   "metadata": {},
   "outputs": [
    {
     "data": {
      "text/html": [
       "<div>\n",
       "<style scoped>\n",
       "    .dataframe tbody tr th:only-of-type {\n",
       "        vertical-align: middle;\n",
       "    }\n",
       "\n",
       "    .dataframe tbody tr th {\n",
       "        vertical-align: top;\n",
       "    }\n",
       "\n",
       "    .dataframe thead th {\n",
       "        text-align: right;\n",
       "    }\n",
       "</style>\n",
       "<table border=\"1\" class=\"dataframe\">\n",
       "  <thead>\n",
       "    <tr style=\"text-align: right;\">\n",
       "      <th></th>\n",
       "      <th></th>\n",
       "      <th>median_price_usd</th>\n",
       "    </tr>\n",
       "    <tr>\n",
       "      <th>city</th>\n",
       "      <th>state</th>\n",
       "      <th></th>\n",
       "    </tr>\n",
       "  </thead>\n",
       "  <tbody>\n",
       "    <tr>\n",
       "      <th>Carmel</th>\n",
       "      <th>CA</th>\n",
       "      <td>300.0</td>\n",
       "    </tr>\n",
       "    <tr>\n",
       "      <th>Malibu</th>\n",
       "      <th>CA</th>\n",
       "      <td>225.0</td>\n",
       "    </tr>\n",
       "    <tr>\n",
       "      <th>Truckee</th>\n",
       "      <th>NV</th>\n",
       "      <td>200.0</td>\n",
       "    </tr>\n",
       "    <tr>\n",
       "      <th>Laguna Beach</th>\n",
       "      <th>CA</th>\n",
       "      <td>200.0</td>\n",
       "    </tr>\n",
       "    <tr>\n",
       "      <th>Incline Village</th>\n",
       "      <th>NV</th>\n",
       "      <td>200.0</td>\n",
       "    </tr>\n",
       "  </tbody>\n",
       "</table>\n",
       "</div>"
      ],
      "text/plain": [
       "                       median_price_usd\n",
       "city            state                  \n",
       "Carmel          CA                300.0\n",
       "Malibu          CA                225.0\n",
       "Truckee         NV                200.0\n",
       "Laguna Beach    CA                200.0\n",
       "Incline Village NV                200.0"
      ]
     },
     "execution_count": 19,
     "metadata": {},
     "output_type": "execute_result"
    }
   ],
   "source": [
    "top_100_rev_units = (\n",
    "    reviewed_units\n",
    "    .groupby( ['city', 'state'])['price_usd']\n",
    "    .describe()\n",
    "    .sort_values( 'count', ascending = False)\n",
    "    .head(100)['50%']\n",
    "    .to_frame()\n",
    "    .rename( columns = { '50%' : 'median_price_usd'})\n",
    "    .sort_values( 'median_price_usd', ascending = False)\n",
    ")\n",
    "\n",
    "\n",
    "top_100_rev_units.head()"
   ]
  }
 ],
 "metadata": {
  "kernelspec": {
   "display_name": "Python 3",
   "language": "python",
   "name": "python3"
  },
  "language_info": {
   "codemirror_mode": {
    "name": "ipython",
    "version": 3
   },
   "file_extension": ".py",
   "mimetype": "text/x-python",
   "name": "python",
   "nbconvert_exporter": "python",
   "pygments_lexer": "ipython3",
   "version": "3.8.3"
  }
 },
 "nbformat": 4,
 "nbformat_minor": 4
}
