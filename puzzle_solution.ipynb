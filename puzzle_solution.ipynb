{
 "cells": [
  {
   "cell_type": "markdown",
   "metadata": {},
   "source": [
    "# Libraries"
   ]
  },
  {
   "cell_type": "code",
   "execution_count": 1,
   "metadata": {},
   "outputs": [],
   "source": [
    "import os\n",
    "import numpy as np\n",
    "import seaborn as sns\n",
    "import pandas as pd\n",
    "\n",
    "%matplotlib inline"
   ]
  },
  {
   "cell_type": "markdown",
   "metadata": {},
   "source": [
    "# Data Import"
   ]
  },
  {
   "cell_type": "code",
   "execution_count": 2,
   "metadata": {},
   "outputs": [],
   "source": [
    "os.getcwd()\n",
    "\n",
    "df = pd.read_csv(\"Data+for+TreefortBnB+Puzzle.csv\")"
   ]
  },
  {
   "cell_type": "code",
   "execution_count": 3,
   "metadata": {},
   "outputs": [
    {
     "data": {
      "text/html": [
       "<div>\n",
       "<style scoped>\n",
       "    .dataframe tbody tr th:only-of-type {\n",
       "        vertical-align: middle;\n",
       "    }\n",
       "\n",
       "    .dataframe tbody tr th {\n",
       "        vertical-align: top;\n",
       "    }\n",
       "\n",
       "    .dataframe thead th {\n",
       "        text-align: right;\n",
       "    }\n",
       "</style>\n",
       "<table border=\"1\" class=\"dataframe\">\n",
       "  <thead>\n",
       "    <tr style=\"text-align: right;\">\n",
       "      <th></th>\n",
       "      <th>Unique id</th>\n",
       "      <th>City</th>\n",
       "      <th>State</th>\n",
       "      <th>$ Price</th>\n",
       "      <th># of Reviews</th>\n",
       "    </tr>\n",
       "  </thead>\n",
       "  <tbody>\n",
       "    <tr>\n",
       "      <th>0</th>\n",
       "      <td>1</td>\n",
       "      <td>Portland</td>\n",
       "      <td>OR</td>\n",
       "      <td>75</td>\n",
       "      <td>5</td>\n",
       "    </tr>\n",
       "    <tr>\n",
       "      <th>1</th>\n",
       "      <td>2</td>\n",
       "      <td>San Diego</td>\n",
       "      <td>CA</td>\n",
       "      <td>95</td>\n",
       "      <td>3</td>\n",
       "    </tr>\n",
       "    <tr>\n",
       "      <th>2</th>\n",
       "      <td>3</td>\n",
       "      <td>New York</td>\n",
       "      <td>NY</td>\n",
       "      <td>149</td>\n",
       "      <td>37</td>\n",
       "    </tr>\n",
       "    <tr>\n",
       "      <th>3</th>\n",
       "      <td>4</td>\n",
       "      <td>Los Angeles</td>\n",
       "      <td>CA</td>\n",
       "      <td>199</td>\n",
       "      <td>45</td>\n",
       "    </tr>\n",
       "    <tr>\n",
       "      <th>4</th>\n",
       "      <td>5</td>\n",
       "      <td>Denver</td>\n",
       "      <td>CO</td>\n",
       "      <td>56</td>\n",
       "      <td>99</td>\n",
       "    </tr>\n",
       "  </tbody>\n",
       "</table>\n",
       "</div>"
      ],
      "text/plain": [
       "   Unique id         City State  $ Price  # of Reviews\n",
       "0          1     Portland    OR       75             5\n",
       "1          2    San Diego    CA       95             3\n",
       "2          3     New York    NY      149            37\n",
       "3          4  Los Angeles    CA      199            45\n",
       "4          5       Denver    CO       56            99"
      ]
     },
     "execution_count": 3,
     "metadata": {},
     "output_type": "execute_result"
    }
   ],
   "source": [
    "df.head()"
   ]
  },
  {
   "cell_type": "markdown",
   "metadata": {},
   "source": [
    "# Data Wrangling"
   ]
  },
  {
   "cell_type": "markdown",
   "metadata": {},
   "source": [
    "## Clean column names"
   ]
  },
  {
   "cell_type": "code",
   "execution_count": 4,
   "metadata": {},
   "outputs": [
    {
     "name": "stdout",
     "output_type": "stream",
     "text": [
      "Index(['Unique id', 'City', 'State', '$ Price', '# of Reviews'], dtype='object')\n",
      "Index(['id', 'city', 'state', 'price_usd', 'num_reviews'], dtype='object')\n"
     ]
    }
   ],
   "source": [
    "print(df.columns)\n",
    "\n",
    "col_names = (\n",
    "    \"id\",\n",
    "    \"city\",\n",
    "    \"state\",\n",
    "    \"price_usd\",\n",
    "    \"num_reviews\",\n",
    ")\n",
    "\n",
    "df.columns = col_names\n",
    "print(df.columns)"
   ]
  },
  {
   "cell_type": "markdown",
   "metadata": {},
   "source": [
    "## Check for missing values"
   ]
  },
  {
   "cell_type": "code",
   "execution_count": 5,
   "metadata": {},
   "outputs": [
    {
     "name": "stdout",
     "output_type": "stream",
     "text": [
      "False\tid\n",
      "False\tcity\n",
      "False\tstate\n",
      "False\tprice_usd\n",
      "False\tnum_reviews\n"
     ]
    },
    {
     "data": {
      "image/png": "[encoded data removed]",
      "text/plain": [
       "<Figure size 432x288 with 1 Axes>"
      ]
     },
     "metadata": {
      "needs_background": "light"
     },
     "output_type": "display_data"
    }
   ],
   "source": [
    "## Visual check\n",
    "sns.heatmap(\n",
    "    df.isnull(),\n",
    "    yticklabels = False,\n",
    "    cbar = False,\n",
    "    cmap = 'viridis'\n",
    ")\n",
    "\n",
    "## check each column for missing values\n",
    "for col in df.columns:\n",
    "    are_null = df[[col]].isnull().values.any()\n",
    "    print(are_null, col, sep = \"\\t\")"
   ]
  },
  {
   "cell_type": "markdown",
   "metadata": {},
   "source": [
    "## Check data types"
   ]
  },
  {
   "cell_type": "code",
   "execution_count": 6,
   "metadata": {},
   "outputs": [
    {
     "data": {
      "text/plain": [
       "id              int64\n",
       "city           object\n",
       "state          object\n",
       "price_usd       int64\n",
       "num_reviews     int64\n",
       "dtype: object"
      ]
     },
     "execution_count": 6,
     "metadata": {},
     "output_type": "execute_result"
    }
   ],
   "source": [
    "df.dtypes"
   ]
  },
  {
   "cell_type": "markdown",
   "metadata": {},
   "source": [
    "## Clean string data"
   ]
  },
  {
   "cell_type": "code",
   "execution_count": 7,
   "metadata": {},
   "outputs": [
    {
     "data": {
      "text/html": [
       "<div>\n",
       "<style scoped>\n",
       "    .dataframe tbody tr th:only-of-type {\n",
       "        vertical-align: middle;\n",
       "    }\n",
       "\n",
       "    .dataframe tbody tr th {\n",
       "        vertical-align: top;\n",
       "    }\n",
       "\n",
       "    .dataframe thead th {\n",
       "        text-align: right;\n",
       "    }\n",
       "</style>\n",
       "<table border=\"1\" class=\"dataframe\">\n",
       "  <thead>\n",
       "    <tr style=\"text-align: right;\">\n",
       "      <th></th>\n",
       "      <th>id</th>\n",
       "      <th>city</th>\n",
       "      <th>state</th>\n",
       "      <th>price_usd</th>\n",
       "      <th>num_reviews</th>\n",
       "    </tr>\n",
       "  </thead>\n",
       "  <tbody>\n",
       "    <tr>\n",
       "      <th>0</th>\n",
       "      <td>1</td>\n",
       "      <td>Portland</td>\n",
       "      <td>OR</td>\n",
       "      <td>75</td>\n",
       "      <td>5</td>\n",
       "    </tr>\n",
       "    <tr>\n",
       "      <th>1</th>\n",
       "      <td>2</td>\n",
       "      <td>San Diego</td>\n",
       "      <td>CA</td>\n",
       "      <td>95</td>\n",
       "      <td>3</td>\n",
       "    </tr>\n",
       "    <tr>\n",
       "      <th>2</th>\n",
       "      <td>3</td>\n",
       "      <td>New York</td>\n",
       "      <td>NY</td>\n",
       "      <td>149</td>\n",
       "      <td>37</td>\n",
       "    </tr>\n",
       "    <tr>\n",
       "      <th>3</th>\n",
       "      <td>4</td>\n",
       "      <td>Los Angeles</td>\n",
       "      <td>CA</td>\n",
       "      <td>199</td>\n",
       "      <td>45</td>\n",
       "    </tr>\n",
       "    <tr>\n",
       "      <th>4</th>\n",
       "      <td>5</td>\n",
       "      <td>Denver</td>\n",
       "      <td>CO</td>\n",
       "      <td>56</td>\n",
       "      <td>99</td>\n",
       "    </tr>\n",
       "  </tbody>\n",
       "</table>\n",
       "</div>"
      ],
      "text/plain": [
       "   id         city state  price_usd  num_reviews\n",
       "0   1     Portland    OR         75            5\n",
       "1   2    San Diego    CA         95            3\n",
       "2   3     New York    NY        149           37\n",
       "3   4  Los Angeles    CA        199           45\n",
       "4   5       Denver    CO         56           99"
      ]
     },
     "execution_count": 7,
     "metadata": {},
     "output_type": "execute_result"
    }
   ],
   "source": [
    "## Uniform case & strip excess white space\n",
    "df['city'] = df['city'].str.title().str.strip()\n",
    "df['state'] = df['state'].str.upper().str.strip()\n",
    "    \n",
    "df.head()"
   ]
  },
  {
   "cell_type": "markdown",
   "metadata": {},
   "source": [
    "# Analysis"
   ]
  },
  {
   "cell_type": "markdown",
   "metadata": {},
   "source": [
    "## 100 cities w/ most units on market"
   ]
  },
  {
   "cell_type": "code",
   "execution_count": 8,
   "metadata": {},
   "outputs": [
    {
     "data": {
      "text/html": [
       "<div>\n",
       "<style scoped>\n",
       "    .dataframe tbody tr th:only-of-type {\n",
       "        vertical-align: middle;\n",
       "    }\n",
       "\n",
       "    .dataframe tbody tr th {\n",
       "        vertical-align: top;\n",
       "    }\n",
       "\n",
       "    .dataframe thead th {\n",
       "        text-align: right;\n",
       "    }\n",
       "</style>\n",
       "<table border=\"1\" class=\"dataframe\">\n",
       "  <thead>\n",
       "    <tr style=\"text-align: right;\">\n",
       "      <th></th>\n",
       "      <th></th>\n",
       "      <th>median_price_usd</th>\n",
       "    </tr>\n",
       "    <tr>\n",
       "      <th>city</th>\n",
       "      <th>state</th>\n",
       "      <th></th>\n",
       "    </tr>\n",
       "  </thead>\n",
       "  <tbody>\n",
       "    <tr>\n",
       "      <th>Indianapolis</th>\n",
       "      <th>IN</th>\n",
       "      <td>650.0</td>\n",
       "    </tr>\n",
       "    <tr>\n",
       "      <th>Malibu</th>\n",
       "      <th>CA</th>\n",
       "      <td>304.0</td>\n",
       "    </tr>\n",
       "    <tr>\n",
       "      <th>Park City</th>\n",
       "      <th>UT</th>\n",
       "      <td>299.0</td>\n",
       "    </tr>\n",
       "    <tr>\n",
       "      <th>Healdsburg</th>\n",
       "      <th>CA</th>\n",
       "      <td>275.0</td>\n",
       "    </tr>\n",
       "    <tr>\n",
       "      <th>Truckee</th>\n",
       "      <th>NV</th>\n",
       "      <td>275.0</td>\n",
       "    </tr>\n",
       "  </tbody>\n",
       "</table>\n",
       "</div>"
      ],
      "text/plain": [
       "                    median_price_usd\n",
       "city         state                  \n",
       "Indianapolis IN                650.0\n",
       "Malibu       CA                304.0\n",
       "Park City    UT                299.0\n",
       "Healdsburg   CA                275.0\n",
       "Truckee      NV                275.0"
      ]
     },
     "execution_count": 8,
     "metadata": {},
     "output_type": "execute_result"
    }
   ],
   "source": [
    "\"\"\"\n",
    "1. Group by city, then state. Select price column\n",
    "2. Describe for characteristics of data set\n",
    "3. Sort values by count, in descending order\n",
    "4. Take top 100 values, and the median column\n",
    "5. Convert back to dataframe\n",
    "6. Rename median column\n",
    "7. Sort values based on median price USD\n",
    "\"\"\"\n",
    "df_top_cities = df \\\n",
    "    .groupby( ['city', 'state'])['price_usd'] \\\n",
    "    .describe() \\\n",
    "    .sort_values( 'count', ascending = False) \\\n",
    "    .head(100)['50%'] \\\n",
    "    .to_frame() \\\n",
    "    .rename( columns = { '50%' : 'median_price_usd'}) \\\n",
    "    .sort_values( 'median_price_usd', ascending = False)\n",
    "\n",
    "\n",
    "df_top_cities.head()"
   ]
  },
  {
   "cell_type": "code",
   "execution_count": 9,
   "metadata": {
    "scrolled": true
   },
   "outputs": [
    {
     "data": {
      "text/plain": [
       "<bound method DataFrame.info of                          median_price_usd\n",
       "city              state                  \n",
       "Indianapolis      IN                650.0\n",
       "Malibu            CA                304.0\n",
       "Park City         UT                299.0\n",
       "Healdsburg        CA                275.0\n",
       "Truckee           NV                275.0\n",
       "Laguna Beach      CA                268.5\n",
       "Incline Village   NV                259.0\n",
       "Manhattan Beach   CA                209.0\n",
       "Charlotte         NC                200.0\n",
       "Napa              CA                200.0\n",
       "Sonoma            CA                200.0\n",
       "Austin            TX                199.0\n",
       "La Jolla          CA                195.0\n",
       "Sausalito         CA                190.0\n",
       "Hermosa Beach     CA                189.5\n",
       "Sunny Isles Beach FL                180.0\n",
       "New York          NY                170.0\n",
       "Newport Beach     CA                160.0\n",
       "Beverly Hills     CA                160.0\n",
       "Boston            MA                160.0\n",
       "Venice            CA                155.0\n",
       "Mill Valley       CA                150.0\n",
       "San Francisco     CA                150.0\n",
       "Miami Beach       FL                150.0\n",
       "Louisville        KY                150.0\n",
       "New Orleans       LA                150.0\n",
       "Miami             FL                150.0\n",
       "Santa Monica      CA                150.0\n",
       "Marina Del Rey    CA                150.0\n",
       "Taos              NM                148.5\n",
       "Sebastopol        CA                145.0\n",
       "San Diego         CA                130.0\n",
       "West Hollywood    CA                129.0\n",
       "Washington        DC                129.0\n",
       "Scottsdale        AZ                129.0\n",
       "Las Vegas         NV                125.0\n",
       "Charleston        SC                125.0\n",
       "Cambridge         MA                125.0\n",
       "San Rafael        CA                125.0\n",
       "Naples            FL                125.0\n",
       "Santa Cruz        CA                125.0\n",
       "Anchorage         AK                123.5\n",
       "Santa Rosa        CA                120.0\n",
       "Palo Alto         CA                120.0\n",
       "Brookline         MA                120.0\n",
       "Hollywood         FL                115.5\n",
       "Mountain View     CA                113.0\n",
       "Colorado Springs  CO                113.0\n",
       "Davenport         FL                113.0\n",
       "Kissimmee         FL                110.0\n",
       "Brooklyn          NY                110.0\n",
       "Los Angeles       CA                110.0\n",
       "Savannah          GA                107.0\n",
       "Arlington         VA                106.5\n",
       "Paris             RI                105.5\n",
       "Honolulu          HI                105.0\n",
       "Alexandria        VA                104.5\n",
       "Somerville        MA                100.0\n",
       "Boulder           CO                100.0\n",
       "San Jose          CA                100.0\n",
       "Seattle           WA                100.0\n",
       "Tampa             FL                100.0\n",
       "Philadelphia      PA                100.0\n",
       "Berkeley          CA                100.0\n",
       "Chicago           IL                100.0\n",
       "Houston           TX                100.0\n",
       "Carlsbad          CA                100.0\n",
       "Long Beach        CA                100.0\n",
       "Fort Lauderdale   FL                100.0\n",
       "Pasadena          CA                 99.5\n",
       "Queens            NY                 99.0\n",
       "Ann Arbor         MI                 98.0\n",
       "Minneapolis       MN                 98.0\n",
       "Long Island City  NY                 96.0\n",
       "Glendale          CA                 90.0\n",
       "Tucson            AZ                 90.0\n",
       "Oakland           CA                 90.0\n",
       "Salt Lake City    UT                 89.5\n",
       "Atlanta           GA                 89.0\n",
       "Dallas            TX                 87.0\n",
       "Denver            CO                 86.0\n",
       "Providence        RI                 85.0\n",
       "Eugene            OR                 85.0\n",
       "Jersey City       NJ                 85.0\n",
       "Madison           WI                 85.0\n",
       "Phoenix           AZ                 85.0\n",
       "Baltimore         MD                 80.0\n",
       "San Antonio       TX                 80.0\n",
       "Nashville         TN                 80.0\n",
       "Pittsburgh        PA                 80.0\n",
       "Portland          OR                 79.0\n",
       "Silver Spring     MD                 75.0\n",
       "New Haven         CT                 75.0\n",
       "Orlando           FL                 75.0\n",
       "Albuquerque       NM                 75.0\n",
       "Bronx             NY                 75.0\n",
       "Cincinnati        OH                 70.0\n",
       "Sacramento        CA                 65.0\n",
       "Raleigh           NC                 60.0\n",
       "Durham            NC                 60.0>"
      ]
     },
     "execution_count": 9,
     "metadata": {},
     "output_type": "execute_result"
    }
   ],
   "source": [
    "pd.set_option('display.max_rows', None)\n",
    "df_top_cities.info"
   ]
  },
  {
   "cell_type": "markdown",
   "metadata": {},
   "source": [
    "# Exploratory analysis"
   ]
  },
  {
   "cell_type": "code",
   "execution_count": 10,
   "metadata": {},
   "outputs": [
    {
     "data": {
      "text/plain": [
       "count    42802.000000\n",
       "mean       187.117074\n",
       "std        263.002109\n",
       "min         10.000000\n",
       "25%         90.000000\n",
       "50%        130.000000\n",
       "75%        200.000000\n",
       "max      10000.000000\n",
       "Name: price_usd, dtype: float64"
      ]
     },
     "execution_count": 10,
     "metadata": {},
     "output_type": "execute_result"
    }
   ],
   "source": [
    "## Check descriptive statistics for price_usd\n",
    "df['price_usd'].describe()"
   ]
  },
  {
   "cell_type": "markdown",
   "metadata": {},
   "source": [
    "- Max price is $10,000\n",
    "\n",
    "- Quantile 3 is $200\n",
    "\n",
    "Something strange here that needs more exploring."
   ]
  },
  {
   "cell_type": "code",
   "execution_count": 11,
   "metadata": {},
   "outputs": [
    {
     "data": {
      "text/plain": [
       "<matplotlib.axes._subplots.AxesSubplot at 0x23cfbb18748>"
      ]
     },
     "execution_count": 11,
     "metadata": {},
     "output_type": "execute_result"
    },
    {
     "data": {
      "image/png": "[encoded data removed]",
      "text/plain": [
       "<Figure size 1080x720 with 1 Axes>"
      ]
     },
     "metadata": {
      "needs_background": "light"
     },
     "output_type": "display_data"
    }
   ],
   "source": [
    "df['price_usd'].hist(\n",
    "    bins = 50,\n",
    "    figsize = (15, 10),\n",
    "    log = True    # to veiw data\n",
    ")"
   ]
  },
  {
   "cell_type": "markdown",
   "metadata": {},
   "source": [
    "Histogram shows that there are units listed above $2,000.\n",
    "\n",
    "Additionally, there are units listed at $10,000.\n"
   ]
  },
  {
   "cell_type": "code",
   "execution_count": 12,
   "metadata": {},
   "outputs": [
    {
     "data": {
      "text/html": [
       "<div>\n",
       "<style scoped>\n",
       "    .dataframe tbody tr th:only-of-type {\n",
       "        vertical-align: middle;\n",
       "    }\n",
       "\n",
       "    .dataframe tbody tr th {\n",
       "        vertical-align: top;\n",
       "    }\n",
       "\n",
       "    .dataframe thead th {\n",
       "        text-align: right;\n",
       "    }\n",
       "</style>\n",
       "<table border=\"1\" class=\"dataframe\">\n",
       "  <thead>\n",
       "    <tr style=\"text-align: right;\">\n",
       "      <th></th>\n",
       "      <th>id</th>\n",
       "      <th>city</th>\n",
       "      <th>state</th>\n",
       "      <th>price_usd</th>\n",
       "      <th>num_reviews</th>\n",
       "    </tr>\n",
       "  </thead>\n",
       "  <tbody>\n",
       "    <tr>\n",
       "      <th>26232</th>\n",
       "      <td>26233</td>\n",
       "      <td>Park City</td>\n",
       "      <td>UT</td>\n",
       "      <td>10000</td>\n",
       "      <td>0</td>\n",
       "    </tr>\n",
       "    <tr>\n",
       "      <th>8867</th>\n",
       "      <td>8868</td>\n",
       "      <td>Park City</td>\n",
       "      <td>UT</td>\n",
       "      <td>10000</td>\n",
       "      <td>1</td>\n",
       "    </tr>\n",
       "    <tr>\n",
       "      <th>28626</th>\n",
       "      <td>28627</td>\n",
       "      <td>Miami Beach</td>\n",
       "      <td>FL</td>\n",
       "      <td>10000</td>\n",
       "      <td>0</td>\n",
       "    </tr>\n",
       "    <tr>\n",
       "      <th>2819</th>\n",
       "      <td>2820</td>\n",
       "      <td>San Francisco</td>\n",
       "      <td>CA</td>\n",
       "      <td>10000</td>\n",
       "      <td>31</td>\n",
       "    </tr>\n",
       "    <tr>\n",
       "      <th>8328</th>\n",
       "      <td>8329</td>\n",
       "      <td>Chicago</td>\n",
       "      <td>IL</td>\n",
       "      <td>6500</td>\n",
       "      <td>1</td>\n",
       "    </tr>\n",
       "    <tr>\n",
       "      <th>10332</th>\n",
       "      <td>10333</td>\n",
       "      <td>Park City</td>\n",
       "      <td>UT</td>\n",
       "      <td>6500</td>\n",
       "      <td>0</td>\n",
       "    </tr>\n",
       "    <tr>\n",
       "      <th>13431</th>\n",
       "      <td>13432</td>\n",
       "      <td>Queens</td>\n",
       "      <td>NY</td>\n",
       "      <td>6500</td>\n",
       "      <td>0</td>\n",
       "    </tr>\n",
       "    <tr>\n",
       "      <th>5135</th>\n",
       "      <td>5136</td>\n",
       "      <td>San Francisco</td>\n",
       "      <td>CA</td>\n",
       "      <td>6000</td>\n",
       "      <td>11</td>\n",
       "    </tr>\n",
       "    <tr>\n",
       "      <th>35136</th>\n",
       "      <td>35137</td>\n",
       "      <td>Miami Beach</td>\n",
       "      <td>FL</td>\n",
       "      <td>6000</td>\n",
       "      <td>0</td>\n",
       "    </tr>\n",
       "    <tr>\n",
       "      <th>38261</th>\n",
       "      <td>38262</td>\n",
       "      <td>Miami Beach</td>\n",
       "      <td>FL</td>\n",
       "      <td>5750</td>\n",
       "      <td>0</td>\n",
       "    </tr>\n",
       "    <tr>\n",
       "      <th>20279</th>\n",
       "      <td>20280</td>\n",
       "      <td>New York</td>\n",
       "      <td>NY</td>\n",
       "      <td>5600</td>\n",
       "      <td>0</td>\n",
       "    </tr>\n",
       "    <tr>\n",
       "      <th>8638</th>\n",
       "      <td>8639</td>\n",
       "      <td>Indianapolis</td>\n",
       "      <td>IN</td>\n",
       "      <td>5500</td>\n",
       "      <td>0</td>\n",
       "    </tr>\n",
       "    <tr>\n",
       "      <th>23817</th>\n",
       "      <td>23818</td>\n",
       "      <td>Park City</td>\n",
       "      <td>UT</td>\n",
       "      <td>5500</td>\n",
       "      <td>0</td>\n",
       "    </tr>\n",
       "    <tr>\n",
       "      <th>17195</th>\n",
       "      <td>17196</td>\n",
       "      <td>Boston</td>\n",
       "      <td>MA</td>\n",
       "      <td>5225</td>\n",
       "      <td>0</td>\n",
       "    </tr>\n",
       "    <tr>\n",
       "      <th>851</th>\n",
       "      <td>852</td>\n",
       "      <td>San Jose</td>\n",
       "      <td>CA</td>\n",
       "      <td>5000</td>\n",
       "      <td>0</td>\n",
       "    </tr>\n",
       "    <tr>\n",
       "      <th>31240</th>\n",
       "      <td>31241</td>\n",
       "      <td>New York</td>\n",
       "      <td>NY</td>\n",
       "      <td>5000</td>\n",
       "      <td>0</td>\n",
       "    </tr>\n",
       "    <tr>\n",
       "      <th>28253</th>\n",
       "      <td>28254</td>\n",
       "      <td>Houston</td>\n",
       "      <td>TX</td>\n",
       "      <td>5000</td>\n",
       "      <td>0</td>\n",
       "    </tr>\n",
       "    <tr>\n",
       "      <th>32996</th>\n",
       "      <td>32997</td>\n",
       "      <td>Austin</td>\n",
       "      <td>TX</td>\n",
       "      <td>5000</td>\n",
       "      <td>0</td>\n",
       "    </tr>\n",
       "    <tr>\n",
       "      <th>40102</th>\n",
       "      <td>40103</td>\n",
       "      <td>Marina Del Rey</td>\n",
       "      <td>CA</td>\n",
       "      <td>5000</td>\n",
       "      <td>0</td>\n",
       "    </tr>\n",
       "    <tr>\n",
       "      <th>23825</th>\n",
       "      <td>23826</td>\n",
       "      <td>Miami Beach</td>\n",
       "      <td>FL</td>\n",
       "      <td>5000</td>\n",
       "      <td>0</td>\n",
       "    </tr>\n",
       "    <tr>\n",
       "      <th>42373</th>\n",
       "      <td>42374</td>\n",
       "      <td>Miami Beach</td>\n",
       "      <td>FL</td>\n",
       "      <td>5000</td>\n",
       "      <td>0</td>\n",
       "    </tr>\n",
       "    <tr>\n",
       "      <th>23698</th>\n",
       "      <td>23699</td>\n",
       "      <td>Fort Lauderdale</td>\n",
       "      <td>FL</td>\n",
       "      <td>5000</td>\n",
       "      <td>0</td>\n",
       "    </tr>\n",
       "    <tr>\n",
       "      <th>16481</th>\n",
       "      <td>16482</td>\n",
       "      <td>Austin</td>\n",
       "      <td>TX</td>\n",
       "      <td>5000</td>\n",
       "      <td>0</td>\n",
       "    </tr>\n",
       "    <tr>\n",
       "      <th>15100</th>\n",
       "      <td>15101</td>\n",
       "      <td>New York</td>\n",
       "      <td>NY</td>\n",
       "      <td>5000</td>\n",
       "      <td>0</td>\n",
       "    </tr>\n",
       "    <tr>\n",
       "      <th>9282</th>\n",
       "      <td>9283</td>\n",
       "      <td>Indianapolis</td>\n",
       "      <td>IN</td>\n",
       "      <td>5000</td>\n",
       "      <td>0</td>\n",
       "    </tr>\n",
       "    <tr>\n",
       "      <th>8856</th>\n",
       "      <td>8857</td>\n",
       "      <td>Indianapolis</td>\n",
       "      <td>IN</td>\n",
       "      <td>5000</td>\n",
       "      <td>0</td>\n",
       "    </tr>\n",
       "    <tr>\n",
       "      <th>5551</th>\n",
       "      <td>5552</td>\n",
       "      <td>Beverly Hills</td>\n",
       "      <td>CA</td>\n",
       "      <td>5000</td>\n",
       "      <td>0</td>\n",
       "    </tr>\n",
       "    <tr>\n",
       "      <th>8674</th>\n",
       "      <td>8675</td>\n",
       "      <td>Indianapolis</td>\n",
       "      <td>IN</td>\n",
       "      <td>4500</td>\n",
       "      <td>0</td>\n",
       "    </tr>\n",
       "    <tr>\n",
       "      <th>7657</th>\n",
       "      <td>7658</td>\n",
       "      <td>Scottsdale</td>\n",
       "      <td>AZ</td>\n",
       "      <td>4500</td>\n",
       "      <td>2</td>\n",
       "    </tr>\n",
       "    <tr>\n",
       "      <th>16619</th>\n",
       "      <td>16620</td>\n",
       "      <td>Miami Beach</td>\n",
       "      <td>FL</td>\n",
       "      <td>4500</td>\n",
       "      <td>0</td>\n",
       "    </tr>\n",
       "    <tr>\n",
       "      <th>10326</th>\n",
       "      <td>10327</td>\n",
       "      <td>Park City</td>\n",
       "      <td>UT</td>\n",
       "      <td>4200</td>\n",
       "      <td>0</td>\n",
       "    </tr>\n",
       "    <tr>\n",
       "      <th>40959</th>\n",
       "      <td>40960</td>\n",
       "      <td>Miami</td>\n",
       "      <td>FL</td>\n",
       "      <td>4200</td>\n",
       "      <td>0</td>\n",
       "    </tr>\n",
       "  </tbody>\n",
       "</table>\n",
       "</div>"
      ],
      "text/plain": [
       "          id             city state  price_usd  num_reviews\n",
       "26232  26233        Park City    UT      10000            0\n",
       "8867    8868        Park City    UT      10000            1\n",
       "28626  28627      Miami Beach    FL      10000            0\n",
       "2819    2820    San Francisco    CA      10000           31\n",
       "8328    8329          Chicago    IL       6500            1\n",
       "10332  10333        Park City    UT       6500            0\n",
       "13431  13432           Queens    NY       6500            0\n",
       "5135    5136    San Francisco    CA       6000           11\n",
       "35136  35137      Miami Beach    FL       6000            0\n",
       "38261  38262      Miami Beach    FL       5750            0\n",
       "20279  20280         New York    NY       5600            0\n",
       "8638    8639     Indianapolis    IN       5500            0\n",
       "23817  23818        Park City    UT       5500            0\n",
       "17195  17196           Boston    MA       5225            0\n",
       "851      852         San Jose    CA       5000            0\n",
       "31240  31241         New York    NY       5000            0\n",
       "28253  28254          Houston    TX       5000            0\n",
       "32996  32997           Austin    TX       5000            0\n",
       "40102  40103   Marina Del Rey    CA       5000            0\n",
       "23825  23826      Miami Beach    FL       5000            0\n",
       "42373  42374      Miami Beach    FL       5000            0\n",
       "23698  23699  Fort Lauderdale    FL       5000            0\n",
       "16481  16482           Austin    TX       5000            0\n",
       "15100  15101         New York    NY       5000            0\n",
       "9282    9283     Indianapolis    IN       5000            0\n",
       "8856    8857     Indianapolis    IN       5000            0\n",
       "5551    5552    Beverly Hills    CA       5000            0\n",
       "8674    8675     Indianapolis    IN       4500            0\n",
       "7657    7658       Scottsdale    AZ       4500            2\n",
       "16619  16620      Miami Beach    FL       4500            0\n",
       "10326  10327        Park City    UT       4200            0\n",
       "40959  40960            Miami    FL       4200            0"
      ]
     },
     "execution_count": 12,
     "metadata": {},
     "output_type": "execute_result"
    }
   ],
   "source": [
    "## Filter rows > 4000\n",
    "expensive_cities = df[df['price_usd'] > 4000] \\\n",
    "    .sort_values('price_usd', ascending = False)\n",
    "\n",
    "expensive_cities\n"
   ]
  },
  {
   "cell_type": "code",
   "execution_count": 13,
   "metadata": {},
   "outputs": [
    {
     "data": {
      "text/plain": [
       "<matplotlib.axes._subplots.AxesSubplot at 0x23cfd17e848>"
      ]
     },
     "execution_count": 13,
     "metadata": {},
     "output_type": "execute_result"
    },
    {
     "data": {
      "image/png": "[encoded data removed]",
      "text/plain": [
       "<Figure size 1080x720 with 1 Axes>"
      ]
     },
     "metadata": {
      "needs_background": "light"
     },
     "output_type": "display_data"
    }
   ],
   "source": [
    "## See few reviews for expensive_cities\n",
    "## Scatterplot to view relationship between price_usd & num_reviews\n",
    "df.plot(\n",
    "    x = 'price_usd',\n",
    "    y = 'num_reviews',\n",
    "    kind = 'scatter',\n",
    "    figsize = (15, 10),\n",
    "    title = \"Unit $ Price vs Number of Reviews\"\n",
    ")"
   ]
  },
  {
   "cell_type": "markdown",
   "metadata": {},
   "source": [
    "Indianapolis, IN had the highest median USD price for analysis. \n",
    "Let's check the relationship of USD $ Price to Number of Reviews."
   ]
  },
  {
   "cell_type": "code",
   "execution_count": 14,
   "metadata": {},
   "outputs": [
    {
     "data": {
      "text/plain": [
       "<matplotlib.axes._subplots.AxesSubplot at 0x23cfd178188>"
      ]
     },
     "execution_count": 14,
     "metadata": {},
     "output_type": "execute_result"
    },
    {
     "data": {
      "image/png": "[encoded data removed]",
      "text/plain": [
       "<Figure size 1080x720 with 1 Axes>"
      ]
     },
     "metadata": {
      "needs_background": "light"
     },
     "output_type": "display_data"
    }
   ],
   "source": [
    "indianapolis_in_only = df[df.city == \"Indianapolis\"]\n",
    "indianapolis_in_only.plot(\n",
    "    x = 'price_usd',\n",
    "    y = 'num_reviews',\n",
    "    kind = 'scatter',\n",
    "    figsize = (15, 10),\n",
    "    title = \"Indianapolis, IN: Unit $ Price vs Number of Reviews\"\n",
    ")"
   ]
  },
  {
   "cell_type": "markdown",
   "metadata": {},
   "source": [
    "Scatterplot above indicates that there are a lot of datapoints above $1,000 without any reviews."
   ]
  },
  {
   "cell_type": "code",
   "execution_count": 15,
   "metadata": {},
   "outputs": [
    {
     "data": {
      "text/html": [
       "<div>\n",
       "<style scoped>\n",
       "    .dataframe tbody tr th:only-of-type {\n",
       "        vertical-align: middle;\n",
       "    }\n",
       "\n",
       "    .dataframe tbody tr th {\n",
       "        vertical-align: top;\n",
       "    }\n",
       "\n",
       "    .dataframe thead th {\n",
       "        text-align: right;\n",
       "    }\n",
       "</style>\n",
       "<table border=\"1\" class=\"dataframe\">\n",
       "  <thead>\n",
       "    <tr style=\"text-align: right;\">\n",
       "      <th></th>\n",
       "      <th>id</th>\n",
       "      <th>price_usd</th>\n",
       "      <th>num_reviews</th>\n",
       "    </tr>\n",
       "  </thead>\n",
       "  <tbody>\n",
       "    <tr>\n",
       "      <th>count</th>\n",
       "      <td>26802.000000</td>\n",
       "      <td>26802.000000</td>\n",
       "      <td>26802.000000</td>\n",
       "    </tr>\n",
       "    <tr>\n",
       "      <th>mean</th>\n",
       "      <td>17271.547795</td>\n",
       "      <td>156.726252</td>\n",
       "      <td>11.268450</td>\n",
       "    </tr>\n",
       "    <tr>\n",
       "      <th>std</th>\n",
       "      <td>11084.220602</td>\n",
       "      <td>168.202838</td>\n",
       "      <td>16.385404</td>\n",
       "    </tr>\n",
       "    <tr>\n",
       "      <th>min</th>\n",
       "      <td>1.000000</td>\n",
       "      <td>10.000000</td>\n",
       "      <td>1.000000</td>\n",
       "    </tr>\n",
       "    <tr>\n",
       "      <th>25%</th>\n",
       "      <td>7540.250000</td>\n",
       "      <td>85.000000</td>\n",
       "      <td>2.000000</td>\n",
       "    </tr>\n",
       "    <tr>\n",
       "      <th>50%</th>\n",
       "      <td>16235.500000</td>\n",
       "      <td>125.000000</td>\n",
       "      <td>5.000000</td>\n",
       "    </tr>\n",
       "    <tr>\n",
       "      <th>75%</th>\n",
       "      <td>26220.750000</td>\n",
       "      <td>185.000000</td>\n",
       "      <td>13.000000</td>\n",
       "    </tr>\n",
       "    <tr>\n",
       "      <th>max</th>\n",
       "      <td>42314.000000</td>\n",
       "      <td>10000.000000</td>\n",
       "      <td>99.000000</td>\n",
       "    </tr>\n",
       "  </tbody>\n",
       "</table>\n",
       "</div>"
      ],
      "text/plain": [
       "                 id     price_usd   num_reviews\n",
       "count  26802.000000  26802.000000  26802.000000\n",
       "mean   17271.547795    156.726252     11.268450\n",
       "std    11084.220602    168.202838     16.385404\n",
       "min        1.000000     10.000000      1.000000\n",
       "25%     7540.250000     85.000000      2.000000\n",
       "50%    16235.500000    125.000000      5.000000\n",
       "75%    26220.750000    185.000000     13.000000\n",
       "max    42314.000000  10000.000000     99.000000"
      ]
     },
     "execution_count": 15,
     "metadata": {},
     "output_type": "execute_result"
    }
   ],
   "source": [
    "reviewed_units = df[df['num_reviews'] > 0]\n",
    "not_reviewed_units = df[df['num_reviews'] == 0]\n",
    "reviewed_units.head()\n",
    "\n",
    "reviewed_units.describe()"
   ]
  },
  {
   "cell_type": "code",
   "execution_count": 16,
   "metadata": {},
   "outputs": [
    {
     "data": {
      "text/html": [
       "<div>\n",
       "<style scoped>\n",
       "    .dataframe tbody tr th:only-of-type {\n",
       "        vertical-align: middle;\n",
       "    }\n",
       "\n",
       "    .dataframe tbody tr th {\n",
       "        vertical-align: top;\n",
       "    }\n",
       "\n",
       "    .dataframe thead th {\n",
       "        text-align: right;\n",
       "    }\n",
       "</style>\n",
       "<table border=\"1\" class=\"dataframe\">\n",
       "  <thead>\n",
       "    <tr style=\"text-align: right;\">\n",
       "      <th></th>\n",
       "      <th>id</th>\n",
       "      <th>price_usd</th>\n",
       "      <th>num_reviews</th>\n",
       "    </tr>\n",
       "  </thead>\n",
       "  <tbody>\n",
       "    <tr>\n",
       "      <th>count</th>\n",
       "      <td>16000.000000</td>\n",
       "      <td>16000.000000</td>\n",
       "      <td>16000.0</td>\n",
       "    </tr>\n",
       "    <tr>\n",
       "      <th>mean</th>\n",
       "      <td>28319.686187</td>\n",
       "      <td>238.025500</td>\n",
       "      <td>0.0</td>\n",
       "    </tr>\n",
       "    <tr>\n",
       "      <th>std</th>\n",
       "      <td>11233.059831</td>\n",
       "      <td>365.393895</td>\n",
       "      <td>0.0</td>\n",
       "    </tr>\n",
       "    <tr>\n",
       "      <th>min</th>\n",
       "      <td>7.000000</td>\n",
       "      <td>10.000000</td>\n",
       "      <td>0.0</td>\n",
       "    </tr>\n",
       "    <tr>\n",
       "      <th>25%</th>\n",
       "      <td>20279.500000</td>\n",
       "      <td>100.000000</td>\n",
       "      <td>0.0</td>\n",
       "    </tr>\n",
       "    <tr>\n",
       "      <th>50%</th>\n",
       "      <td>30777.500000</td>\n",
       "      <td>150.000000</td>\n",
       "      <td>0.0</td>\n",
       "    </tr>\n",
       "    <tr>\n",
       "      <th>75%</th>\n",
       "      <td>38170.250000</td>\n",
       "      <td>250.000000</td>\n",
       "      <td>0.0</td>\n",
       "    </tr>\n",
       "    <tr>\n",
       "      <th>max</th>\n",
       "      <td>42802.000000</td>\n",
       "      <td>10000.000000</td>\n",
       "      <td>0.0</td>\n",
       "    </tr>\n",
       "  </tbody>\n",
       "</table>\n",
       "</div>"
      ],
      "text/plain": [
       "                 id     price_usd  num_reviews\n",
       "count  16000.000000  16000.000000      16000.0\n",
       "mean   28319.686187    238.025500          0.0\n",
       "std    11233.059831    365.393895          0.0\n",
       "min        7.000000     10.000000          0.0\n",
       "25%    20279.500000    100.000000          0.0\n",
       "50%    30777.500000    150.000000          0.0\n",
       "75%    38170.250000    250.000000          0.0\n",
       "max    42802.000000  10000.000000          0.0"
      ]
     },
     "execution_count": 16,
     "metadata": {},
     "output_type": "execute_result"
    }
   ],
   "source": [
    "not_reviewed_units.describe()"
   ]
  },
  {
   "cell_type": "markdown",
   "metadata": {},
   "source": [
    "The two tables above show descriptive statistics for reviewed units compared to non-reviewed units.\n",
    "\n",
    "The mean for non-reviewed units is $82 more expensive than for units with reviews. Additionally, the standard deviation is more than twice as large for non-reviewed units!\n",
    "We can observe that non-reviewed units are inflating the price statistics.\n",
    "\n",
    "The priceonomic puzzle asked specifically for the **median**. As a robust statistic, we can see that the median only differs by $25 between the two groups.\n",
    "\n",
    "However, the purpose of the median is to provide a central measure of the data. 16,000 units do not have reviews. If we consider reviews as a proxy for attendance, we can assume that the units without reviews are not a traditional experience at the TreefornBnb. Below is a table of the median price for top cities, only using records with reviews."
   ]
  },
  {
   "cell_type": "code",
   "execution_count": 17,
   "metadata": {},
   "outputs": [
    {
     "data": {
      "text/html": [
       "<div>\n",
       "<style scoped>\n",
       "    .dataframe tbody tr th:only-of-type {\n",
       "        vertical-align: middle;\n",
       "    }\n",
       "\n",
       "    .dataframe tbody tr th {\n",
       "        vertical-align: top;\n",
       "    }\n",
       "\n",
       "    .dataframe thead th {\n",
       "        text-align: right;\n",
       "    }\n",
       "</style>\n",
       "<table border=\"1\" class=\"dataframe\">\n",
       "  <thead>\n",
       "    <tr style=\"text-align: right;\">\n",
       "      <th></th>\n",
       "      <th></th>\n",
       "      <th>median_price_usd</th>\n",
       "    </tr>\n",
       "    <tr>\n",
       "      <th>city</th>\n",
       "      <th>state</th>\n",
       "      <th></th>\n",
       "    </tr>\n",
       "  </thead>\n",
       "  <tbody>\n",
       "    <tr>\n",
       "      <th>Carmel</th>\n",
       "      <th>CA</th>\n",
       "      <td>300.0</td>\n",
       "    </tr>\n",
       "    <tr>\n",
       "      <th>Malibu</th>\n",
       "      <th>CA</th>\n",
       "      <td>225.0</td>\n",
       "    </tr>\n",
       "    <tr>\n",
       "      <th>Truckee</th>\n",
       "      <th>NV</th>\n",
       "      <td>200.0</td>\n",
       "    </tr>\n",
       "    <tr>\n",
       "      <th>Laguna Beach</th>\n",
       "      <th>CA</th>\n",
       "      <td>200.0</td>\n",
       "    </tr>\n",
       "    <tr>\n",
       "      <th>Incline Village</th>\n",
       "      <th>NV</th>\n",
       "      <td>200.0</td>\n",
       "    </tr>\n",
       "  </tbody>\n",
       "</table>\n",
       "</div>"
      ],
      "text/plain": [
       "                       median_price_usd\n",
       "city            state                  \n",
       "Carmel          CA                300.0\n",
       "Malibu          CA                225.0\n",
       "Truckee         NV                200.0\n",
       "Laguna Beach    CA                200.0\n",
       "Incline Village NV                200.0"
      ]
     },
     "execution_count": 17,
     "metadata": {},
     "output_type": "execute_result"
    }
   ],
   "source": [
    "top_100_rev_units = reviewed_units \\\n",
    "    .groupby( ['city', 'state'])['price_usd'] \\\n",
    "    .describe() \\\n",
    "    .sort_values( 'count', ascending = False) \\\n",
    "    .head(100)['50%'] \\\n",
    "    .to_frame() \\\n",
    "    .rename( columns = { '50%' : 'median_price_usd'}) \\\n",
    "    .sort_values( 'median_price_usd', ascending = False)\n",
    "\n",
    "\n",
    "top_100_rev_units.head()"
   ]
  }
 ],
 "metadata": {
  "kernelspec": {
   "display_name": "Python 3",
   "language": "python",
   "name": "python3"
  },
  "language_info": {
   "codemirror_mode": {
    "name": "ipython",
    "version": 3
   },
   "file_extension": ".py",
   "mimetype": "text/x-python",
   "name": "python",
   "nbconvert_exporter": "python",
   "pygments_lexer": "ipython3",
   "version": "3.7.6"
  }
 },
 "nbformat": 4,
 "nbformat_minor": 4
}
