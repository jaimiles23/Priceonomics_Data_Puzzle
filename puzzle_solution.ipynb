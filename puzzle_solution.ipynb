{
 "cells": [
  {
   "cell_type": "markdown",
   "metadata": {},
   "source": [
    "# Libraries"
   ]
  },
  {
   "cell_type": "code",
   "execution_count": 1,
   "metadata": {},
   "outputs": [],
   "source": [
    "import os\n",
    "import numpy as np\n",
    "import seaborn as sns\n",
    "import pandas as pd\n",
    "\n",
    "%matplotlib inline"
   ]
  },
  {
   "cell_type": "markdown",
   "metadata": {},
   "source": [
    "# Data Import"
   ]
  },
  {
   "cell_type": "code",
   "execution_count": 2,
   "metadata": {},
   "outputs": [],
   "source": [
    "os.getcwd()\n",
    "\n",
    "df = pd.read_csv(\"Data+for+TreefortBnB+Puzzle.csv\")"
   ]
  },
  {
   "cell_type": "code",
   "execution_count": 3,
   "metadata": {},
   "outputs": [
    {
     "data": {
      "text/html": [
       "<div>\n",
       "<style scoped>\n",
       "    .dataframe tbody tr th:only-of-type {\n",
       "        vertical-align: middle;\n",
       "    }\n",
       "\n",
       "    .dataframe tbody tr th {\n",
       "        vertical-align: top;\n",
       "    }\n",
       "\n",
       "    .dataframe thead th {\n",
       "        text-align: right;\n",
       "    }\n",
       "</style>\n",
       "<table border=\"1\" class=\"dataframe\">\n",
       "  <thead>\n",
       "    <tr style=\"text-align: right;\">\n",
       "      <th></th>\n",
       "      <th>Unique id</th>\n",
       "      <th>City</th>\n",
       "      <th>State</th>\n",
       "      <th>$ Price</th>\n",
       "      <th># of Reviews</th>\n",
       "    </tr>\n",
       "  </thead>\n",
       "  <tbody>\n",
       "    <tr>\n",
       "      <th>0</th>\n",
       "      <td>1</td>\n",
       "      <td>Portland</td>\n",
       "      <td>OR</td>\n",
       "      <td>75</td>\n",
       "      <td>5</td>\n",
       "    </tr>\n",
       "    <tr>\n",
       "      <th>1</th>\n",
       "      <td>2</td>\n",
       "      <td>San Diego</td>\n",
       "      <td>CA</td>\n",
       "      <td>95</td>\n",
       "      <td>3</td>\n",
       "    </tr>\n",
       "    <tr>\n",
       "      <th>2</th>\n",
       "      <td>3</td>\n",
       "      <td>New York</td>\n",
       "      <td>NY</td>\n",
       "      <td>149</td>\n",
       "      <td>37</td>\n",
       "    </tr>\n",
       "    <tr>\n",
       "      <th>3</th>\n",
       "      <td>4</td>\n",
       "      <td>Los Angeles</td>\n",
       "      <td>CA</td>\n",
       "      <td>199</td>\n",
       "      <td>45</td>\n",
       "    </tr>\n",
       "    <tr>\n",
       "      <th>4</th>\n",
       "      <td>5</td>\n",
       "      <td>Denver</td>\n",
       "      <td>CO</td>\n",
       "      <td>56</td>\n",
       "      <td>99</td>\n",
       "    </tr>\n",
       "  </tbody>\n",
       "</table>\n",
       "</div>"
      ],
      "text/plain": [
       "   Unique id         City State  $ Price  # of Reviews\n",
       "0          1     Portland    OR       75             5\n",
       "1          2    San Diego    CA       95             3\n",
       "2          3     New York    NY      149            37\n",
       "3          4  Los Angeles    CA      199            45\n",
       "4          5       Denver    CO       56            99"
      ]
     },
     "execution_count": 3,
     "metadata": {},
     "output_type": "execute_result"
    }
   ],
   "source": [
    "df.head()"
   ]
  },
  {
   "cell_type": "markdown",
   "metadata": {},
   "source": [
    "# Data Wrangling"
   ]
  },
  {
   "cell_type": "markdown",
   "metadata": {},
   "source": [
    "## Clean column names"
   ]
  },
  {
   "cell_type": "code",
   "execution_count": 4,
   "metadata": {},
   "outputs": [
    {
     "name": "stdout",
     "output_type": "stream",
     "text": [
      "Index(['Unique id', 'City', 'State', '$ Price', '# of Reviews'], dtype='object')\n",
      "Index(['id', 'city', 'state', 'price_usd', 'num_reviews'], dtype='object')\n"
     ]
    }
   ],
   "source": [
    "print(df.columns)\n",
    "\n",
    "col_names = (\n",
    "    \"id\",\n",
    "    \"city\",\n",
    "    \"state\",\n",
    "    \"price_usd\",\n",
    "    \"num_reviews\",\n",
    ")\n",
    "\n",
    "df.columns = col_names\n",
    "print(df.columns)"
   ]
  },
  {
   "cell_type": "markdown",
   "metadata": {},
   "source": [
    "## Check for missing values"
   ]
  },
  {
   "cell_type": "code",
   "execution_count": 5,
   "metadata": {},
   "outputs": [
    {
     "name": "stdout",
     "output_type": "stream",
     "text": [
      "False\tid\n",
      "False\tcity\n",
      "False\tstate\n",
      "False\tprice_usd\n",
      "False\tnum_reviews\n"
     ]
    },
    {
     "data": {
      "image/png": "[encoded data removed]",
      "text/plain": [
       "<Figure size 432x288 with 1 Axes>"
      ]
     },
     "metadata": {
      "needs_background": "light"
     },
     "output_type": "display_data"
    }
   ],
   "source": [
    "## Visual check\n",
    "sns.heatmap(\n",
    "    df.isnull(),\n",
    "    yticklabels = False,\n",
    "    cbar = False,\n",
    "    cmap = 'viridis'\n",
    ")\n",
    "\n",
    "## check each column for missing values\n",
    "for col in df.columns:\n",
    "    are_null = df[[col]].isnull().values.any()\n",
    "    print(are_null, col, sep = \"\\t\")"
   ]
  },
  {
   "cell_type": "markdown",
   "metadata": {},
   "source": [
    "## Check data types"
   ]
  },
  {
   "cell_type": "code",
   "execution_count": 6,
   "metadata": {},
   "outputs": [
    {
     "data": {
      "text/plain": [
       "id              int64\n",
       "city           object\n",
       "state          object\n",
       "price_usd       int64\n",
       "num_reviews     int64\n",
       "dtype: object"
      ]
     },
     "execution_count": 6,
     "metadata": {},
     "output_type": "execute_result"
    }
   ],
   "source": [
    "df.dtypes"
   ]
  },
  {
   "cell_type": "markdown",
   "metadata": {},
   "source": [
    "## Clean string data"
   ]
  },
  {
   "cell_type": "code",
   "execution_count": 7,
   "metadata": {},
   "outputs": [
    {
     "data": {
      "text/html": [
       "<div>\n",
       "<style scoped>\n",
       "    .dataframe tbody tr th:only-of-type {\n",
       "        vertical-align: middle;\n",
       "    }\n",
       "\n",
       "    .dataframe tbody tr th {\n",
       "        vertical-align: top;\n",
       "    }\n",
       "\n",
       "    .dataframe thead th {\n",
       "        text-align: right;\n",
       "    }\n",
       "</style>\n",
       "<table border=\"1\" class=\"dataframe\">\n",
       "  <thead>\n",
       "    <tr style=\"text-align: right;\">\n",
       "      <th></th>\n",
       "      <th>id</th>\n",
       "      <th>city</th>\n",
       "      <th>state</th>\n",
       "      <th>price_usd</th>\n",
       "      <th>num_reviews</th>\n",
       "    </tr>\n",
       "  </thead>\n",
       "  <tbody>\n",
       "    <tr>\n",
       "      <th>0</th>\n",
       "      <td>1</td>\n",
       "      <td>Portland</td>\n",
       "      <td>OR</td>\n",
       "      <td>75</td>\n",
       "      <td>5</td>\n",
       "    </tr>\n",
       "    <tr>\n",
       "      <th>1</th>\n",
       "      <td>2</td>\n",
       "      <td>San Diego</td>\n",
       "      <td>CA</td>\n",
       "      <td>95</td>\n",
       "      <td>3</td>\n",
       "    </tr>\n",
       "    <tr>\n",
       "      <th>2</th>\n",
       "      <td>3</td>\n",
       "      <td>New York</td>\n",
       "      <td>NY</td>\n",
       "      <td>149</td>\n",
       "      <td>37</td>\n",
       "    </tr>\n",
       "    <tr>\n",
       "      <th>3</th>\n",
       "      <td>4</td>\n",
       "      <td>Los Angeles</td>\n",
       "      <td>CA</td>\n",
       "      <td>199</td>\n",
       "      <td>45</td>\n",
       "    </tr>\n",
       "    <tr>\n",
       "      <th>4</th>\n",
       "      <td>5</td>\n",
       "      <td>Denver</td>\n",
       "      <td>CO</td>\n",
       "      <td>56</td>\n",
       "      <td>99</td>\n",
       "    </tr>\n",
       "  </tbody>\n",
       "</table>\n",
       "</div>"
      ],
      "text/plain": [
       "   id         city state  price_usd  num_reviews\n",
       "0   1     Portland    OR         75            5\n",
       "1   2    San Diego    CA         95            3\n",
       "2   3     New York    NY        149           37\n",
       "3   4  Los Angeles    CA        199           45\n",
       "4   5       Denver    CO         56           99"
      ]
     },
     "execution_count": 7,
     "metadata": {},
     "output_type": "execute_result"
    }
   ],
   "source": [
    "## Uniform case & strip excess white space\n",
    "df['city'] = df['city'].str.title().str.strip()\n",
    "df['state'] = df['state'].str.upper().str.strip()\n",
    "    \n",
    "df.head()"
   ]
  },
  {
   "cell_type": "markdown",
   "metadata": {},
   "source": [
    "# Analysis"
   ]
  },
  {
   "cell_type": "markdown",
   "metadata": {},
   "source": [
    "## 100 cities w/ most units on market"
   ]
  },
  {
   "cell_type": "code",
   "execution_count": 14,
   "metadata": {},
   "outputs": [
    {
     "data": {
      "text/html": [
       "<div>\n",
       "<style scoped>\n",
       "    .dataframe tbody tr th:only-of-type {\n",
       "        vertical-align: middle;\n",
       "    }\n",
       "\n",
       "    .dataframe tbody tr th {\n",
       "        vertical-align: top;\n",
       "    }\n",
       "\n",
       "    .dataframe thead th {\n",
       "        text-align: right;\n",
       "    }\n",
       "</style>\n",
       "<table border=\"1\" class=\"dataframe\">\n",
       "  <thead>\n",
       "    <tr style=\"text-align: right;\">\n",
       "      <th></th>\n",
       "      <th></th>\n",
       "      <th>median_price_usd</th>\n",
       "    </tr>\n",
       "    <tr>\n",
       "      <th>city</th>\n",
       "      <th>state</th>\n",
       "      <th></th>\n",
       "    </tr>\n",
       "  </thead>\n",
       "  <tbody>\n",
       "    <tr>\n",
       "      <th>Indianapolis</th>\n",
       "      <th>IN</th>\n",
       "      <td>650.0</td>\n",
       "    </tr>\n",
       "    <tr>\n",
       "      <th>Malibu</th>\n",
       "      <th>CA</th>\n",
       "      <td>304.0</td>\n",
       "    </tr>\n",
       "    <tr>\n",
       "      <th>Park City</th>\n",
       "      <th>UT</th>\n",
       "      <td>299.0</td>\n",
       "    </tr>\n",
       "    <tr>\n",
       "      <th>Healdsburg</th>\n",
       "      <th>CA</th>\n",
       "      <td>275.0</td>\n",
       "    </tr>\n",
       "    <tr>\n",
       "      <th>Truckee</th>\n",
       "      <th>NV</th>\n",
       "      <td>275.0</td>\n",
       "    </tr>\n",
       "  </tbody>\n",
       "</table>\n",
       "</div>"
      ],
      "text/plain": [
       "                    median_price_usd\n",
       "city         state                  \n",
       "Indianapolis IN                650.0\n",
       "Malibu       CA                304.0\n",
       "Park City    UT                299.0\n",
       "Healdsburg   CA                275.0\n",
       "Truckee      NV                275.0"
      ]
     },
     "execution_count": 14,
     "metadata": {},
     "output_type": "execute_result"
    }
   ],
   "source": [
    "\"\"\"\n",
    "1. Group by city, then state. Select price column\n",
    "2. Describe for characteristics of data set\n",
    "3. Sort values by count, in descending order\n",
    "4. Take top 100 values, and the median column\n",
    "5. Convert back to dataframe\n",
    "6. Rename median column\n",
    "7. Sort values based on median price USD\n",
    "\"\"\"\n",
    "df_top_cities = df \\\n",
    "    .groupby( ['city', 'state'])['price_usd'] \\\n",
    "    .describe() \\\n",
    "    .sort_values( 'count', ascending = False) \\\n",
    "    .head(100)['50%'] \\\n",
    "    .to_frame() \\\n",
    "    .rename( columns = { '50%' : 'median_price_usd'}) \\\n",
    "    .sort_values( 'median_price_usd', ascending = False)\n",
    "\n",
    "\n",
    "df_top_cities.head()"
   ]
  },
  {
   "cell_type": "code",
   "execution_count": null,
   "metadata": {
    "scrolled": true
   },
   "outputs": [],
   "source": [
    "pd.set_option('display.max_rows', None)\n",
    "df_top_cities.info"
   ]
  },
  {
   "cell_type": "markdown",
   "metadata": {},
   "source": [
    "# Exploratory analysis"
   ]
  },
  {
   "cell_type": "code",
   "execution_count": null,
   "metadata": {},
   "outputs": [],
   "source": [
    "## Check descriptive statistics for price_usd\n",
    "df['price_usd'].describe()"
   ]
  },
  {
   "cell_type": "markdown",
   "metadata": {},
   "source": [
    "- Max price is $10,000\n",
    "\n",
    "- Quantile 3 is $200\n",
    "\n",
    "Something strange here that needs more exploring."
   ]
  },
  {
   "cell_type": "code",
   "execution_count": null,
   "metadata": {},
   "outputs": [],
   "source": [
    "df['price_usd'].hist(\n",
    "    bins = 50,\n",
    "    figsize = (15, 10),\n",
    "    log = True    # to veiw data\n",
    ")"
   ]
  },
  {
   "cell_type": "markdown",
   "metadata": {},
   "source": [
    "Histogram shows that there are units listed above $2,000.\n",
    "\n",
    "Additionally, there are units listed at $10,000.\n"
   ]
  },
  {
   "cell_type": "code",
   "execution_count": null,
   "metadata": {},
   "outputs": [],
   "source": [
    "## Filter rows > 4000\n",
    "expensive_cities = df[df['price_usd'] > 4000] \\\n",
    "    .sort_values('price_usd', ascending = False)\n",
    "\n",
    "expensive_cities\n"
   ]
  },
  {
   "cell_type": "code",
   "execution_count": null,
   "metadata": {},
   "outputs": [],
   "source": [
    "## See few reviews for expensive_cities\n",
    "## Scatterplot to view relationship between price_usd & num_reviews\n",
    "df.plot(\n",
    "    x = 'price_usd',\n",
    "    y = 'num_reviews',\n",
    "    kind = 'scatter',\n",
    "    figsize = (15, 10),\n",
    "    title = \"Unit $ Price vs Number of Reviews\"\n",
    ")"
   ]
  },
  {
   "cell_type": "markdown",
   "metadata": {},
   "source": [
    "Indianapolis, IN had the highest median USD price for analysis. \n",
    "Let's check the relationship of USD $ Price to Number of Reviews."
   ]
  },
  {
   "cell_type": "code",
   "execution_count": null,
   "metadata": {},
   "outputs": [],
   "source": [
    "indianapolis_in_only = df[df.city == \"Indianapolis\"]\n",
    "indianapolis_in_only.plot(\n",
    "    x = 'price_usd',\n",
    "    y = 'num_reviews',\n",
    "    kind = 'scatter',\n",
    "    figsize = (15, 10),\n",
    "    title = \"Indianapolis, IN: Unit $ Price vs Number of Reviews\"\n",
    ")"
   ]
  },
  {
   "cell_type": "markdown",
   "metadata": {},
   "source": [
    "Scatterplot above indicates that there are a lot of datapoints above $1,000 without any reviews."
   ]
  },
  {
   "cell_type": "code",
   "execution_count": null,
   "metadata": {},
   "outputs": [],
   "source": [
    "reviewed_units = df[df['num_reviews'] > 0]\n",
    "not_reviewed_units = df[df['num_reviews'] == 0]\n",
    "reviewed_units.head()\n",
    "\n",
    "reviewed_units.describe()"
   ]
  },
  {
   "cell_type": "code",
   "execution_count": null,
   "metadata": {},
   "outputs": [],
   "source": [
    "not_reviewed_units.describe()"
   ]
  },
  {
   "cell_type": "markdown",
   "metadata": {},
   "source": [
    "The two tables above show descriptive statistics for reviewed units compared to non-reviewed units.\n",
    "\n",
    "The mean for non-reviewed units is $82 more expensive than for units with reviews. Additionally, the standard deviation is more than twice as large for non-reviewed units!\n",
    "We can observe that non-reviewed units are inflating the price statistics.\n",
    "\n",
    "The priceonomic puzzle asked specifically for the **median**. As a robust statistic, we can see that the median only differs by $25 between the two groups.\n",
    "\n",
    "However, the purpose of the median is to provide a central measure of the data. 16,000 units do not have reviews. If we consider reviews as a proxy for attendance, we can assume that the units without reviews are not a traditional experience at the TreefornBnb. Below is a table of the median price for top cities, only using records with reviews."
   ]
  },
  {
   "cell_type": "code",
   "execution_count": null,
   "metadata": {},
   "outputs": [],
   "source": [
    "top_100_rev_units = reviewed_units \\\n",
    "    .groupby( ['city', 'state'])['price_usd'] \\\n",
    "    .describe() \\\n",
    "    .sort_values( 'count', ascending = False) \\\n",
    "    .head(100)['50%'] \\\n",
    "    .to_frame() \\\n",
    "    .rename( columns = { '50%' : 'median_price_usd'}) \\\n",
    "    .sort_values( 'median_price_usd', ascending = False)\n",
    "\n",
    "\n",
    "top_100_rev_units.head()"
   ]
  }
 ],
 "metadata": {
  "kernelspec": {
   "display_name": "Python 3",
   "language": "python",
   "name": "python3"
  },
  "language_info": {
   "codemirror_mode": {
    "name": "ipython",
    "version": 3
   },
   "file_extension": ".py",
   "mimetype": "text/x-python",
   "name": "python",
   "nbconvert_exporter": "python",
   "pygments_lexer": "ipython3",
   "version": "3.7.6"
  }
 },
 "nbformat": 4,
 "nbformat_minor": 4
}
