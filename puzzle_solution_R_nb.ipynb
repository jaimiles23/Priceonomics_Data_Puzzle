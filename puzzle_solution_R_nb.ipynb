{
 "cells": [
  {
   "cell_type": "markdown",
   "metadata": {},
   "source": [
    "# Priceonomics data puzzle\n",
    "\n",
    "- Author: Jai Miles\n",
    "- Date: 07/01/2020\n",
    "- Source: [Priceonomics](https://priceonomics.com/the-priceonomics-data-puzzle-treefortbnb/)\n",
    "\n",
    "\n",
    "\n",
    "Challenge: Tell us the median price of booking a room in each of the top 100 cities in this data set. \n",
    "\n",
    "\n",
    "Stated Considerations:\n",
    "- More specifically, send us back a table with a list of the median price in each city, ranked from most to least expensive. \n",
    "- Restrict your analysis to just to the \\\"top 100\\\" cities that have the most units on the market.\n",
    "\n",
    "\n",
    "Extra Considerations:\n",
    "- There may be duplicate city names in different states. \n",
    "  I will handle this by first grouping cities & states and then counting cities.\n",
    "  NOTE: Some of these duplicates may be from data entry, e.g., Berkeley, CO is a city neighborhood.\n",
    "\n",
    "- Don't assume that all data has uniform input.\n",
    "  After working with the data, I discovered case inconsistencies, \n",
    "  e.g., New York, NY vs new york, NY. In analysis, I considered these the same cities.\n",
    "\n",
    "- Some locations may be listed under different names. \n",
    "  After grouping the data, I noticed that Miami and Miami beach are both listed. \n",
    "  With some research, I decided to group the two separately. [Source](https://www.tripadvisor.com/ShowTopic-g34438-i92-k1409657-Whats_the_difference_between_miami_and_miami_beach-Miami_Florida.html)"
   ]
  },
  {
   "cell_type": "markdown",
   "metadata": {},
   "source": [
    "# Libraries & Packages\n",
    "\n",
    "Section Steps\n",
    "1. Install libraries\n",
    "2. Load libraries\n",
    "\n",
    "dplyr - data manipulation and analysis.\n",
    "purr - data validation and extra analysis at end.\n",
    "huxtable - pretty printing results to console.\n",
    "ggplot2 - additional data exploration.\n"
   ]
  },
  {
   "cell_type": "markdown",
   "metadata": {},
   "source": [
    "## Install"
   ]
  },
  {
   "cell_type": "code",
   "execution_count": 3,
   "metadata": {},
   "outputs": [
    {
     "name": "stderr",
     "output_type": "stream",
     "text": [
      "Loading required package: huxtable\n",
      "Warning message in library(package, lib.loc = lib.loc, character.only = TRUE, logical.return = TRUE, :\n",
      "\"there is no package called 'huxtable'\"also installing the dependencies 'commonmark', 'memoise'\n",
      "\n"
     ]
    },
    {
     "name": "stdout",
     "output_type": "stream",
     "text": [
      "package 'commonmark' successfully unpacked and MD5 sums checked\n",
      "package 'memoise' successfully unpacked and MD5 sums checked\n",
      "package 'huxtable' successfully unpacked and MD5 sums checked\n",
      "\n",
      "The downloaded binary packages are in\n",
      "\tC:\\Users\\Jai\\AppData\\Local\\Temp\\RtmpsfRwKj\\downloaded_packages\n"
     ]
    },
    {
     "name": "stderr",
     "output_type": "stream",
     "text": [
      "Loading required package: ggplot2\n",
      "Registered S3 methods overwritten by 'ggplot2':\n",
      "  method         from \n",
      "  [.quosures     rlang\n",
      "  c.quosures     rlang\n",
      "  print.quosures rlang\n"
     ]
    }
   ],
   "source": [
    "## Uncomment below to install\n",
    "\n",
    "packages = c(\n",
    "  \"dplyr\",\n",
    "  \"purrr\",\n",
    "  \"huxtable\",\n",
    "  \"ggplot2\"\n",
    ")\n",
    "\n",
    "for (p in packages) {\n",
    "  if (!require(p, character.only = T)) {\n",
    "    install.packages(p)\n",
    "  }\n",
    "}"
   ]
  },
  {
   "cell_type": "markdown",
   "metadata": {},
   "source": [
    "## Load"
   ]
  },
  {
   "cell_type": "code",
   "execution_count": 4,
   "metadata": {},
   "outputs": [
    {
     "name": "stderr",
     "output_type": "stream",
     "text": [
      "Warning message:\n",
      "\"package 'huxtable' was built under R version 3.6.3\"\n",
      "Attaching package: 'huxtable'\n",
      "\n",
      "The following object is masked from 'package:ggplot2':\n",
      "\n",
      "    theme_grey\n",
      "\n",
      "The following object is masked from 'package:dplyr':\n",
      "\n",
      "    add_rownames\n",
      "\n"
     ]
    }
   ],
   "source": [
    "\n",
    "for (p in packages) {\n",
    "  library(p, character.only = T)\n",
    "}\n"
   ]
  },
  {
   "cell_type": "markdown",
   "metadata": {},
   "source": [
    "# Import & Clean Data\n",
    "Section Steps\n",
    "1. Import data\n",
    "2. Clean column names\n",
    "3. Check for missing values\n",
    "4. Check all data is correct type\n",
    "5. Clean string data"
   ]
  },
  {
   "cell_type": "markdown",
   "metadata": {},
   "source": [
    "## Import Data"
   ]
  },
  {
   "cell_type": "code",
   "execution_count": 7,
   "metadata": {},
   "outputs": [
    {
     "data": {
      "text/html": [
       "'C:/Users/Jai/Desktop/job_stuff/sample_works'"
      ],
      "text/latex": [
       "'C:/Users/Jai/Desktop/job\\_stuff/sample\\_works'"
      ],
      "text/markdown": [
       "'C:/Users/Jai/Desktop/job_stuff/sample_works'"
      ],
      "text/plain": [
       "[1] \"C:/Users/Jai/Desktop/job_stuff/sample_works\""
      ]
     },
     "metadata": {},
     "output_type": "display_data"
    },
    {
     "ename": "ERROR",
     "evalue": "Error in View(data_treefortbnb): 'View()' not yet supported in the Jupyter R kernel\n",
     "output_type": "error",
     "traceback": [
      "Error in View(data_treefortbnb): 'View()' not yet supported in the Jupyter R kernel\nTraceback:\n",
      "1. View(data_treefortbnb)",
      "2. stop(sQuote(\"View()\"), \" not yet supported in the Jupyter R kernel\")"
     ]
    }
   ],
   "source": [
    "## Get current working directory for import (if needed)\n",
    "getwd()   # C:/Users/Jai/Documents/\n",
    "filename_weburl = \"https://pix-media.priceonomics-media.com/Data+for+TreefortBnB+Puzzle.csv\"\n",
    "\n",
    "data_treefortbnb <- read.csv(filename_weburl,\n",
    "                             header = TRUE,\n",
    "                             sep = \",\",\n",
    "                             strip.white = TRUE\n",
    "                            )\n",
    "View(data_treefortbnb)"
   ]
  },
  {
   "cell_type": "markdown",
   "metadata": {},
   "source": [
    "## Clean column names"
   ]
  },
  {
   "cell_type": "code",
   "execution_count": 8,
   "metadata": {},
   "outputs": [
    {
     "data": {
      "text/html": [
       "<ol class=list-inline>\n",
       "\t<li>'Unique.id'</li>\n",
       "\t<li>'City'</li>\n",
       "\t<li>'State'</li>\n",
       "\t<li>'X..Price'</li>\n",
       "\t<li>'X..of.Reviews'</li>\n",
       "</ol>\n"
      ],
      "text/latex": [
       "\\begin{enumerate*}\n",
       "\\item 'Unique.id'\n",
       "\\item 'City'\n",
       "\\item 'State'\n",
       "\\item 'X..Price'\n",
       "\\item 'X..of.Reviews'\n",
       "\\end{enumerate*}\n"
      ],
      "text/markdown": [
       "1. 'Unique.id'\n",
       "2. 'City'\n",
       "3. 'State'\n",
       "4. 'X..Price'\n",
       "5. 'X..of.Reviews'\n",
       "\n",
       "\n"
      ],
      "text/plain": [
       "[1] \"Unique.id\"     \"City\"          \"State\"         \"X..Price\"     \n",
       "[5] \"X..of.Reviews\""
      ]
     },
     "metadata": {},
     "output_type": "display_data"
    },
    {
     "data": {
      "text/html": [
       "<ol class=list-inline>\n",
       "\t<li>'id'</li>\n",
       "\t<li>'city'</li>\n",
       "\t<li>'state'</li>\n",
       "\t<li>'price_USD'</li>\n",
       "\t<li>'num_reviews'</li>\n",
       "</ol>\n"
      ],
      "text/latex": [
       "\\begin{enumerate*}\n",
       "\\item 'id'\n",
       "\\item 'city'\n",
       "\\item 'state'\n",
       "\\item 'price\\_USD'\n",
       "\\item 'num\\_reviews'\n",
       "\\end{enumerate*}\n"
      ],
      "text/markdown": [
       "1. 'id'\n",
       "2. 'city'\n",
       "3. 'state'\n",
       "4. 'price_USD'\n",
       "5. 'num_reviews'\n",
       "\n",
       "\n"
      ],
      "text/plain": [
       "[1] \"id\"          \"city\"        \"state\"       \"price_USD\"   \"num_reviews\""
      ]
     },
     "metadata": {},
     "output_type": "display_data"
    }
   ],
   "source": [
    "colnames(data_treefortbnb)\n",
    "\n",
    "new_col_names <- c(\n",
    "  \"id\",\n",
    "  \"city\",\n",
    "  \"state\",\n",
    "  \"price_USD\",\n",
    "  \"num_reviews\"\n",
    ")\n",
    "colnames(data_treefortbnb) <- new_col_names\n",
    "colnames(data_treefortbnb)"
   ]
  },
  {
   "cell_type": "markdown",
   "metadata": {},
   "source": [
    "## Check missing values"
   ]
  },
  {
   "cell_type": "code",
   "execution_count": 9,
   "metadata": {},
   "outputs": [
    {
     "data": {
      "text/html": [
       "<dl class=dl-horizontal>\n",
       "\t<dt>id</dt>\n",
       "\t\t<dd>0</dd>\n",
       "\t<dt>city</dt>\n",
       "\t\t<dd>0</dd>\n",
       "\t<dt>state</dt>\n",
       "\t\t<dd>0</dd>\n",
       "\t<dt>price_USD</dt>\n",
       "\t\t<dd>0</dd>\n",
       "\t<dt>num_reviews</dt>\n",
       "\t\t<dd>0</dd>\n",
       "</dl>\n"
      ],
      "text/latex": [
       "\\begin{description*}\n",
       "\\item[id] 0\n",
       "\\item[city] 0\n",
       "\\item[state] 0\n",
       "\\item[price\\textbackslash{}\\_USD] 0\n",
       "\\item[num\\textbackslash{}\\_reviews] 0\n",
       "\\end{description*}\n"
      ],
      "text/markdown": [
       "id\n",
       ":   0city\n",
       ":   0state\n",
       ":   0price_USD\n",
       ":   0num_reviews\n",
       ":   0\n",
       "\n"
      ],
      "text/plain": [
       "         id        city       state   price_USD num_reviews \n",
       "          0           0           0           0           0 "
      ]
     },
     "metadata": {},
     "output_type": "display_data"
    }
   ],
   "source": [
    "colSums( is.na(data_treefortbnb))   # No N/As to handle\n"
   ]
  },
  {
   "cell_type": "markdown",
   "metadata": {},
   "source": [
    "## Check dataframe types"
   ]
  },
  {
   "cell_type": "code",
   "execution_count": 12,
   "metadata": {},
   "outputs": [
    {
     "data": {
      "text/html": [
       "TRUE"
      ],
      "text/latex": [
       "TRUE"
      ],
      "text/markdown": [
       "TRUE"
      ],
      "text/plain": [
       "[1] TRUE"
      ]
     },
     "metadata": {},
     "output_type": "display_data"
    },
    {
     "data": {
      "text/html": [
       "FALSE"
      ],
      "text/latex": [
       "FALSE"
      ],
      "text/markdown": [
       "FALSE"
      ],
      "text/plain": [
       "[1] FALSE"
      ]
     },
     "metadata": {},
     "output_type": "display_data"
    },
    {
     "data": {
      "text/html": [
       "FALSE"
      ],
      "text/latex": [
       "FALSE"
      ],
      "text/markdown": [
       "FALSE"
      ],
      "text/plain": [
       "[1] FALSE"
      ]
     },
     "metadata": {},
     "output_type": "display_data"
    },
    {
     "name": "stderr",
     "output_type": "stream",
     "text": [
      "Warning message:\n",
      "\"Deprecated\""
     ]
    },
    {
     "data": {
      "text/html": [
       "TRUE"
      ],
      "text/latex": [
       "TRUE"
      ],
      "text/markdown": [
       "TRUE"
      ],
      "text/plain": [
       "[1] TRUE"
      ]
     },
     "metadata": {},
     "output_type": "display_data"
    },
    {
     "data": {
      "text/html": [
       "TRUE"
      ],
      "text/latex": [
       "TRUE"
      ],
      "text/markdown": [
       "TRUE"
      ],
      "text/plain": [
       "[1] TRUE"
      ]
     },
     "metadata": {},
     "output_type": "display_data"
    }
   ],
   "source": [
    "## Check type of each column\n",
    "is_integer(data_treefortbnb$id)\n",
    "is_character(data_treefortbnb$city)\n",
    "is_character(data_treefortbnb$state)\n",
    "is_numeric(data_treefortbnb$price_USD)\n",
    "is_integer(data_treefortbnb$num_reviews)\n"
   ]
  },
  {
   "cell_type": "markdown",
   "metadata": {},
   "source": [
    "NOTE:\n",
    "city & state yield false for is_character test. This behavior can be inconsistent, so investigate."
   ]
  },
  {
   "cell_type": "code",
   "execution_count": 14,
   "metadata": {},
   "outputs": [
    {
     "data": {
      "text/html": [
       "'integer'"
      ],
      "text/latex": [
       "'integer'"
      ],
      "text/markdown": [
       "'integer'"
      ],
      "text/plain": [
       "[1] \"integer\""
      ]
     },
     "metadata": {},
     "output_type": "display_data"
    },
    {
     "data": {
      "text/html": [
       "'integer'"
      ],
      "text/latex": [
       "'integer'"
      ],
      "text/markdown": [
       "'integer'"
      ],
      "text/plain": [
       "[1] \"integer\""
      ]
     },
     "metadata": {},
     "output_type": "display_data"
    },
    {
     "data": {
      "text/html": [
       "<ol class=list-inline>\n",
       "\t<li>Albuquerque</li>\n",
       "\t<li>Alexandria</li>\n",
       "\t<li>Anchorage</li>\n",
       "\t<li>Ann Arbor</li>\n",
       "\t<li>Arlington</li>\n",
       "\t<li>Atlanta</li>\n",
       "\t<li>Austin</li>\n",
       "\t<li>Baltimore</li>\n",
       "\t<li>Berkeley</li>\n",
       "\t<li>Beverly Hills</li>\n",
       "\t<li>Boston</li>\n",
       "\t<li>Boulder</li>\n",
       "\t<li>Bronx</li>\n",
       "\t<li>Brookline</li>\n",
       "\t<li>Brooklyn</li>\n",
       "\t<li>Cambridge</li>\n",
       "\t<li>Carlsbad</li>\n",
       "\t<li>Carmel</li>\n",
       "\t<li>Charleston</li>\n",
       "\t<li>Charlotte</li>\n",
       "\t<li>Chicago</li>\n",
       "\t<li>Cincinnati</li>\n",
       "\t<li>Colorado Springs</li>\n",
       "\t<li>Dallas</li>\n",
       "\t<li>Davenport</li>\n",
       "\t<li>Denver</li>\n",
       "\t<li>Durham</li>\n",
       "\t<li>Eugene</li>\n",
       "\t<li>Fort Lauderdale</li>\n",
       "\t<li>Glendale</li>\n",
       "\t<li>Healdsburg</li>\n",
       "\t<li>Hermosa Beach</li>\n",
       "\t<li>Hollywood</li>\n",
       "\t<li>Honolulu</li>\n",
       "\t<li>Houston</li>\n",
       "\t<li>Incline Village</li>\n",
       "\t<li>Indianapolis</li>\n",
       "\t<li>Jersey City</li>\n",
       "\t<li>Kissimmee</li>\n",
       "\t<li>La Jolla</li>\n",
       "\t<li>Laguna Beach</li>\n",
       "\t<li>Las Vegas</li>\n",
       "\t<li>Long Beach</li>\n",
       "\t<li>Long Island City</li>\n",
       "\t<li>LONG ISLAND CITY</li>\n",
       "\t<li>Los Angeles</li>\n",
       "\t<li>Louisville</li>\n",
       "\t<li>Madison</li>\n",
       "\t<li>Malibu</li>\n",
       "\t<li>Manhattan Beach</li>\n",
       "\t<li>Marina del Rey</li>\n",
       "\t<li>Marina Del Rey</li>\n",
       "\t<li>miami</li>\n",
       "\t<li>Miami</li>\n",
       "\t<li>Miami Beach</li>\n",
       "\t<li>Mill Valley</li>\n",
       "\t<li>Minneapolis</li>\n",
       "\t<li>Mountain View</li>\n",
       "\t<li>Napa</li>\n",
       "\t<li>Naples</li>\n",
       "\t<li>Nashville</li>\n",
       "\t<li>New Haven</li>\n",
       "\t<li>New Orleans</li>\n",
       "\t<li>new york</li>\n",
       "\t<li>New York</li>\n",
       "\t<li>Newport Beach</li>\n",
       "\t<li>Oakland</li>\n",
       "\t<li>Orlando</li>\n",
       "\t<li>Palo Alto</li>\n",
       "\t<li>Paris</li>\n",
       "\t<li>Park City</li>\n",
       "\t<li>Pasadena</li>\n",
       "\t<li>Philadelphia</li>\n",
       "\t<li>Phoenix</li>\n",
       "\t<li>Pittsburgh</li>\n",
       "\t<li>Portland</li>\n",
       "\t<li>Providence</li>\n",
       "\t<li>Queens</li>\n",
       "\t<li>Raleigh</li>\n",
       "\t<li>Richmond</li>\n",
       "\t<li>Sacramento</li>\n",
       "\t<li>Salt Lake City</li>\n",
       "\t<li>San Antonio</li>\n",
       "\t<li>San Diego</li>\n",
       "\t<li>San Francisco</li>\n",
       "\t<li>San Jose</li>\n",
       "\t<li>San Rafael</li>\n",
       "\t<li>Santa Cruz</li>\n",
       "\t<li>Santa Monica</li>\n",
       "\t<li>Santa Rosa</li>\n",
       "\t<li>Sausalito</li>\n",
       "\t<li>Savannah</li>\n",
       "\t<li>Scottsdale</li>\n",
       "\t<li>Seattle</li>\n",
       "\t<li>Sebastopol</li>\n",
       "\t<li>Silver Spring</li>\n",
       "\t<li>Somerville</li>\n",
       "\t<li>Sonoma</li>\n",
       "\t<li>Sunny Isles Beach</li>\n",
       "\t<li>Tampa</li>\n",
       "\t<li>Taos</li>\n",
       "\t<li>Truckee</li>\n",
       "\t<li>Tucson</li>\n",
       "\t<li>Venice</li>\n",
       "\t<li>Washington</li>\n",
       "\t<li>West Hollywood</li>\n",
       "</ol>\n",
       "\n",
       "<details>\n",
       "\t<summary style=display:list-item;cursor:pointer>\n",
       "\t\t<strong>Levels</strong>:\n",
       "\t</summary>\n",
       "\t<ol class=list-inline>\n",
       "\t\t<li>'Albuquerque'</li>\n",
       "\t\t<li>'Alexandria'</li>\n",
       "\t\t<li>'Anchorage'</li>\n",
       "\t\t<li>'Ann Arbor'</li>\n",
       "\t\t<li>'Arlington'</li>\n",
       "\t\t<li>'Atlanta'</li>\n",
       "\t\t<li>'Austin'</li>\n",
       "\t\t<li>'Baltimore'</li>\n",
       "\t\t<li>'Berkeley'</li>\n",
       "\t\t<li>'Beverly Hills'</li>\n",
       "\t\t<li>'Boston'</li>\n",
       "\t\t<li>'Boulder'</li>\n",
       "\t\t<li>'Bronx'</li>\n",
       "\t\t<li>'Brookline'</li>\n",
       "\t\t<li>'Brooklyn'</li>\n",
       "\t\t<li>'Cambridge'</li>\n",
       "\t\t<li>'Carlsbad'</li>\n",
       "\t\t<li>'Carmel'</li>\n",
       "\t\t<li>'Charleston'</li>\n",
       "\t\t<li>'Charlotte'</li>\n",
       "\t\t<li>'Chicago'</li>\n",
       "\t\t<li>'Cincinnati'</li>\n",
       "\t\t<li>'Colorado Springs'</li>\n",
       "\t\t<li>'Dallas'</li>\n",
       "\t\t<li>'Davenport'</li>\n",
       "\t\t<li>'Denver'</li>\n",
       "\t\t<li>'Durham'</li>\n",
       "\t\t<li>'Eugene'</li>\n",
       "\t\t<li>'Fort Lauderdale'</li>\n",
       "\t\t<li>'Glendale'</li>\n",
       "\t\t<li>'Healdsburg'</li>\n",
       "\t\t<li>'Hermosa Beach'</li>\n",
       "\t\t<li>'Hollywood'</li>\n",
       "\t\t<li>'Honolulu'</li>\n",
       "\t\t<li>'Houston'</li>\n",
       "\t\t<li>'Incline Village'</li>\n",
       "\t\t<li>'Indianapolis'</li>\n",
       "\t\t<li>'Jersey City'</li>\n",
       "\t\t<li>'Kissimmee'</li>\n",
       "\t\t<li>'La Jolla'</li>\n",
       "\t\t<li>'Laguna Beach'</li>\n",
       "\t\t<li>'Las Vegas'</li>\n",
       "\t\t<li>'Long Beach'</li>\n",
       "\t\t<li>'Long Island City'</li>\n",
       "\t\t<li>'LONG ISLAND CITY'</li>\n",
       "\t\t<li>'Los Angeles'</li>\n",
       "\t\t<li>'Louisville'</li>\n",
       "\t\t<li>'Madison'</li>\n",
       "\t\t<li>'Malibu'</li>\n",
       "\t\t<li>'Manhattan Beach'</li>\n",
       "\t\t<li>'Marina del Rey'</li>\n",
       "\t\t<li>'Marina Del Rey'</li>\n",
       "\t\t<li>'miami'</li>\n",
       "\t\t<li>'Miami'</li>\n",
       "\t\t<li>'Miami Beach'</li>\n",
       "\t\t<li>'Mill Valley'</li>\n",
       "\t\t<li>'Minneapolis'</li>\n",
       "\t\t<li>'Mountain View'</li>\n",
       "\t\t<li>'Napa'</li>\n",
       "\t\t<li>'Naples'</li>\n",
       "\t\t<li>'Nashville'</li>\n",
       "\t\t<li>'New Haven'</li>\n",
       "\t\t<li>'New Orleans'</li>\n",
       "\t\t<li>'new york'</li>\n",
       "\t\t<li>'New York'</li>\n",
       "\t\t<li>'Newport Beach'</li>\n",
       "\t\t<li>'Oakland'</li>\n",
       "\t\t<li>'Orlando'</li>\n",
       "\t\t<li>'Palo Alto'</li>\n",
       "\t\t<li>'Paris'</li>\n",
       "\t\t<li>'Park City'</li>\n",
       "\t\t<li>'Pasadena'</li>\n",
       "\t\t<li>'Philadelphia'</li>\n",
       "\t\t<li>'Phoenix'</li>\n",
       "\t\t<li>'Pittsburgh'</li>\n",
       "\t\t<li>'Portland'</li>\n",
       "\t\t<li>'Providence'</li>\n",
       "\t\t<li>'Queens'</li>\n",
       "\t\t<li>'Raleigh'</li>\n",
       "\t\t<li>'Richmond'</li>\n",
       "\t\t<li>'Sacramento'</li>\n",
       "\t\t<li>'Salt Lake City'</li>\n",
       "\t\t<li>'San Antonio'</li>\n",
       "\t\t<li>'San Diego'</li>\n",
       "\t\t<li>'San Francisco'</li>\n",
       "\t\t<li>'San Jose'</li>\n",
       "\t\t<li>'San Rafael'</li>\n",
       "\t\t<li>'Santa Cruz'</li>\n",
       "\t\t<li>'Santa Monica'</li>\n",
       "\t\t<li>'Santa Rosa'</li>\n",
       "\t\t<li>'Sausalito'</li>\n",
       "\t\t<li>'Savannah'</li>\n",
       "\t\t<li>'Scottsdale'</li>\n",
       "\t\t<li>'Seattle'</li>\n",
       "\t\t<li>'Sebastopol'</li>\n",
       "\t\t<li>'Silver Spring'</li>\n",
       "\t\t<li>'Somerville'</li>\n",
       "\t\t<li>'Sonoma'</li>\n",
       "\t\t<li>'Sunny Isles Beach'</li>\n",
       "\t\t<li>'Tampa'</li>\n",
       "\t\t<li>'Taos'</li>\n",
       "\t\t<li>'Truckee'</li>\n",
       "\t\t<li>'Tucson'</li>\n",
       "\t\t<li>'Venice'</li>\n",
       "\t\t<li>'Washington'</li>\n",
       "\t\t<li>'West Hollywood'</li>\n",
       "\t</ol>\n",
       "</details>"
      ],
      "text/latex": [
       "\\begin{enumerate*}\n",
       "\\item Albuquerque\n",
       "\\item Alexandria\n",
       "\\item Anchorage\n",
       "\\item Ann Arbor\n",
       "\\item Arlington\n",
       "\\item Atlanta\n",
       "\\item Austin\n",
       "\\item Baltimore\n",
       "\\item Berkeley\n",
       "\\item Beverly Hills\n",
       "\\item Boston\n",
       "\\item Boulder\n",
       "\\item Bronx\n",
       "\\item Brookline\n",
       "\\item Brooklyn\n",
       "\\item Cambridge\n",
       "\\item Carlsbad\n",
       "\\item Carmel\n",
       "\\item Charleston\n",
       "\\item Charlotte\n",
       "\\item Chicago\n",
       "\\item Cincinnati\n",
       "\\item Colorado Springs\n",
       "\\item Dallas\n",
       "\\item Davenport\n",
       "\\item Denver\n",
       "\\item Durham\n",
       "\\item Eugene\n",
       "\\item Fort Lauderdale\n",
       "\\item Glendale\n",
       "\\item Healdsburg\n",
       "\\item Hermosa Beach\n",
       "\\item Hollywood\n",
       "\\item Honolulu\n",
       "\\item Houston\n",
       "\\item Incline Village\n",
       "\\item Indianapolis\n",
       "\\item Jersey City\n",
       "\\item Kissimmee\n",
       "\\item La Jolla\n",
       "\\item Laguna Beach\n",
       "\\item Las Vegas\n",
       "\\item Long Beach\n",
       "\\item Long Island City\n",
       "\\item LONG ISLAND CITY\n",
       "\\item Los Angeles\n",
       "\\item Louisville\n",
       "\\item Madison\n",
       "\\item Malibu\n",
       "\\item Manhattan Beach\n",
       "\\item Marina del Rey\n",
       "\\item Marina Del Rey\n",
       "\\item miami\n",
       "\\item Miami\n",
       "\\item Miami Beach\n",
       "\\item Mill Valley\n",
       "\\item Minneapolis\n",
       "\\item Mountain View\n",
       "\\item Napa\n",
       "\\item Naples\n",
       "\\item Nashville\n",
       "\\item New Haven\n",
       "\\item New Orleans\n",
       "\\item new york\n",
       "\\item New York\n",
       "\\item Newport Beach\n",
       "\\item Oakland\n",
       "\\item Orlando\n",
       "\\item Palo Alto\n",
       "\\item Paris\n",
       "\\item Park City\n",
       "\\item Pasadena\n",
       "\\item Philadelphia\n",
       "\\item Phoenix\n",
       "\\item Pittsburgh\n",
       "\\item Portland\n",
       "\\item Providence\n",
       "\\item Queens\n",
       "\\item Raleigh\n",
       "\\item Richmond\n",
       "\\item Sacramento\n",
       "\\item Salt Lake City\n",
       "\\item San Antonio\n",
       "\\item San Diego\n",
       "\\item San Francisco\n",
       "\\item San Jose\n",
       "\\item San Rafael\n",
       "\\item Santa Cruz\n",
       "\\item Santa Monica\n",
       "\\item Santa Rosa\n",
       "\\item Sausalito\n",
       "\\item Savannah\n",
       "\\item Scottsdale\n",
       "\\item Seattle\n",
       "\\item Sebastopol\n",
       "\\item Silver Spring\n",
       "\\item Somerville\n",
       "\\item Sonoma\n",
       "\\item Sunny Isles Beach\n",
       "\\item Tampa\n",
       "\\item Taos\n",
       "\\item Truckee\n",
       "\\item Tucson\n",
       "\\item Venice\n",
       "\\item Washington\n",
       "\\item West Hollywood\n",
       "\\end{enumerate*}\n",
       "\n",
       "\\emph{Levels}: \\begin{enumerate*}\n",
       "\\item 'Albuquerque'\n",
       "\\item 'Alexandria'\n",
       "\\item 'Anchorage'\n",
       "\\item 'Ann Arbor'\n",
       "\\item 'Arlington'\n",
       "\\item 'Atlanta'\n",
       "\\item 'Austin'\n",
       "\\item 'Baltimore'\n",
       "\\item 'Berkeley'\n",
       "\\item 'Beverly Hills'\n",
       "\\item 'Boston'\n",
       "\\item 'Boulder'\n",
       "\\item 'Bronx'\n",
       "\\item 'Brookline'\n",
       "\\item 'Brooklyn'\n",
       "\\item 'Cambridge'\n",
       "\\item 'Carlsbad'\n",
       "\\item 'Carmel'\n",
       "\\item 'Charleston'\n",
       "\\item 'Charlotte'\n",
       "\\item 'Chicago'\n",
       "\\item 'Cincinnati'\n",
       "\\item 'Colorado Springs'\n",
       "\\item 'Dallas'\n",
       "\\item 'Davenport'\n",
       "\\item 'Denver'\n",
       "\\item 'Durham'\n",
       "\\item 'Eugene'\n",
       "\\item 'Fort Lauderdale'\n",
       "\\item 'Glendale'\n",
       "\\item 'Healdsburg'\n",
       "\\item 'Hermosa Beach'\n",
       "\\item 'Hollywood'\n",
       "\\item 'Honolulu'\n",
       "\\item 'Houston'\n",
       "\\item 'Incline Village'\n",
       "\\item 'Indianapolis'\n",
       "\\item 'Jersey City'\n",
       "\\item 'Kissimmee'\n",
       "\\item 'La Jolla'\n",
       "\\item 'Laguna Beach'\n",
       "\\item 'Las Vegas'\n",
       "\\item 'Long Beach'\n",
       "\\item 'Long Island City'\n",
       "\\item 'LONG ISLAND CITY'\n",
       "\\item 'Los Angeles'\n",
       "\\item 'Louisville'\n",
       "\\item 'Madison'\n",
       "\\item 'Malibu'\n",
       "\\item 'Manhattan Beach'\n",
       "\\item 'Marina del Rey'\n",
       "\\item 'Marina Del Rey'\n",
       "\\item 'miami'\n",
       "\\item 'Miami'\n",
       "\\item 'Miami Beach'\n",
       "\\item 'Mill Valley'\n",
       "\\item 'Minneapolis'\n",
       "\\item 'Mountain View'\n",
       "\\item 'Napa'\n",
       "\\item 'Naples'\n",
       "\\item 'Nashville'\n",
       "\\item 'New Haven'\n",
       "\\item 'New Orleans'\n",
       "\\item 'new york'\n",
       "\\item 'New York'\n",
       "\\item 'Newport Beach'\n",
       "\\item 'Oakland'\n",
       "\\item 'Orlando'\n",
       "\\item 'Palo Alto'\n",
       "\\item 'Paris'\n",
       "\\item 'Park City'\n",
       "\\item 'Pasadena'\n",
       "\\item 'Philadelphia'\n",
       "\\item 'Phoenix'\n",
       "\\item 'Pittsburgh'\n",
       "\\item 'Portland'\n",
       "\\item 'Providence'\n",
       "\\item 'Queens'\n",
       "\\item 'Raleigh'\n",
       "\\item 'Richmond'\n",
       "\\item 'Sacramento'\n",
       "\\item 'Salt Lake City'\n",
       "\\item 'San Antonio'\n",
       "\\item 'San Diego'\n",
       "\\item 'San Francisco'\n",
       "\\item 'San Jose'\n",
       "\\item 'San Rafael'\n",
       "\\item 'Santa Cruz'\n",
       "\\item 'Santa Monica'\n",
       "\\item 'Santa Rosa'\n",
       "\\item 'Sausalito'\n",
       "\\item 'Savannah'\n",
       "\\item 'Scottsdale'\n",
       "\\item 'Seattle'\n",
       "\\item 'Sebastopol'\n",
       "\\item 'Silver Spring'\n",
       "\\item 'Somerville'\n",
       "\\item 'Sonoma'\n",
       "\\item 'Sunny Isles Beach'\n",
       "\\item 'Tampa'\n",
       "\\item 'Taos'\n",
       "\\item 'Truckee'\n",
       "\\item 'Tucson'\n",
       "\\item 'Venice'\n",
       "\\item 'Washington'\n",
       "\\item 'West Hollywood'\n",
       "\\end{enumerate*}\n"
      ],
      "text/markdown": [
       "1. Albuquerque\n",
       "2. Alexandria\n",
       "3. Anchorage\n",
       "4. Ann Arbor\n",
       "5. Arlington\n",
       "6. Atlanta\n",
       "7. Austin\n",
       "8. Baltimore\n",
       "9. Berkeley\n",
       "10. Beverly Hills\n",
       "11. Boston\n",
       "12. Boulder\n",
       "13. Bronx\n",
       "14. Brookline\n",
       "15. Brooklyn\n",
       "16. Cambridge\n",
       "17. Carlsbad\n",
       "18. Carmel\n",
       "19. Charleston\n",
       "20. Charlotte\n",
       "21. Chicago\n",
       "22. Cincinnati\n",
       "23. Colorado Springs\n",
       "24. Dallas\n",
       "25. Davenport\n",
       "26. Denver\n",
       "27. Durham\n",
       "28. Eugene\n",
       "29. Fort Lauderdale\n",
       "30. Glendale\n",
       "31. Healdsburg\n",
       "32. Hermosa Beach\n",
       "33. Hollywood\n",
       "34. Honolulu\n",
       "35. Houston\n",
       "36. Incline Village\n",
       "37. Indianapolis\n",
       "38. Jersey City\n",
       "39. Kissimmee\n",
       "40. La Jolla\n",
       "41. Laguna Beach\n",
       "42. Las Vegas\n",
       "43. Long Beach\n",
       "44. Long Island City\n",
       "45. LONG ISLAND CITY\n",
       "46. Los Angeles\n",
       "47. Louisville\n",
       "48. Madison\n",
       "49. Malibu\n",
       "50. Manhattan Beach\n",
       "51. Marina del Rey\n",
       "52. Marina Del Rey\n",
       "53. miami\n",
       "54. Miami\n",
       "55. Miami Beach\n",
       "56. Mill Valley\n",
       "57. Minneapolis\n",
       "58. Mountain View\n",
       "59. Napa\n",
       "60. Naples\n",
       "61. Nashville\n",
       "62. New Haven\n",
       "63. New Orleans\n",
       "64. new york\n",
       "65. New York\n",
       "66. Newport Beach\n",
       "67. Oakland\n",
       "68. Orlando\n",
       "69. Palo Alto\n",
       "70. Paris\n",
       "71. Park City\n",
       "72. Pasadena\n",
       "73. Philadelphia\n",
       "74. Phoenix\n",
       "75. Pittsburgh\n",
       "76. Portland\n",
       "77. Providence\n",
       "78. Queens\n",
       "79. Raleigh\n",
       "80. Richmond\n",
       "81. Sacramento\n",
       "82. Salt Lake City\n",
       "83. San Antonio\n",
       "84. San Diego\n",
       "85. San Francisco\n",
       "86. San Jose\n",
       "87. San Rafael\n",
       "88. Santa Cruz\n",
       "89. Santa Monica\n",
       "90. Santa Rosa\n",
       "91. Sausalito\n",
       "92. Savannah\n",
       "93. Scottsdale\n",
       "94. Seattle\n",
       "95. Sebastopol\n",
       "96. Silver Spring\n",
       "97. Somerville\n",
       "98. Sonoma\n",
       "99. Sunny Isles Beach\n",
       "100. Tampa\n",
       "101. Taos\n",
       "102. Truckee\n",
       "103. Tucson\n",
       "104. Venice\n",
       "105. Washington\n",
       "106. West Hollywood\n",
       "\n",
       "\n",
       "\n",
       "**Levels**: 1. 'Albuquerque'\n",
       "2. 'Alexandria'\n",
       "3. 'Anchorage'\n",
       "4. 'Ann Arbor'\n",
       "5. 'Arlington'\n",
       "6. 'Atlanta'\n",
       "7. 'Austin'\n",
       "8. 'Baltimore'\n",
       "9. 'Berkeley'\n",
       "10. 'Beverly Hills'\n",
       "11. 'Boston'\n",
       "12. 'Boulder'\n",
       "13. 'Bronx'\n",
       "14. 'Brookline'\n",
       "15. 'Brooklyn'\n",
       "16. 'Cambridge'\n",
       "17. 'Carlsbad'\n",
       "18. 'Carmel'\n",
       "19. 'Charleston'\n",
       "20. 'Charlotte'\n",
       "21. 'Chicago'\n",
       "22. 'Cincinnati'\n",
       "23. 'Colorado Springs'\n",
       "24. 'Dallas'\n",
       "25. 'Davenport'\n",
       "26. 'Denver'\n",
       "27. 'Durham'\n",
       "28. 'Eugene'\n",
       "29. 'Fort Lauderdale'\n",
       "30. 'Glendale'\n",
       "31. 'Healdsburg'\n",
       "32. 'Hermosa Beach'\n",
       "33. 'Hollywood'\n",
       "34. 'Honolulu'\n",
       "35. 'Houston'\n",
       "36. 'Incline Village'\n",
       "37. 'Indianapolis'\n",
       "38. 'Jersey City'\n",
       "39. 'Kissimmee'\n",
       "40. 'La Jolla'\n",
       "41. 'Laguna Beach'\n",
       "42. 'Las Vegas'\n",
       "43. 'Long Beach'\n",
       "44. 'Long Island City'\n",
       "45. 'LONG ISLAND CITY'\n",
       "46. 'Los Angeles'\n",
       "47. 'Louisville'\n",
       "48. 'Madison'\n",
       "49. 'Malibu'\n",
       "50. 'Manhattan Beach'\n",
       "51. 'Marina del Rey'\n",
       "52. 'Marina Del Rey'\n",
       "53. 'miami'\n",
       "54. 'Miami'\n",
       "55. 'Miami Beach'\n",
       "56. 'Mill Valley'\n",
       "57. 'Minneapolis'\n",
       "58. 'Mountain View'\n",
       "59. 'Napa'\n",
       "60. 'Naples'\n",
       "61. 'Nashville'\n",
       "62. 'New Haven'\n",
       "63. 'New Orleans'\n",
       "64. 'new york'\n",
       "65. 'New York'\n",
       "66. 'Newport Beach'\n",
       "67. 'Oakland'\n",
       "68. 'Orlando'\n",
       "69. 'Palo Alto'\n",
       "70. 'Paris'\n",
       "71. 'Park City'\n",
       "72. 'Pasadena'\n",
       "73. 'Philadelphia'\n",
       "74. 'Phoenix'\n",
       "75. 'Pittsburgh'\n",
       "76. 'Portland'\n",
       "77. 'Providence'\n",
       "78. 'Queens'\n",
       "79. 'Raleigh'\n",
       "80. 'Richmond'\n",
       "81. 'Sacramento'\n",
       "82. 'Salt Lake City'\n",
       "83. 'San Antonio'\n",
       "84. 'San Diego'\n",
       "85. 'San Francisco'\n",
       "86. 'San Jose'\n",
       "87. 'San Rafael'\n",
       "88. 'Santa Cruz'\n",
       "89. 'Santa Monica'\n",
       "90. 'Santa Rosa'\n",
       "91. 'Sausalito'\n",
       "92. 'Savannah'\n",
       "93. 'Scottsdale'\n",
       "94. 'Seattle'\n",
       "95. 'Sebastopol'\n",
       "96. 'Silver Spring'\n",
       "97. 'Somerville'\n",
       "98. 'Sonoma'\n",
       "99. 'Sunny Isles Beach'\n",
       "100. 'Tampa'\n",
       "101. 'Taos'\n",
       "102. 'Truckee'\n",
       "103. 'Tucson'\n",
       "104. 'Venice'\n",
       "105. 'Washington'\n",
       "106. 'West Hollywood'\n",
       "\n",
       "\n"
      ],
      "text/plain": [
       "  [1] Albuquerque       Alexandria        Anchorage         Ann Arbor        \n",
       "  [5] Arlington         Atlanta           Austin            Baltimore        \n",
       "  [9] Berkeley          Beverly Hills     Boston            Boulder          \n",
       " [13] Bronx             Brookline         Brooklyn          Cambridge        \n",
       " [17] Carlsbad          Carmel            Charleston        Charlotte        \n",
       " [21] Chicago           Cincinnati        Colorado Springs  Dallas           \n",
       " [25] Davenport         Denver            Durham            Eugene           \n",
       " [29] Fort Lauderdale   Glendale          Healdsburg        Hermosa Beach    \n",
       " [33] Hollywood         Honolulu          Houston           Incline Village  \n",
       " [37] Indianapolis      Jersey City       Kissimmee         La Jolla         \n",
       " [41] Laguna Beach      Las Vegas         Long Beach        Long Island City \n",
       " [45] LONG ISLAND CITY  Los Angeles       Louisville        Madison          \n",
       " [49] Malibu            Manhattan Beach   Marina del Rey    Marina Del Rey   \n",
       " [53] miami             Miami             Miami Beach       Mill Valley      \n",
       " [57] Minneapolis       Mountain View     Napa              Naples           \n",
       " [61] Nashville         New Haven         New Orleans       new york         \n",
       " [65] New York          Newport Beach     Oakland           Orlando          \n",
       " [69] Palo Alto         Paris             Park City         Pasadena         \n",
       " [73] Philadelphia      Phoenix           Pittsburgh        Portland         \n",
       " [77] Providence        Queens            Raleigh           Richmond         \n",
       " [81] Sacramento        Salt Lake City    San Antonio       San Diego        \n",
       " [85] San Francisco     San Jose          San Rafael        Santa Cruz       \n",
       " [89] Santa Monica      Santa Rosa        Sausalito         Savannah         \n",
       " [93] Scottsdale        Seattle           Sebastopol        Silver Spring    \n",
       " [97] Somerville        Sonoma            Sunny Isles Beach Tampa            \n",
       "[101] Taos              Truckee           Tucson            Venice           \n",
       "[105] Washington        West Hollywood   \n",
       "106 Levels: Albuquerque Alexandria Anchorage Ann Arbor Arlington ... West Hollywood"
      ]
     },
     "metadata": {},
     "output_type": "display_data"
    },
    {
     "data": {
      "text/html": [
       "<ol class=list-inline>\n",
       "\t<li>AK</li>\n",
       "\t<li>AZ</li>\n",
       "\t<li>CA</li>\n",
       "\t<li>CO</li>\n",
       "\t<li>CT</li>\n",
       "\t<li>DC</li>\n",
       "\t<li>FL</li>\n",
       "\t<li>GA</li>\n",
       "\t<li>HI</li>\n",
       "\t<li>IA</li>\n",
       "\t<li>IL</li>\n",
       "\t<li>IN</li>\n",
       "\t<li>KY</li>\n",
       "\t<li>LA</li>\n",
       "\t<li>MA</li>\n",
       "\t<li>MD</li>\n",
       "\t<li>MI</li>\n",
       "\t<li>MN</li>\n",
       "\t<li>NC</li>\n",
       "\t<li>NH</li>\n",
       "\t<li>NJ</li>\n",
       "\t<li>NM</li>\n",
       "\t<li>NV</li>\n",
       "\t<li>NY</li>\n",
       "\t<li>OH</li>\n",
       "\t<li>OR</li>\n",
       "\t<li>PA</li>\n",
       "\t<li>RI</li>\n",
       "\t<li>SC</li>\n",
       "\t<li>TN</li>\n",
       "\t<li>TX</li>\n",
       "\t<li>UT</li>\n",
       "\t<li>VA</li>\n",
       "\t<li>WA</li>\n",
       "\t<li>WI</li>\n",
       "</ol>\n",
       "\n",
       "<details>\n",
       "\t<summary style=display:list-item;cursor:pointer>\n",
       "\t\t<strong>Levels</strong>:\n",
       "\t</summary>\n",
       "\t<ol class=list-inline>\n",
       "\t\t<li>'AK'</li>\n",
       "\t\t<li>'AZ'</li>\n",
       "\t\t<li>'CA'</li>\n",
       "\t\t<li>'CO'</li>\n",
       "\t\t<li>'CT'</li>\n",
       "\t\t<li>'DC'</li>\n",
       "\t\t<li>'FL'</li>\n",
       "\t\t<li>'GA'</li>\n",
       "\t\t<li>'HI'</li>\n",
       "\t\t<li>'IA'</li>\n",
       "\t\t<li>'IL'</li>\n",
       "\t\t<li>'IN'</li>\n",
       "\t\t<li>'KY'</li>\n",
       "\t\t<li>'LA'</li>\n",
       "\t\t<li>'MA'</li>\n",
       "\t\t<li>'MD'</li>\n",
       "\t\t<li>'MI'</li>\n",
       "\t\t<li>'MN'</li>\n",
       "\t\t<li>'NC'</li>\n",
       "\t\t<li>'NH'</li>\n",
       "\t\t<li>'NJ'</li>\n",
       "\t\t<li>'NM'</li>\n",
       "\t\t<li>'NV'</li>\n",
       "\t\t<li>'NY'</li>\n",
       "\t\t<li>'OH'</li>\n",
       "\t\t<li>'OR'</li>\n",
       "\t\t<li>'PA'</li>\n",
       "\t\t<li>'RI'</li>\n",
       "\t\t<li>'SC'</li>\n",
       "\t\t<li>'TN'</li>\n",
       "\t\t<li>'TX'</li>\n",
       "\t\t<li>'UT'</li>\n",
       "\t\t<li>'VA'</li>\n",
       "\t\t<li>'WA'</li>\n",
       "\t\t<li>'WI'</li>\n",
       "\t</ol>\n",
       "</details>"
      ],
      "text/latex": [
       "\\begin{enumerate*}\n",
       "\\item AK\n",
       "\\item AZ\n",
       "\\item CA\n",
       "\\item CO\n",
       "\\item CT\n",
       "\\item DC\n",
       "\\item FL\n",
       "\\item GA\n",
       "\\item HI\n",
       "\\item IA\n",
       "\\item IL\n",
       "\\item IN\n",
       "\\item KY\n",
       "\\item LA\n",
       "\\item MA\n",
       "\\item MD\n",
       "\\item MI\n",
       "\\item MN\n",
       "\\item NC\n",
       "\\item NH\n",
       "\\item NJ\n",
       "\\item NM\n",
       "\\item NV\n",
       "\\item NY\n",
       "\\item OH\n",
       "\\item OR\n",
       "\\item PA\n",
       "\\item RI\n",
       "\\item SC\n",
       "\\item TN\n",
       "\\item TX\n",
       "\\item UT\n",
       "\\item VA\n",
       "\\item WA\n",
       "\\item WI\n",
       "\\end{enumerate*}\n",
       "\n",
       "\\emph{Levels}: \\begin{enumerate*}\n",
       "\\item 'AK'\n",
       "\\item 'AZ'\n",
       "\\item 'CA'\n",
       "\\item 'CO'\n",
       "\\item 'CT'\n",
       "\\item 'DC'\n",
       "\\item 'FL'\n",
       "\\item 'GA'\n",
       "\\item 'HI'\n",
       "\\item 'IA'\n",
       "\\item 'IL'\n",
       "\\item 'IN'\n",
       "\\item 'KY'\n",
       "\\item 'LA'\n",
       "\\item 'MA'\n",
       "\\item 'MD'\n",
       "\\item 'MI'\n",
       "\\item 'MN'\n",
       "\\item 'NC'\n",
       "\\item 'NH'\n",
       "\\item 'NJ'\n",
       "\\item 'NM'\n",
       "\\item 'NV'\n",
       "\\item 'NY'\n",
       "\\item 'OH'\n",
       "\\item 'OR'\n",
       "\\item 'PA'\n",
       "\\item 'RI'\n",
       "\\item 'SC'\n",
       "\\item 'TN'\n",
       "\\item 'TX'\n",
       "\\item 'UT'\n",
       "\\item 'VA'\n",
       "\\item 'WA'\n",
       "\\item 'WI'\n",
       "\\end{enumerate*}\n"
      ],
      "text/markdown": [
       "1. AK\n",
       "2. AZ\n",
       "3. CA\n",
       "4. CO\n",
       "5. CT\n",
       "6. DC\n",
       "7. FL\n",
       "8. GA\n",
       "9. HI\n",
       "10. IA\n",
       "11. IL\n",
       "12. IN\n",
       "13. KY\n",
       "14. LA\n",
       "15. MA\n",
       "16. MD\n",
       "17. MI\n",
       "18. MN\n",
       "19. NC\n",
       "20. NH\n",
       "21. NJ\n",
       "22. NM\n",
       "23. NV\n",
       "24. NY\n",
       "25. OH\n",
       "26. OR\n",
       "27. PA\n",
       "28. RI\n",
       "29. SC\n",
       "30. TN\n",
       "31. TX\n",
       "32. UT\n",
       "33. VA\n",
       "34. WA\n",
       "35. WI\n",
       "\n",
       "\n",
       "\n",
       "**Levels**: 1. 'AK'\n",
       "2. 'AZ'\n",
       "3. 'CA'\n",
       "4. 'CO'\n",
       "5. 'CT'\n",
       "6. 'DC'\n",
       "7. 'FL'\n",
       "8. 'GA'\n",
       "9. 'HI'\n",
       "10. 'IA'\n",
       "11. 'IL'\n",
       "12. 'IN'\n",
       "13. 'KY'\n",
       "14. 'LA'\n",
       "15. 'MA'\n",
       "16. 'MD'\n",
       "17. 'MI'\n",
       "18. 'MN'\n",
       "19. 'NC'\n",
       "20. 'NH'\n",
       "21. 'NJ'\n",
       "22. 'NM'\n",
       "23. 'NV'\n",
       "24. 'NY'\n",
       "25. 'OH'\n",
       "26. 'OR'\n",
       "27. 'PA'\n",
       "28. 'RI'\n",
       "29. 'SC'\n",
       "30. 'TN'\n",
       "31. 'TX'\n",
       "32. 'UT'\n",
       "33. 'VA'\n",
       "34. 'WA'\n",
       "35. 'WI'\n",
       "\n",
       "\n"
      ],
      "text/plain": [
       " [1] AK AZ CA CO CT DC FL GA HI IA IL IN KY LA MA MD MI MN NC NH NJ NM NV NY OH\n",
       "[26] OR PA RI SC TN TX UT VA WA WI\n",
       "35 Levels: AK AZ CA CO CT DC FL GA HI IA IL IN KY LA MA MD MI MN NC NH ... WI"
      ]
     },
     "metadata": {},
     "output_type": "display_data"
    }
   ],
   "source": [
    "typeof(data_treefortbnb$city)\n",
    "typeof(data_treefortbnb$state)\n",
    "\n",
    "sort(unique(data_treefortbnb$city))   ## Note: not uniform case across city names\n",
    "sort(unique(data_treefortbnb$state))"
   ]
  },
  {
   "cell_type": "markdown",
   "metadata": {},
   "source": [
    "Strings were automatically converted to factors, which are built ontop of the integer class.\n",
    "\n",
    "Also, need to transform factors to lowercase for consistency, e.g., new york, NY vs New York, NY."
   ]
  },
  {
   "cell_type": "markdown",
   "metadata": {},
   "source": [
    "## Clean string data"
   ]
  },
  {
   "cell_type": "code",
   "execution_count": 15,
   "metadata": {},
   "outputs": [
    {
     "ename": "ERROR",
     "evalue": "Error in View(data_treefortbnb): 'View()' not yet supported in the Jupyter R kernel\n",
     "output_type": "error",
     "traceback": [
      "Error in View(data_treefortbnb): 'View()' not yet supported in the Jupyter R kernel\nTraceback:\n",
      "1. View(data_treefortbnb)",
      "2. stop(sQuote(\"View()\"), \" not yet supported in the Jupyter R kernel\")"
     ]
    }
   ],
   "source": [
    "## Make all cities & states lowercase for grouping.\n",
    "data_treefortbnb$city <- tolower(data_treefortbnb$city)\n",
    "data_treefortbnb$state <- tolower(data_treefortbnb$state)\n",
    "View(data_treefortbnb)\n",
    "\n",
    "sort(unique(data_treefortbnb$city))\n",
    "sort(unique(data_treefortbnb$state))"
   ]
  },
  {
   "cell_type": "markdown",
   "metadata": {},
   "source": [
    "# Analysis\n",
    "\n",
    "Section Steps\n",
    "1. Count duplicate city names\n",
    "2. Find top 100 cities with most units on market\n",
    "3. Sort by price, units\n",
    "4. Format data (USD Format, case, remove units and reviews)\n"
   ]
  },
  {
   "cell_type": "markdown",
   "metadata": {},
   "source": [
    "## Count duplicates"
   ]
  },
  {
   "cell_type": "code",
   "execution_count": 18,
   "metadata": {},
   "outputs": [
    {
     "data": {
      "text/html": [
       "<table>\n",
       "<thead><tr><th scope=col>city</th><th scope=col>state</th></tr></thead>\n",
       "<tbody>\n",
       "\t<tr><td>albuquerque     </td><td>nm              </td></tr>\n",
       "\t<tr><td>alexandria      </td><td>va              </td></tr>\n",
       "\t<tr><td>anchorage       </td><td>ak              </td></tr>\n",
       "\t<tr><td>ann arbor       </td><td>mi              </td></tr>\n",
       "\t<tr><td>arlington       </td><td>va              </td></tr>\n",
       "\t<tr><td>atlanta         </td><td>ga              </td></tr>\n",
       "\t<tr><td>austin          </td><td>tx              </td></tr>\n",
       "\t<tr><td>baltimore       </td><td>md              </td></tr>\n",
       "\t<tr><td>berkeley        </td><td>ca              </td></tr>\n",
       "\t<tr><td>berkeley        </td><td>co              </td></tr>\n",
       "\t<tr><td>beverly hills   </td><td>ca              </td></tr>\n",
       "\t<tr><td>boston          </td><td>ma              </td></tr>\n",
       "\t<tr><td>boulder         </td><td>co              </td></tr>\n",
       "\t<tr><td>bronx           </td><td>ny              </td></tr>\n",
       "\t<tr><td>brookline       </td><td>ma              </td></tr>\n",
       "\t<tr><td>brookline       </td><td>nh              </td></tr>\n",
       "\t<tr><td>brooklyn        </td><td>ny              </td></tr>\n",
       "\t<tr><td>cambridge       </td><td>ma              </td></tr>\n",
       "\t<tr><td>carlsbad        </td><td>ca              </td></tr>\n",
       "\t<tr><td>carmel          </td><td>ca              </td></tr>\n",
       "\t<tr><td>carmel          </td><td>in              </td></tr>\n",
       "\t<tr><td>charleston      </td><td>sc              </td></tr>\n",
       "\t<tr><td>charlotte       </td><td>nc              </td></tr>\n",
       "\t<tr><td>chicago         </td><td>il              </td></tr>\n",
       "\t<tr><td>cincinnati      </td><td>oh              </td></tr>\n",
       "\t<tr><td>colorado springs</td><td>co              </td></tr>\n",
       "\t<tr><td>dallas          </td><td>or              </td></tr>\n",
       "\t<tr><td>dallas          </td><td>tx              </td></tr>\n",
       "\t<tr><td>davenport       </td><td>ca              </td></tr>\n",
       "\t<tr><td>davenport       </td><td>fl              </td></tr>\n",
       "\t<tr><td>...</td><td>...</td></tr>\n",
       "\t<tr><td>richmond         </td><td>il               </td></tr>\n",
       "\t<tr><td>richmond         </td><td>oh               </td></tr>\n",
       "\t<tr><td>richmond         </td><td>tx               </td></tr>\n",
       "\t<tr><td>richmond         </td><td>va               </td></tr>\n",
       "\t<tr><td>sacramento       </td><td>ca               </td></tr>\n",
       "\t<tr><td>salt lake city   </td><td>ut               </td></tr>\n",
       "\t<tr><td>san antonio      </td><td>tx               </td></tr>\n",
       "\t<tr><td>san diego        </td><td>ca               </td></tr>\n",
       "\t<tr><td>san francisco    </td><td>ca               </td></tr>\n",
       "\t<tr><td>san jose         </td><td>ca               </td></tr>\n",
       "\t<tr><td>san rafael       </td><td>ca               </td></tr>\n",
       "\t<tr><td>santa cruz       </td><td>ca               </td></tr>\n",
       "\t<tr><td>santa monica     </td><td>ca               </td></tr>\n",
       "\t<tr><td>santa rosa       </td><td>ca               </td></tr>\n",
       "\t<tr><td>sausalito        </td><td>ca               </td></tr>\n",
       "\t<tr><td>savannah         </td><td>ga               </td></tr>\n",
       "\t<tr><td>scottsdale       </td><td>az               </td></tr>\n",
       "\t<tr><td>seattle          </td><td>wa               </td></tr>\n",
       "\t<tr><td>sebastopol       </td><td>ca               </td></tr>\n",
       "\t<tr><td>silver spring    </td><td>md               </td></tr>\n",
       "\t<tr><td>somerville       </td><td>ma               </td></tr>\n",
       "\t<tr><td>sonoma           </td><td>ca               </td></tr>\n",
       "\t<tr><td>sunny isles beach</td><td>fl               </td></tr>\n",
       "\t<tr><td>tampa            </td><td>fl               </td></tr>\n",
       "\t<tr><td>taos             </td><td>nm               </td></tr>\n",
       "\t<tr><td>truckee          </td><td>nv               </td></tr>\n",
       "\t<tr><td>tucson           </td><td>az               </td></tr>\n",
       "\t<tr><td>venice           </td><td>ca               </td></tr>\n",
       "\t<tr><td>washington       </td><td>dc               </td></tr>\n",
       "\t<tr><td>west hollywood   </td><td>ca               </td></tr>\n",
       "</tbody>\n",
       "</table>\n"
      ],
      "text/latex": [
       "\\begin{tabular}{r|ll}\n",
       " city & state\\\\\n",
       "\\hline\n",
       "\t albuquerque      & nm              \\\\\n",
       "\t alexandria       & va              \\\\\n",
       "\t anchorage        & ak              \\\\\n",
       "\t ann arbor        & mi              \\\\\n",
       "\t arlington        & va              \\\\\n",
       "\t atlanta          & ga              \\\\\n",
       "\t austin           & tx              \\\\\n",
       "\t baltimore        & md              \\\\\n",
       "\t berkeley         & ca              \\\\\n",
       "\t berkeley         & co              \\\\\n",
       "\t beverly hills    & ca              \\\\\n",
       "\t boston           & ma              \\\\\n",
       "\t boulder          & co              \\\\\n",
       "\t bronx            & ny              \\\\\n",
       "\t brookline        & ma              \\\\\n",
       "\t brookline        & nh              \\\\\n",
       "\t brooklyn         & ny              \\\\\n",
       "\t cambridge        & ma              \\\\\n",
       "\t carlsbad         & ca              \\\\\n",
       "\t carmel           & ca              \\\\\n",
       "\t carmel           & in              \\\\\n",
       "\t charleston       & sc              \\\\\n",
       "\t charlotte        & nc              \\\\\n",
       "\t chicago          & il              \\\\\n",
       "\t cincinnati       & oh              \\\\\n",
       "\t colorado springs & co              \\\\\n",
       "\t dallas           & or              \\\\\n",
       "\t dallas           & tx              \\\\\n",
       "\t davenport        & ca              \\\\\n",
       "\t davenport        & fl              \\\\\n",
       "\t ... & ...\\\\\n",
       "\t richmond          & il               \\\\\n",
       "\t richmond          & oh               \\\\\n",
       "\t richmond          & tx               \\\\\n",
       "\t richmond          & va               \\\\\n",
       "\t sacramento        & ca               \\\\\n",
       "\t salt lake city    & ut               \\\\\n",
       "\t san antonio       & tx               \\\\\n",
       "\t san diego         & ca               \\\\\n",
       "\t san francisco     & ca               \\\\\n",
       "\t san jose          & ca               \\\\\n",
       "\t san rafael        & ca               \\\\\n",
       "\t santa cruz        & ca               \\\\\n",
       "\t santa monica      & ca               \\\\\n",
       "\t santa rosa        & ca               \\\\\n",
       "\t sausalito         & ca               \\\\\n",
       "\t savannah          & ga               \\\\\n",
       "\t scottsdale        & az               \\\\\n",
       "\t seattle           & wa               \\\\\n",
       "\t sebastopol        & ca               \\\\\n",
       "\t silver spring     & md               \\\\\n",
       "\t somerville        & ma               \\\\\n",
       "\t sonoma            & ca               \\\\\n",
       "\t sunny isles beach & fl               \\\\\n",
       "\t tampa             & fl               \\\\\n",
       "\t taos              & nm               \\\\\n",
       "\t truckee           & nv               \\\\\n",
       "\t tucson            & az               \\\\\n",
       "\t venice            & ca               \\\\\n",
       "\t washington        & dc               \\\\\n",
       "\t west hollywood    & ca               \\\\\n",
       "\\end{tabular}\n"
      ],
      "text/markdown": [
       "\n",
       "| city | state |\n",
       "|---|---|\n",
       "| albuquerque      | nm               |\n",
       "| alexandria       | va               |\n",
       "| anchorage        | ak               |\n",
       "| ann arbor        | mi               |\n",
       "| arlington        | va               |\n",
       "| atlanta          | ga               |\n",
       "| austin           | tx               |\n",
       "| baltimore        | md               |\n",
       "| berkeley         | ca               |\n",
       "| berkeley         | co               |\n",
       "| beverly hills    | ca               |\n",
       "| boston           | ma               |\n",
       "| boulder          | co               |\n",
       "| bronx            | ny               |\n",
       "| brookline        | ma               |\n",
       "| brookline        | nh               |\n",
       "| brooklyn         | ny               |\n",
       "| cambridge        | ma               |\n",
       "| carlsbad         | ca               |\n",
       "| carmel           | ca               |\n",
       "| carmel           | in               |\n",
       "| charleston       | sc               |\n",
       "| charlotte        | nc               |\n",
       "| chicago          | il               |\n",
       "| cincinnati       | oh               |\n",
       "| colorado springs | co               |\n",
       "| dallas           | or               |\n",
       "| dallas           | tx               |\n",
       "| davenport        | ca               |\n",
       "| davenport        | fl               |\n",
       "| ... | ... |\n",
       "| richmond          | il                |\n",
       "| richmond          | oh                |\n",
       "| richmond          | tx                |\n",
       "| richmond          | va                |\n",
       "| sacramento        | ca                |\n",
       "| salt lake city    | ut                |\n",
       "| san antonio       | tx                |\n",
       "| san diego         | ca                |\n",
       "| san francisco     | ca                |\n",
       "| san jose          | ca                |\n",
       "| san rafael        | ca                |\n",
       "| santa cruz        | ca                |\n",
       "| santa monica      | ca                |\n",
       "| santa rosa        | ca                |\n",
       "| sausalito         | ca                |\n",
       "| savannah          | ga                |\n",
       "| scottsdale        | az                |\n",
       "| seattle           | wa                |\n",
       "| sebastopol        | ca                |\n",
       "| silver spring     | md                |\n",
       "| somerville        | ma                |\n",
       "| sonoma            | ca                |\n",
       "| sunny isles beach | fl                |\n",
       "| tampa             | fl                |\n",
       "| taos              | nm                |\n",
       "| truckee           | nv                |\n",
       "| tucson            | az                |\n",
       "| venice            | ca                |\n",
       "| washington        | dc                |\n",
       "| west hollywood    | ca                |\n",
       "\n"
      ],
      "text/plain": [
       "    city              state\n",
       "1   albuquerque       nm   \n",
       "2   alexandria        va   \n",
       "3   anchorage         ak   \n",
       "4   ann arbor         mi   \n",
       "5   arlington         va   \n",
       "6   atlanta           ga   \n",
       "7   austin            tx   \n",
       "8   baltimore         md   \n",
       "9   berkeley          ca   \n",
       "10  berkeley          co   \n",
       "11  beverly hills     ca   \n",
       "12  boston            ma   \n",
       "13  boulder           co   \n",
       "14  bronx             ny   \n",
       "15  brookline         ma   \n",
       "16  brookline         nh   \n",
       "17  brooklyn          ny   \n",
       "18  cambridge         ma   \n",
       "19  carlsbad          ca   \n",
       "20  carmel            ca   \n",
       "21  carmel            in   \n",
       "22  charleston        sc   \n",
       "23  charlotte         nc   \n",
       "24  chicago           il   \n",
       "25  cincinnati        oh   \n",
       "26  colorado springs  co   \n",
       "27  dallas            or   \n",
       "28  dallas            tx   \n",
       "29  davenport         ca   \n",
       "30  davenport         fl   \n",
       "... ...               ...  \n",
       "95  richmond          il   \n",
       "96  richmond          oh   \n",
       "97  richmond          tx   \n",
       "98  richmond          va   \n",
       "99  sacramento        ca   \n",
       "100 salt lake city    ut   \n",
       "101 san antonio       tx   \n",
       "102 san diego         ca   \n",
       "103 san francisco     ca   \n",
       "104 san jose          ca   \n",
       "105 san rafael        ca   \n",
       "106 santa cruz        ca   \n",
       "107 santa monica      ca   \n",
       "108 santa rosa        ca   \n",
       "109 sausalito         ca   \n",
       "110 savannah          ga   \n",
       "111 scottsdale        az   \n",
       "112 seattle           wa   \n",
       "113 sebastopol        ca   \n",
       "114 silver spring     md   \n",
       "115 somerville        ma   \n",
       "116 sonoma            ca   \n",
       "117 sunny isles beach fl   \n",
       "118 tampa             fl   \n",
       "119 taos              nm   \n",
       "120 truckee           nv   \n",
       "121 tucson            az   \n",
       "122 venice            ca   \n",
       "123 washington        dc   \n",
       "124 west hollywood    ca   "
      ]
     },
     "metadata": {},
     "output_type": "display_data"
    }
   ],
   "source": [
    "## Group by city & state, then summarise\n",
    "\n",
    "unique_city_states <- data_treefortbnb %>% \n",
    "  group_by( city, state) %>% \n",
    "  summarise()\n",
    "\n",
    "unique_city_states"
   ]
  },
  {
   "cell_type": "code",
   "execution_count": 19,
   "metadata": {},
   "outputs": [
    {
     "data": {
      "text/html": [
       "22"
      ],
      "text/latex": [
       "22"
      ],
      "text/markdown": [
       "22"
      ],
      "text/plain": [
       "[1] 22"
      ]
     },
     "metadata": {},
     "output_type": "display_data"
    }
   ],
   "source": [
    "## Count duplicate states\n",
    "sum( duplicated( unique_city_states$city))\n"
   ]
  },
  {
   "cell_type": "markdown",
   "metadata": {},
   "source": [
    "Found that there are 22 cities with the same name, e.g., Berkeley CA & Berkeley CO.\n",
    "This is good to know, but overlapping city names are already handled by group_by(city, state)"
   ]
  },
  {
   "cell_type": "markdown",
   "metadata": {},
   "source": [
    "## Top 100 cities\n",
    "\n",
    "- Group by city and state\n",
    "- then count units and calc med\n",
    "- then arrange by units."
   ]
  },
  {
   "cell_type": "code",
   "execution_count": 20,
   "metadata": {},
   "outputs": [
    {
     "ename": "ERROR",
     "evalue": "Error in View(median_cost_per_city): 'View()' not yet supported in the Jupyter R kernel\n",
     "output_type": "error",
     "traceback": [
      "Error in View(median_cost_per_city): 'View()' not yet supported in the Jupyter R kernel\nTraceback:\n",
      "1. View(median_cost_per_city)",
      "2. stop(sQuote(\"View()\"), \" not yet supported in the Jupyter R kernel\")"
     ]
    }
   ],
   "source": [
    "\n",
    "median_cost_per_city <- data_treefortbnb %>%\n",
    "  group_by( city, state) %>%\n",
    "  summarise(\n",
    "    units = n(),\n",
    "    median_price_USD = median(price_USD),\n",
    "    total_reviews = sum(num_reviews)\n",
    "  ) %>% \n",
    "  arrange( desc(units))\n",
    "\n",
    "View(median_cost_per_city)"
   ]
  },
  {
   "cell_type": "code",
   "execution_count": 21,
   "metadata": {},
   "outputs": [
    {
     "data": {
      "text/html": [
       "TRUE"
      ],
      "text/latex": [
       "TRUE"
      ],
      "text/markdown": [
       "TRUE"
      ],
      "text/plain": [
       "[1] TRUE"
      ]
     },
     "metadata": {},
     "output_type": "display_data"
    },
    {
     "data": {
      "text/html": [
       "TRUE"
      ],
      "text/latex": [
       "TRUE"
      ],
      "text/markdown": [
       "TRUE"
      ],
      "text/plain": [
       "[1] TRUE"
      ]
     },
     "metadata": {},
     "output_type": "display_data"
    }
   ],
   "source": [
    "# Quick data check that same number of units and reviews as initial dataset\n",
    "sum(median_cost_per_city$units) == nrow(data_treefortbnb)\n",
    "sum(median_cost_per_city$total_reviews) == sum(data_treefortbnb$num_reviews)"
   ]
  },
  {
   "cell_type": "code",
   "execution_count": 22,
   "metadata": {},
   "outputs": [
    {
     "ename": "ERROR",
     "evalue": "Error in View(top_100_cities): 'View()' not yet supported in the Jupyter R kernel\n",
     "output_type": "error",
     "traceback": [
      "Error in View(top_100_cities): 'View()' not yet supported in the Jupyter R kernel\nTraceback:\n",
      "1. View(top_100_cities)",
      "2. stop(sQuote(\"View()\"), \" not yet supported in the Jupyter R kernel\")"
     ]
    }
   ],
   "source": [
    "## Take top 100 cities on market\n",
    "top_100_cities <- head(median_cost_per_city, 100)\n",
    "View(top_100_cities)\n"
   ]
  },
  {
   "cell_type": "markdown",
   "metadata": {},
   "source": [
    "## Sort by price, units"
   ]
  },
  {
   "cell_type": "code",
   "execution_count": 23,
   "metadata": {},
   "outputs": [
    {
     "ename": "ERROR",
     "evalue": "Error in View(top_100_cities_by_price): 'View()' not yet supported in the Jupyter R kernel\n",
     "output_type": "error",
     "traceback": [
      "Error in View(top_100_cities_by_price): 'View()' not yet supported in the Jupyter R kernel\nTraceback:\n",
      "1. View(top_100_cities_by_price)",
      "2. stop(sQuote(\"View()\"), \" not yet supported in the Jupyter R kernel\")"
     ]
    }
   ],
   "source": [
    "top_100_cities_by_price <- top_100_cities[order(-top_100_cities$median_price_USD, - top_100_cities$units),]\n",
    "View(top_100_cities_by_price)\n"
   ]
  },
  {
   "cell_type": "markdown",
   "metadata": {},
   "source": [
    "## Format data\n",
    "\n",
    "- Change median_price_USD to 2 decimal format\n",
    "- Uppercase states\n",
    "- Title case cities\n",
    "- Remove unit column -- excess information not requested"
   ]
  },
  {
   "cell_type": "code",
   "execution_count": 24,
   "metadata": {},
   "outputs": [
    {
     "ename": "ERROR",
     "evalue": "Error in View(top_100_cities_by_price): 'View()' not yet supported in the Jupyter R kernel\n",
     "output_type": "error",
     "traceback": [
      "Error in View(top_100_cities_by_price): 'View()' not yet supported in the Jupyter R kernel\nTraceback:\n",
      "1. View(top_100_cities_by_price)",
      "2. stop(sQuote(\"View()\"), \" not yet supported in the Jupyter R kernel\")"
     ]
    }
   ],
   "source": [
    "## USD Format\n",
    "top_100_cities_by_price$median_price_USD <- format( \n",
    "  round( top_100_cities_by_price$median_price_USD, 2), \n",
    "  nsmall = 2)\n",
    "View(top_100_cities_by_price)"
   ]
  },
  {
   "cell_type": "code",
   "execution_count": 25,
   "metadata": {},
   "outputs": [],
   "source": [
    "## Upper case states\n",
    "top_100_cities_by_price$state <- toupper(top_100_cities_by_price$state)"
   ]
  },
  {
   "cell_type": "code",
   "execution_count": 26,
   "metadata": {},
   "outputs": [],
   "source": [
    "# function to capitalize each word.\n",
    "capwords <- function(s, strict = FALSE) {\n",
    "  cap <- function(s) paste(toupper(substring(s, 1, 1)),\n",
    "                           {s <- substring(s, 2); if(strict) tolower(s) else s},\n",
    "                           sep = \"\", collapse = \" \" )\n",
    "  sapply(strsplit(s, split = \" \"), cap, USE.NAMES = !is.null(names(s)))\n",
    "}"
   ]
  },
  {
   "cell_type": "code",
   "execution_count": 27,
   "metadata": {},
   "outputs": [
    {
     "ename": "ERROR",
     "evalue": "Error in View(top_100_cities_by_price): 'View()' not yet supported in the Jupyter R kernel\n",
     "output_type": "error",
     "traceback": [
      "Error in View(top_100_cities_by_price): 'View()' not yet supported in the Jupyter R kernel\nTraceback:\n",
      "1. View(top_100_cities_by_price)",
      "2. stop(sQuote(\"View()\"), \" not yet supported in the Jupyter R kernel\")"
     ]
    }
   ],
   "source": [
    "top_100_cities_by_price$city <- capwords(top_100_cities_by_price$city)\n",
    "\n",
    "View(top_100_cities_by_price)"
   ]
  },
  {
   "cell_type": "code",
   "execution_count": 28,
   "metadata": {},
   "outputs": [
    {
     "ename": "ERROR",
     "evalue": "Error in View(top_100_cities_by_price): 'View()' not yet supported in the Jupyter R kernel\n",
     "output_type": "error",
     "traceback": [
      "Error in View(top_100_cities_by_price): 'View()' not yet supported in the Jupyter R kernel\nTraceback:\n",
      "1. View(top_100_cities_by_price)",
      "2. stop(sQuote(\"View()\"), \" not yet supported in the Jupyter R kernel\")"
     ]
    }
   ],
   "source": [
    "## Remove units & total_reviews column\n",
    "\n",
    "top_100_cities_by_price$units <- NULL\n",
    "top_100_cities_by_price$total_reviews <- NULL\n",
    "View(top_100_cities_by_price)"
   ]
  },
  {
   "cell_type": "markdown",
   "metadata": {},
   "source": [
    "# Export data\n",
    "Section Steps\n",
    "1. Pretty print table to console\n",
    "2. Export table to csv"
   ]
  },
  {
   "cell_type": "markdown",
   "metadata": {},
   "source": [
    "## Pretty print to console"
   ]
  },
  {
   "cell_type": "code",
   "execution_count": 29,
   "metadata": {},
   "outputs": [
    {
     "name": "stdout",
     "output_type": "stream",
     "text": [
      "                  city                state   median_price_USD  \n",
      "                ------------------------------------------------\n",
      "                  Indianapolis        IN      650.00            \n",
      "                  Malibu              CA      304.00            \n",
      "                  Park City           UT      299.00            \n",
      "                  Truckee             NV      275.00            \n",
      "                  Healdsburg          CA      275.00            \n",
      "                  Laguna Beach        CA      268.50            \n",
      "                  Incline Village     NV      259.00            \n",
      "                  Manhattan Beach     CA      209.00            \n",
      "                  Charlotte           NC      200.00            \n",
      "                  Sonoma              CA      200.00            \n",
      "                  Napa                CA      200.00            \n",
      "                  Austin              TX      199.00            \n",
      "                  La Jolla            CA      195.00            \n",
      "                  Sausalito           CA      190.00            \n",
      "                  Hermosa Beach       CA      189.50            \n",
      "                  Sunny Isles Beach   FL      180.00            \n",
      "                  New York            NY      170.00            \n",
      "                  Boston              MA      160.00            \n",
      "                  Newport Beach       CA      160.00            \n",
      "                  Beverly Hills       CA      160.00            \n",
      "                  Venice              CA      155.00            \n",
      "                  San Francisco       CA      150.00            \n",
      "                  Miami Beach         FL      150.00            \n",
      "                  New Orleans         LA      150.00            \n",
      "                  Miami               FL      150.00            \n",
      "                  Santa Monica        CA      150.00            \n",
      "                  Marina Del Rey      CA      150.00            \n",
      "                  Louisville          KY      150.00            \n",
      "                  Mill Valley         CA      150.00            \n",
      "                  Taos                NM      148.50            \n",
      "                  Sebastopol          CA      145.00            \n",
      "                  San Diego           CA      130.00            \n",
      "                  Washington          DC      129.00            \n",
      "                  West Hollywood      CA      129.00            \n",
      "                  Scottsdale          AZ      129.00            \n",
      "                  Cambridge           MA      125.00            \n",
      "                  Las Vegas           NV      125.00            \n",
      "                  Santa Cruz          CA      125.00            \n",
      "                  Charleston          SC      125.00            \n",
      "                  San Rafael          CA      125.00            \n",
      "                  Naples              FL      125.00            \n",
      "                  Anchorage           AK      123.50            \n",
      "                  Palo Alto           CA      120.00            \n",
      "                  Santa Rosa          CA      120.00            \n",
      "                  Brookline           MA      120.00            \n",
      "                  Hollywood           FL      115.50            \n",
      "                  Davenport           FL      113.00            \n",
      "                  Mountain View       CA      113.00            \n",
      "                  Colorado Springs    CO      113.00            \n",
      "                  Brooklyn            NY      110.00            \n",
      "                  Los Angeles         CA      110.00            \n",
      "                  Kissimmee           FL      110.00            \n",
      "                  Savannah            GA      107.00            \n",
      "                  Arlington           VA      106.50            \n",
      "                  Paris               RI      105.50            \n",
      "                  Honolulu            HI      105.00            \n",
      "                  Alexandria          VA      104.50            \n",
      "                  Chicago             IL      100.00            \n",
      "                  Seattle             WA      100.00            \n",
      "                  Philadelphia        PA      100.00            \n",
      "                  Berkeley            CA      100.00            \n",
      "                  Boulder             CO      100.00            \n",
      "                  Houston             TX      100.00            \n",
      "                  Fort Lauderdale     FL      100.00            \n",
      "                  Long Beach          CA      100.00            \n",
      "                  San Jose            CA      100.00            \n",
      "                  Somerville          MA      100.00            \n",
      "                  Tampa               FL      100.00            \n",
      "                  Carlsbad            CA      100.00            \n",
      "                  Pasadena            CA      99.50             \n",
      "                  Queens              NY      99.00             \n",
      "                  Minneapolis         MN      98.00             \n",
      "                  Ann Arbor           MI      98.00             \n",
      "                  Long Island City    NY      96.00             \n",
      "                  Oakland             CA      90.00             \n",
      "                  Tucson              AZ      90.00             \n",
      "                  Glendale            CA      90.00             \n",
      "                  Salt Lake City      UT      89.50             \n",
      "                  Atlanta             GA      89.00             \n",
      "                  Dallas              TX      87.00             \n",
      "                  Denver              CO      86.00             \n",
      "                  Phoenix             AZ      85.00             \n",
      "                  Jersey City         NJ      85.00             \n",
      "                  Eugene              OR      85.00             \n",
      "                  Providence          RI      85.00             \n",
      "                  Madison             WI      85.00             \n",
      "                  Nashville           TN      80.00             \n",
      "                  Baltimore           MD      80.00             \n",
      "                  Pittsburgh          PA      80.00             \n",
      "                  San Antonio         TX      80.00             \n",
      "                  Portland            OR      79.00             \n",
      "                  Orlando             FL      75.00             \n",
      "                  Bronx               NY      75.00             \n",
      "                  Albuquerque         NM      75.00             \n",
      "                  Silver Spring       MD      75.00             \n",
      "                  New Haven           CT      75.00             \n",
      "                  Cincinnati          OH      70.00             \n",
      "                  Sacramento          CA      65.00             \n",
      "                  Durham              NC      60.00             \n",
      "                  Raleigh             NC      60.00             "
     ]
    }
   ],
   "source": [
    "hux_top_100_cities_by_price <- \n",
    "  hux(top_100_cities_by_price) %>% \n",
    "  theme_basic() %>% \n",
    "  set_tb_padding(4)\n",
    "\n",
    "print_screen(hux_top_100_cities_by_price,\n",
    "             colnames = FALSE)"
   ]
  },
  {
   "cell_type": "markdown",
   "metadata": {},
   "source": [
    "## Export table"
   ]
  },
  {
   "cell_type": "code",
   "execution_count": 30,
   "metadata": {},
   "outputs": [],
   "source": [
    "solution_file_name = \"Miles_Jai_Priceonomics_Puzzle_Solution.csv\"\n",
    "\n",
    "write.csv(top_100_cities_by_price,\n",
    "          file = solution_file_name\n",
    "          )"
   ]
  },
  {
   "cell_type": "markdown",
   "metadata": {},
   "source": [
    "# Additional Analysis"
   ]
  },
  {
   "cell_type": "markdown",
   "metadata": {},
   "source": [
    "I did not expect Indianapolis, IN to have the highest median price.\n",
    "I expected it to be high, but I consider it curious that it ranks higher than  \n",
    "more populous, globally recognized cities like Los Angeles, and New York.\n",
    "This is where specific domain knowledge, e.g., about the housing market, would \n",
    "be useful to understand the data.\n",
    "\n",
    "Because the median is a robust statistic, the calculated unit price for Indianapolis, IN \n",
    "is not affected by outliers. I would be interested to closer inspect the city's data quartiles.\n",
    "It is possible that the data follows a bimodal distribution, and there are more rentals offered \n",
    "in the higher pricing cluster. This would explain a higher median."
   ]
  },
  {
   "cell_type": "code",
   "execution_count": 31,
   "metadata": {},
   "outputs": [
    {
     "ename": "ERROR",
     "evalue": "Error in View(data_indianapolis_in): 'View()' not yet supported in the Jupyter R kernel\n",
     "output_type": "error",
     "traceback": [
      "Error in View(data_indianapolis_in): 'View()' not yet supported in the Jupyter R kernel\nTraceback:\n",
      "1. View(data_indianapolis_in)",
      "2. stop(sQuote(\"View()\"), \" not yet supported in the Jupyter R kernel\")"
     ]
    }
   ],
   "source": [
    "data_indianapolis_in <- data_treefortbnb %>% \n",
    "  filter(state == \"in\", city == \"indianapolis\")\n",
    "\n",
    "View(data_indianapolis_in)\n",
    "\n",
    "data_indianapolis_in %>% \n",
    "  summarise(\n",
    "    num_units = n(),\n",
    "    mean_cost = mean(price_USD),\n",
    "    st_dev = sd(price_USD),\n",
    "    min_price = min(price_USD),\n",
    "    max_price = max(price_USD)\n",
    "  )"
   ]
  },
  {
   "cell_type": "code",
   "execution_count": 32,
   "metadata": {},
   "outputs": [
    {
     "data": {
      "text/html": [
       "'Note: slight difficulties with quantiles in dplyr. Need to pre-define quantiles, names, and functions before running.'"
      ],
      "text/latex": [
       "'Note: slight difficulties with quantiles in dplyr. Need to pre-define quantiles, names, and functions before running.'"
      ],
      "text/markdown": [
       "'Note: slight difficulties with quantiles in dplyr. Need to pre-define quantiles, names, and functions before running.'"
      ],
      "text/plain": [
       "[1] \"Note: slight difficulties with quantiles in dplyr. Need to pre-define quantiles, names, and functions before running.\""
      ]
     },
     "metadata": {},
     "output_type": "display_data"
    },
    {
     "data": {
      "text/html": [
       "<dl>\n",
       "\t<dt>$`25%`</dt>\n",
       "\t\t<dd><pre class=language-r><code>structure(function (...) \n",
       "{\n",
       "<span style=white-space:pre-wrap>    env_bind(mask, ... = env_get(current_env(), \"...\"))</span>\n",
       "<span style=white-space:pre-wrap>    eval_tidy(call, mask)</span>\n",
       "}, class = c(\"purrr_function_partial\", \"function\"), body = ~(function (x, \n",
       "<span style=white-space:pre-wrap>    ...) </span>\n",
       "UseMethod(\"quantile\"))(probs = .x, na.rm = TRUE, ...), fn = quantile)</code></pre></dd>\n",
       "\t<dt>$`50%`</dt>\n",
       "\t\t<dd><pre class=language-r><code>structure(function (...) \n",
       "{\n",
       "<span style=white-space:pre-wrap>    env_bind(mask, ... = env_get(current_env(), \"...\"))</span>\n",
       "<span style=white-space:pre-wrap>    eval_tidy(call, mask)</span>\n",
       "}, class = c(\"purrr_function_partial\", \"function\"), body = ~(function (x, \n",
       "<span style=white-space:pre-wrap>    ...) </span>\n",
       "UseMethod(\"quantile\"))(probs = .x, na.rm = TRUE, ...), fn = quantile)</code></pre></dd>\n",
       "\t<dt>$`75%`</dt>\n",
       "\t\t<dd><pre class=language-r><code>structure(function (...) \n",
       "{\n",
       "<span style=white-space:pre-wrap>    env_bind(mask, ... = env_get(current_env(), \"...\"))</span>\n",
       "<span style=white-space:pre-wrap>    eval_tidy(call, mask)</span>\n",
       "}, class = c(\"purrr_function_partial\", \"function\"), body = ~(function (x, \n",
       "<span style=white-space:pre-wrap>    ...) </span>\n",
       "UseMethod(\"quantile\"))(probs = .x, na.rm = TRUE, ...), fn = quantile)</code></pre></dd>\n",
       "</dl>\n"
      ],
      "text/latex": [
       "\\begin{description}\n",
       "\\item[\\$`25\\%`] \\begin{minted}{r}\n",
       "structure(function (...) \n",
       "\\{\n",
       "    env\\_bind(mask, ... = env\\_get(current\\_env(), \"...\"))\n",
       "    eval\\_tidy(call, mask)\n",
       "\\}, class = c(\"purrr\\_function\\_partial\", \"function\"), body = \\textasciitilde{}(function (x, \n",
       "    ...) \n",
       "UseMethod(\"quantile\"))(probs = .x, na.rm = TRUE, ...), fn = quantile)\n",
       "\\end{minted}\n",
       "\\item[\\$`50\\%`] \\begin{minted}{r}\n",
       "structure(function (...) \n",
       "\\{\n",
       "    env\\_bind(mask, ... = env\\_get(current\\_env(), \"...\"))\n",
       "    eval\\_tidy(call, mask)\n",
       "\\}, class = c(\"purrr\\_function\\_partial\", \"function\"), body = \\textasciitilde{}(function (x, \n",
       "    ...) \n",
       "UseMethod(\"quantile\"))(probs = .x, na.rm = TRUE, ...), fn = quantile)\n",
       "\\end{minted}\n",
       "\\item[\\$`75\\%`] \\begin{minted}{r}\n",
       "structure(function (...) \n",
       "\\{\n",
       "    env\\_bind(mask, ... = env\\_get(current\\_env(), \"...\"))\n",
       "    eval\\_tidy(call, mask)\n",
       "\\}, class = c(\"purrr\\_function\\_partial\", \"function\"), body = \\textasciitilde{}(function (x, \n",
       "    ...) \n",
       "UseMethod(\"quantile\"))(probs = .x, na.rm = TRUE, ...), fn = quantile)\n",
       "\\end{minted}\n",
       "\\end{description}\n"
      ],
      "text/markdown": [
       "$`25%`\n",
       ":   ```r\n",
       "structure(function (...) \n",
       "{\n",
       "    env_bind(mask, ... = env_get(current_env(), \"...\"))\n",
       "    eval_tidy(call, mask)\n",
       "}, class = c(\"purrr_function_partial\", \"function\"), body = ~(function (x, \n",
       "    ...) \n",
       "UseMethod(\"quantile\"))(probs = .x, na.rm = TRUE, ...), fn = quantile)\n",
       "```\n",
       "$`50%`\n",
       ":   ```r\n",
       "structure(function (...) \n",
       "{\n",
       "    env_bind(mask, ... = env_get(current_env(), \"...\"))\n",
       "    eval_tidy(call, mask)\n",
       "}, class = c(\"purrr_function_partial\", \"function\"), body = ~(function (x, \n",
       "    ...) \n",
       "UseMethod(\"quantile\"))(probs = .x, na.rm = TRUE, ...), fn = quantile)\n",
       "```\n",
       "$`75%`\n",
       ":   ```r\n",
       "structure(function (...) \n",
       "{\n",
       "    env_bind(mask, ... = env_get(current_env(), \"...\"))\n",
       "    eval_tidy(call, mask)\n",
       "}, class = c(\"purrr_function_partial\", \"function\"), body = ~(function (x, \n",
       "    ...) \n",
       "UseMethod(\"quantile\"))(probs = .x, na.rm = TRUE, ...), fn = quantile)\n",
       "```\n",
       "\n",
       "\n"
      ],
      "text/plain": [
       "$`25%`\n",
       "<partialised>\n",
       "function (...) \n",
       "quantile(probs = .x, na.rm = TRUE, ...)\n",
       "\n",
       "$`50%`\n",
       "<partialised>\n",
       "function (...) \n",
       "quantile(probs = .x, na.rm = TRUE, ...)\n",
       "\n",
       "$`75%`\n",
       "<partialised>\n",
       "function (...) \n",
       "quantile(probs = .x, na.rm = TRUE, ...)\n"
      ]
     },
     "metadata": {},
     "output_type": "display_data"
    }
   ],
   "source": [
    "\"Note: slight difficulties with quantiles in dplyr. Need to pre-define quantiles, names, and functions before running.\"\n",
    "percents <- c(0.25, 0.5, 0.75)    # define quantiles of interest\n",
    "perc_names <- map_chr(percents, ~paste0(.x * 100, \"%\"))   # Create quantile names.\n",
    "p_funcs <- map(percents, ~ partial(quantile, probs = .x, na.rm = TRUE)) %>% \n",
    "  set_names(nm = perc_names)\n",
    "p_funcs"
   ]
  },
  {
   "cell_type": "code",
   "execution_count": 33,
   "metadata": {},
   "outputs": [
    {
     "name": "stderr",
     "output_type": "stream",
     "text": [
      "Warning message:\n",
      "\"funs() is soft deprecated as of dplyr 0.8.0\n",
      "please use list() instead\n",
      "\n",
      "# Before:\n",
      "funs(name = f(.)\n",
      "\n",
      "# After: \n",
      "list(name = ~f(.))\n",
      "This warning is displayed once per session.\""
     ]
    },
    {
     "data": {
      "text/html": [
       "<table>\n",
       "<thead><tr><th scope=col>25%</th><th scope=col>50%</th><th scope=col>75%</th></tr></thead>\n",
       "<tbody>\n",
       "\t<tr><td>162.5</td><td>650  </td><td>1200 </td></tr>\n",
       "</tbody>\n",
       "</table>\n"
      ],
      "text/latex": [
       "\\begin{tabular}{r|lll}\n",
       " 25\\% & 50\\% & 75\\%\\\\\n",
       "\\hline\n",
       "\t 162.5 & 650   & 1200 \\\\\n",
       "\\end{tabular}\n"
      ],
      "text/markdown": [
       "\n",
       "| 25% | 50% | 75% |\n",
       "|---|---|---|\n",
       "| 162.5 | 650   | 1200  |\n",
       "\n"
      ],
      "text/plain": [
       "  25%   50% 75% \n",
       "1 162.5 650 1200"
      ]
     },
     "metadata": {},
     "output_type": "display_data"
    }
   ],
   "source": [
    "data_indianapolis_in %>% \n",
    "  summarise_at(\n",
    "    vars(price_USD), funs(!!!p_funcs)\n",
    "  )\n"
   ]
  },
  {
   "cell_type": "markdown",
   "metadata": {},
   "source": [
    "Wow! Maximum price of 5,500 and q3 at 1,200. Something is definitely happening with the\n",
    "treehouse market in Indianapolis."
   ]
  },
  {
   "cell_type": "code",
   "execution_count": 37,
   "metadata": {},
   "outputs": [
    {
     "name": "stderr",
     "output_type": "stream",
     "text": [
      "Warning message:\n",
      "\"Continuous x aesthetic -- did you forget aes(group=...)?\"ERROR while rich displaying an object: Error: stat_boxplot requires the following missing aesthetics: y\n",
      "\n",
      "Traceback:\n",
      "1. FUN(X[[i]], ...)\n",
      "2. tryCatch(withCallingHandlers({\n",
      " .     if (!mime %in% names(repr::mime2repr)) \n",
      " .         stop(\"No repr_* for mimetype \", mime, \" in repr::mime2repr\")\n",
      " .     rpr <- repr::mime2repr[[mime]](obj)\n",
      " .     if (is.null(rpr)) \n",
      " .         return(NULL)\n",
      " .     prepare_content(is.raw(rpr), rpr)\n",
      " . }, error = error_handler), error = outer_handler)\n",
      "3. tryCatchList(expr, classes, parentenv, handlers)\n",
      "4. tryCatchOne(expr, names, parentenv, handlers[[1L]])\n",
      "5. doTryCatch(return(expr), name, parentenv, handler)\n",
      "6. withCallingHandlers({\n",
      " .     if (!mime %in% names(repr::mime2repr)) \n",
      " .         stop(\"No repr_* for mimetype \", mime, \" in repr::mime2repr\")\n",
      " .     rpr <- repr::mime2repr[[mime]](obj)\n",
      " .     if (is.null(rpr)) \n",
      " .         return(NULL)\n",
      " .     prepare_content(is.raw(rpr), rpr)\n",
      " . }, error = error_handler)\n",
      "7. repr::mime2repr[[mime]](obj)\n",
      "8. repr_text.default(obj)\n",
      "9. paste(capture.output(print(obj)), collapse = \"\\n\")\n",
      "10. capture.output(print(obj))\n",
      "11. evalVis(expr)\n",
      "12. withVisible(eval(expr, pf))\n",
      "13. eval(expr, pf)\n",
      "14. eval(expr, pf)\n",
      "15. print(obj)\n",
      "16. print.ggplot(obj)\n",
      "17. ggplot_build(x)\n",
      "18. ggplot_build.ggplot(x)\n",
      "19. by_layer(function(l, d) l$compute_statistic(d, layout))\n",
      "20. f(l = layers[[i]], d = data[[i]])\n",
      "21. l$compute_statistic(d, layout)\n",
      "22. f(..., self = self)\n",
      "23. self$stat$compute_layer(data, params, layout)\n",
      "24. f(..., self = self)\n",
      "25. check_required_aesthetics(self$required_aes, c(names(data), names(params)), \n",
      "  .     snake_class(self))\n",
      "26. stop(name, \" requires the following missing aesthetics: \", paste(missing_aes, \n",
      "  .     collapse = \", \"), call. = FALSE)\n"
     ]
    },
    {
     "data": {
      "image/png": "[encoded data removed]",
      "text/plain": [
       "plot without title"
      ]
     },
     "metadata": {},
     "output_type": "display_data"
    }
   ],
   "source": [
    "ggplot(data = data_indianapolis_in, mapping = aes(x = price_USD)) + \n",
    "  geom_boxplot()\n"
   ]
  },
  {
   "cell_type": "markdown",
   "metadata": {},
   "source": [
    "There are quite a few outliers past 2,000 USD.\n",
    "The spirit of a central measure (median above) is to get something normal. \n",
    "With 251 observations, I still would not call anything in excess of $2,000 normal.\n",
    "\n",
    "Let's plot this data vs the number of reviews."
   ]
  },
  {
   "cell_type": "code",
   "execution_count": 38,
   "metadata": {},
   "outputs": [
    {
     "data": {
      "text/html": [
       "<ol class=list-inline>\n",
       "\t<li>'id'</li>\n",
       "\t<li>'city'</li>\n",
       "\t<li>'state'</li>\n",
       "\t<li>'price_USD'</li>\n",
       "\t<li>'num_reviews'</li>\n",
       "</ol>\n"
      ],
      "text/latex": [
       "\\begin{enumerate*}\n",
       "\\item 'id'\n",
       "\\item 'city'\n",
       "\\item 'state'\n",
       "\\item 'price\\_USD'\n",
       "\\item 'num\\_reviews'\n",
       "\\end{enumerate*}\n"
      ],
      "text/markdown": [
       "1. 'id'\n",
       "2. 'city'\n",
       "3. 'state'\n",
       "4. 'price_USD'\n",
       "5. 'num_reviews'\n",
       "\n",
       "\n"
      ],
      "text/plain": [
       "[1] \"id\"          \"city\"        \"state\"       \"price_USD\"   \"num_reviews\""
      ]
     },
     "metadata": {},
     "output_type": "display_data"
    },
    {
     "name": "stderr",
     "output_type": "stream",
     "text": [
      "`geom_smooth()` using method = 'loess' and formula 'y ~ x'\n"
     ]
    },
    {
     "data": {
      "image/png": "[encoded data removed]",
      "text/plain": [
       "plot without title"
      ]
     },
     "metadata": {},
     "output_type": "display_data"
    }
   ],
   "source": [
    "colnames(data_indianapolis_in)\n",
    "ggplot(data = data_indianapolis_in, \n",
    "       mapping = aes(x = price_USD, y = num_reviews)\n",
    "       ) + \n",
    "  geom_point() +\n",
    "  geom_smooth() +  # regression line\n",
    "  ggtitle(\"Price vs num reviews in Indianapolis, IN\")\n"
   ]
  },
  {
   "cell_type": "markdown",
   "metadata": {},
   "source": [
    "The graph shows that prices above $1,000 USD have 0 reviews.\n",
    "If we consider reviews to be a proxy variable for visits, we can assume that these\n",
    "units do not constitute normal treefortBnb experiences."
   ]
  },
  {
   "cell_type": "markdown",
   "metadata": {},
   "source": [
    "## Investigate cities outside top 100"
   ]
  },
  {
   "cell_type": "code",
   "execution_count": 39,
   "metadata": {
    "scrolled": true
   },
   "outputs": [
    {
     "ename": "ERROR",
     "evalue": "Error in View(lower_median_cost_per_city): 'View()' not yet supported in the Jupyter R kernel\n",
     "output_type": "error",
     "traceback": [
      "Error in View(lower_median_cost_per_city): 'View()' not yet supported in the Jupyter R kernel\nTraceback:\n",
      "1. View(lower_median_cost_per_city)",
      "2. stop(sQuote(\"View()\"), \" not yet supported in the Jupyter R kernel\")"
     ]
    }
   ],
   "source": [
    "lower_median_cost_per_city <- tail(median_cost_per_city, 24)\n",
    "View(lower_median_cost_per_city)"
   ]
  },
  {
   "cell_type": "markdown",
   "metadata": {},
   "source": [
    "Looking at the  median cost per city outside of the top 100, there are 12 cities with a \n",
    "single unit available. Many of these cities with a single unit have no reviews, \n",
    "while 3/4 of the cities with 2 units have 10+ reviews.\n",
    "\n",
    "Many of these cities are duplicate names, e.g., Berkeley, CO. \n",
    "Upon further investigation, I discovered that Berkeley is a neighborhood city in Denver.\n",
    "[Source](https://en.wikipedia.org/wiki/Berkeley,_Denver)\n",
    "\n",
    "I would be interested in double checking these low-entry units for clerical errors.\n",
    "In the case of Berkeley, CO, this may reflect the data entry system and the correct\n",
    "city is Berkeley, CA."
   ]
  },
  {
   "cell_type": "code",
   "execution_count": null,
   "metadata": {},
   "outputs": [],
   "source": []
  }
 ],
 "metadata": {
  "kernelspec": {
   "display_name": "R",
   "language": "R",
   "name": "ir"
  },
  "language_info": {
   "codemirror_mode": "r",
   "file_extension": ".r",
   "mimetype": "text/x-r-source",
   "name": "R",
   "pygments_lexer": "r",
   "version": "3.6.1"
  }
 },
 "nbformat": 4,
 "nbformat_minor": 4
}
